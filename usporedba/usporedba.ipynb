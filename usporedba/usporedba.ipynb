{
 "cells": [
  {
   "cell_type": "code",
   "execution_count": 1,
   "id": "initial_id",
   "metadata": {
    "collapsed": true,
    "ExecuteTime": {
     "end_time": "2024-03-12T19:44:30.271776500Z",
     "start_time": "2024-03-12T19:44:21.273905400Z"
    }
   },
   "outputs": [],
   "source": [
    "import pandas as pd\n",
    "from my_functions import obrada, get_limits, generate_all_timestamps, make_table, check_holes_better,  filter_rows\n",
    "import numpy as np\n",
    "from matplotlib import pyplot as plt"
   ]
  },
  {
   "cell_type": "code",
   "execution_count": 18,
   "outputs": [
    {
     "name": "stdout",
     "output_type": "stream",
     "text": [
      "Index(['id', 'time', 'energy', 'total_active_power',\n",
      "       'demand_total_active_power', 'maximum_demand_total_active_power', 'i1',\n",
      "       'i2', 'i3', 'u12', 'u23', 'u13', 'v1', 'v2', 'v3', 'device',\n",
      "       'total_power_factor', 'total_apparent_power'],\n",
      "      dtype='object')\n"
     ]
    }
   ],
   "source": [
    "df = pd.read_csv(r'postgres_public_measurements_dev.csv', parse_dates=['time'], encoding='latin1')\n",
    "#odredivanje svih uredaja\n",
    "devices = df['device'].unique()\n",
    "columns = df.columns\n",
    "\n",
    "print(columns)"
   ],
   "metadata": {
    "collapsed": false,
    "ExecuteTime": {
     "end_time": "2024-03-12T20:12:34.803670200Z",
     "start_time": "2024-03-12T20:12:34.741186100Z"
    }
   },
   "id": "c78dc073c84afa7d"
  },
  {
   "cell_type": "code",
   "execution_count": 3,
   "outputs": [],
   "source": [
    "#izrada csvova za svaki uredaj\n",
    "for device in devices:\n",
    "    df[df['device']==device].to_csv(\"{}_dev.csv\".format(device), index=False)"
   ],
   "metadata": {
    "collapsed": false,
    "ExecuteTime": {
     "end_time": "2024-03-11T17:21:49.877455200Z",
     "start_time": "2024-03-11T17:21:49.736567Z"
    }
   },
   "id": "26b6f6f6dd87e32f"
  },
  {
   "cell_type": "code",
   "execution_count": 4,
   "outputs": [],
   "source": [
    "df2 = pd.read_csv(r'postgres_public_measurements_prod.csv', parse_dates=['time'], encoding='latin1')\n",
    "devices2 = df['device'].unique()\n",
    "for device in devices2:\n",
    "    df2[df2['device']==device].to_csv(\"{}_prod.csv\".format(device), index=False)"
   ],
   "metadata": {
    "collapsed": false,
    "ExecuteTime": {
     "end_time": "2024-03-11T17:24:18.221654500Z",
     "start_time": "2024-03-11T17:24:17.732826Z"
    }
   },
   "id": "528a4b723923bd03"
  },
  {
   "cell_type": "code",
   "execution_count": 29,
   "outputs": [],
   "source": [
    "#sad nekako spojit dev i prod po uredaju u jednu, novu tablicu\n",
    "df = pd.read_csv(r'Aparat za kavu_dev.csv', parse_dates=['time'], encoding='latin1')\n",
    "\n",
    "#najmanja udaljenost susjednih kolona, bilo što što je bliže trenutku od pola minimuma moze se 'poistovjetiti' kao isti trenutak"
   ],
   "metadata": {
    "collapsed": false,
    "ExecuteTime": {
     "end_time": "2024-03-11T20:22:59.118559600Z",
     "start_time": "2024-03-11T20:22:59.086890500Z"
    }
   },
   "id": "12c8ecb2de8f033e"
  },
  {
   "cell_type": "code",
   "execution_count": 14,
   "outputs": [
    {
     "name": "stdout",
     "output_type": "stream",
     "text": [
      "0 days 00:00:01.985746\n"
     ]
    }
   ],
   "source": [
    "df['diff']=df['time'].diff(periods=-1)\n",
    "minimum=df['diff'].min()\n",
    "print(minimum)"
   ],
   "metadata": {
    "collapsed": false,
    "ExecuteTime": {
     "end_time": "2024-03-11T19:49:26.344208800Z",
     "start_time": "2024-03-11T19:49:26.312924100Z"
    }
   },
   "id": "f53bf87b929dfc7e"
  },
  {
   "cell_type": "code",
   "execution_count": 30,
   "outputs": [],
   "source": [
    "#sad nekako spojit dev i prod po uredaju u jednu, novu tablicu\n",
    "df2 = pd.read_csv(r'Aparat za kavu_prod.csv', parse_dates=['time'], encoding='latin1')\n",
    "\n",
    "#najmanja udaljenost susjednih kolona, bilo što što je bliže trenutku od pola minimuma moze se 'poistovjetiti' kao isti trenutak"
   ],
   "metadata": {
    "collapsed": false,
    "ExecuteTime": {
     "end_time": "2024-03-11T20:23:04.496770600Z",
     "start_time": "2024-03-11T20:23:04.465083300Z"
    }
   },
   "id": "284ee2f842318683"
  },
  {
   "cell_type": "code",
   "execution_count": null,
   "outputs": [],
   "source": [
    "df2['diff']=df2['time'].diff(periods=-1)\n",
    "minimum2=df2['diff'].min()\n",
    "print(minimum2)"
   ],
   "metadata": {
    "collapsed": false
   },
   "id": "6aed01dc5a8d4b37"
  },
  {
   "cell_type": "code",
   "execution_count": null,
   "outputs": [],
   "source": [
    "df.drop(columns=['diff'], inplace=True)\n",
    "df2.drop(columns=['diff'], inplace=True)"
   ],
   "metadata": {
    "collapsed": false
   },
   "id": "3a23b0ed61057315"
  },
  {
   "cell_type": "code",
   "execution_count": 31,
   "outputs": [],
   "source": [
    "df=df.sort_values('time')\n",
    "df2=df2.sort_values('time')"
   ],
   "metadata": {
    "collapsed": false,
    "ExecuteTime": {
     "end_time": "2024-03-11T20:23:10.366145300Z",
     "start_time": "2024-03-11T20:23:10.334902600Z"
    }
   },
   "id": "e3d8f0495681557e"
  },
  {
   "cell_type": "code",
   "execution_count": 32,
   "outputs": [],
   "source": [
    "df=df.rename(columns={'time': 'time_dev'})\n",
    "df2=df2.rename(columns={'time': 'time_prod'})"
   ],
   "metadata": {
    "collapsed": false,
    "ExecuteTime": {
     "end_time": "2024-03-11T20:23:13.765103Z",
     "start_time": "2024-03-11T20:23:13.733822800Z"
    }
   },
   "id": "dd4d0f6b78eda2bd"
  },
  {
   "cell_type": "code",
   "execution_count": 58,
   "outputs": [
    {
     "data": {
      "text/plain": "          id                   time_dev    energy  total_active_power  \\\n299  1296352 2024-02-12 16:00:00.001248  10638286                 0.0   \n298  1296377 2024-02-12 16:00:02.001569  10638286                 0.0   \n297  1296402 2024-02-12 16:00:04.000326  10638286                 0.0   \n296  1296427 2024-02-12 16:00:06.001488  10638286                 0.0   \n295  1296452 2024-02-12 16:00:08.000475  10638286                 0.0   \n..       ...                        ...       ...                 ...   \n4    1303727 2024-02-12 16:09:50.000329  10638333                 0.0   \n3    1303752 2024-02-12 16:09:52.000628  10638333                 0.0   \n2    1303777 2024-02-12 16:09:54.000515  10638333                 0.0   \n1    1303802 2024-02-12 16:09:56.000207  10638333                 0.0   \n0    1303827 2024-02-12 16:09:58.001472  10638333                 0.0   \n\n     demand_total_active_power  maximum_demand_total_active_power   i1   i2  \\\n299                 287.283325                         38795.0625  0.0  0.0   \n298                 287.283325                         38795.0625  0.0  0.0   \n297                 287.283325                         38795.0625  0.0  0.0   \n296                 287.283325                         38795.0625  0.0  0.0   \n295                 287.283325                         38795.0625  0.0  0.0   \n..                         ...                                ...  ...  ...   \n4                   288.166687                         38795.0625  0.0  0.0   \n3                   288.166687                         38795.0625  0.0  0.0   \n2                   288.166687                         38795.0625  0.0  0.0   \n1                   288.166687                         38795.0625  0.0  0.0   \n0                   288.166687                         38795.0625  0.0  0.0   \n\n      i3         u12         u23         u13  v1  v2  v3          device  \\\n299  0.0  400.000000  401.100006  400.500000 NaN NaN NaN  Aparat za kavu   \n298  0.0  400.299988  401.500000  400.600006 NaN NaN NaN  Aparat za kavu   \n297  0.0  400.299988  401.500000  400.600006 NaN NaN NaN  Aparat za kavu   \n296  0.0  400.299988  401.299988  400.500000 NaN NaN NaN  Aparat za kavu   \n295  0.0  400.299988  401.299988  400.500000 NaN NaN NaN  Aparat za kavu   \n..   ...         ...         ...         ...  ..  ..  ..             ...   \n4    0.0  400.600006  401.100006  400.200012 NaN NaN NaN  Aparat za kavu   \n3    0.0  400.799988  401.299988  400.200012 NaN NaN NaN  Aparat za kavu   \n2    0.0  400.799988  401.299988  400.200012 NaN NaN NaN  Aparat za kavu   \n1    0.0  400.600006  401.200012  400.100006 NaN NaN NaN  Aparat za kavu   \n0    0.0  400.600006  401.200012  400.100006 NaN NaN NaN  Aparat za kavu   \n\n     total_power_factor  total_apparent_power  \n299                 NaN                   0.0  \n298                 NaN                   0.0  \n297                 NaN                   0.0  \n296                 NaN                   0.0  \n295                 NaN                   0.0  \n..                  ...                   ...  \n4                   NaN                   0.0  \n3                   NaN                   0.0  \n2                   NaN                   0.0  \n1                   NaN                   0.0  \n0                   NaN                   0.0  \n\n[300 rows x 18 columns]",
      "text/html": "<div>\n<style scoped>\n    .dataframe tbody tr th:only-of-type {\n        vertical-align: middle;\n    }\n\n    .dataframe tbody tr th {\n        vertical-align: top;\n    }\n\n    .dataframe thead th {\n        text-align: right;\n    }\n</style>\n<table border=\"1\" class=\"dataframe\">\n  <thead>\n    <tr style=\"text-align: right;\">\n      <th></th>\n      <th>id</th>\n      <th>time_dev</th>\n      <th>energy</th>\n      <th>total_active_power</th>\n      <th>demand_total_active_power</th>\n      <th>maximum_demand_total_active_power</th>\n      <th>i1</th>\n      <th>i2</th>\n      <th>i3</th>\n      <th>u12</th>\n      <th>u23</th>\n      <th>u13</th>\n      <th>v1</th>\n      <th>v2</th>\n      <th>v3</th>\n      <th>device</th>\n      <th>total_power_factor</th>\n      <th>total_apparent_power</th>\n    </tr>\n  </thead>\n  <tbody>\n    <tr>\n      <th>299</th>\n      <td>1296352</td>\n      <td>2024-02-12 16:00:00.001248</td>\n      <td>10638286</td>\n      <td>0.0</td>\n      <td>287.283325</td>\n      <td>38795.0625</td>\n      <td>0.0</td>\n      <td>0.0</td>\n      <td>0.0</td>\n      <td>400.000000</td>\n      <td>401.100006</td>\n      <td>400.500000</td>\n      <td>NaN</td>\n      <td>NaN</td>\n      <td>NaN</td>\n      <td>Aparat za kavu</td>\n      <td>NaN</td>\n      <td>0.0</td>\n    </tr>\n    <tr>\n      <th>298</th>\n      <td>1296377</td>\n      <td>2024-02-12 16:00:02.001569</td>\n      <td>10638286</td>\n      <td>0.0</td>\n      <td>287.283325</td>\n      <td>38795.0625</td>\n      <td>0.0</td>\n      <td>0.0</td>\n      <td>0.0</td>\n      <td>400.299988</td>\n      <td>401.500000</td>\n      <td>400.600006</td>\n      <td>NaN</td>\n      <td>NaN</td>\n      <td>NaN</td>\n      <td>Aparat za kavu</td>\n      <td>NaN</td>\n      <td>0.0</td>\n    </tr>\n    <tr>\n      <th>297</th>\n      <td>1296402</td>\n      <td>2024-02-12 16:00:04.000326</td>\n      <td>10638286</td>\n      <td>0.0</td>\n      <td>287.283325</td>\n      <td>38795.0625</td>\n      <td>0.0</td>\n      <td>0.0</td>\n      <td>0.0</td>\n      <td>400.299988</td>\n      <td>401.500000</td>\n      <td>400.600006</td>\n      <td>NaN</td>\n      <td>NaN</td>\n      <td>NaN</td>\n      <td>Aparat za kavu</td>\n      <td>NaN</td>\n      <td>0.0</td>\n    </tr>\n    <tr>\n      <th>296</th>\n      <td>1296427</td>\n      <td>2024-02-12 16:00:06.001488</td>\n      <td>10638286</td>\n      <td>0.0</td>\n      <td>287.283325</td>\n      <td>38795.0625</td>\n      <td>0.0</td>\n      <td>0.0</td>\n      <td>0.0</td>\n      <td>400.299988</td>\n      <td>401.299988</td>\n      <td>400.500000</td>\n      <td>NaN</td>\n      <td>NaN</td>\n      <td>NaN</td>\n      <td>Aparat za kavu</td>\n      <td>NaN</td>\n      <td>0.0</td>\n    </tr>\n    <tr>\n      <th>295</th>\n      <td>1296452</td>\n      <td>2024-02-12 16:00:08.000475</td>\n      <td>10638286</td>\n      <td>0.0</td>\n      <td>287.283325</td>\n      <td>38795.0625</td>\n      <td>0.0</td>\n      <td>0.0</td>\n      <td>0.0</td>\n      <td>400.299988</td>\n      <td>401.299988</td>\n      <td>400.500000</td>\n      <td>NaN</td>\n      <td>NaN</td>\n      <td>NaN</td>\n      <td>Aparat za kavu</td>\n      <td>NaN</td>\n      <td>0.0</td>\n    </tr>\n    <tr>\n      <th>...</th>\n      <td>...</td>\n      <td>...</td>\n      <td>...</td>\n      <td>...</td>\n      <td>...</td>\n      <td>...</td>\n      <td>...</td>\n      <td>...</td>\n      <td>...</td>\n      <td>...</td>\n      <td>...</td>\n      <td>...</td>\n      <td>...</td>\n      <td>...</td>\n      <td>...</td>\n      <td>...</td>\n      <td>...</td>\n      <td>...</td>\n    </tr>\n    <tr>\n      <th>4</th>\n      <td>1303727</td>\n      <td>2024-02-12 16:09:50.000329</td>\n      <td>10638333</td>\n      <td>0.0</td>\n      <td>288.166687</td>\n      <td>38795.0625</td>\n      <td>0.0</td>\n      <td>0.0</td>\n      <td>0.0</td>\n      <td>400.600006</td>\n      <td>401.100006</td>\n      <td>400.200012</td>\n      <td>NaN</td>\n      <td>NaN</td>\n      <td>NaN</td>\n      <td>Aparat za kavu</td>\n      <td>NaN</td>\n      <td>0.0</td>\n    </tr>\n    <tr>\n      <th>3</th>\n      <td>1303752</td>\n      <td>2024-02-12 16:09:52.000628</td>\n      <td>10638333</td>\n      <td>0.0</td>\n      <td>288.166687</td>\n      <td>38795.0625</td>\n      <td>0.0</td>\n      <td>0.0</td>\n      <td>0.0</td>\n      <td>400.799988</td>\n      <td>401.299988</td>\n      <td>400.200012</td>\n      <td>NaN</td>\n      <td>NaN</td>\n      <td>NaN</td>\n      <td>Aparat za kavu</td>\n      <td>NaN</td>\n      <td>0.0</td>\n    </tr>\n    <tr>\n      <th>2</th>\n      <td>1303777</td>\n      <td>2024-02-12 16:09:54.000515</td>\n      <td>10638333</td>\n      <td>0.0</td>\n      <td>288.166687</td>\n      <td>38795.0625</td>\n      <td>0.0</td>\n      <td>0.0</td>\n      <td>0.0</td>\n      <td>400.799988</td>\n      <td>401.299988</td>\n      <td>400.200012</td>\n      <td>NaN</td>\n      <td>NaN</td>\n      <td>NaN</td>\n      <td>Aparat za kavu</td>\n      <td>NaN</td>\n      <td>0.0</td>\n    </tr>\n    <tr>\n      <th>1</th>\n      <td>1303802</td>\n      <td>2024-02-12 16:09:56.000207</td>\n      <td>10638333</td>\n      <td>0.0</td>\n      <td>288.166687</td>\n      <td>38795.0625</td>\n      <td>0.0</td>\n      <td>0.0</td>\n      <td>0.0</td>\n      <td>400.600006</td>\n      <td>401.200012</td>\n      <td>400.100006</td>\n      <td>NaN</td>\n      <td>NaN</td>\n      <td>NaN</td>\n      <td>Aparat za kavu</td>\n      <td>NaN</td>\n      <td>0.0</td>\n    </tr>\n    <tr>\n      <th>0</th>\n      <td>1303827</td>\n      <td>2024-02-12 16:09:58.001472</td>\n      <td>10638333</td>\n      <td>0.0</td>\n      <td>288.166687</td>\n      <td>38795.0625</td>\n      <td>0.0</td>\n      <td>0.0</td>\n      <td>0.0</td>\n      <td>400.600006</td>\n      <td>401.200012</td>\n      <td>400.100006</td>\n      <td>NaN</td>\n      <td>NaN</td>\n      <td>NaN</td>\n      <td>Aparat za kavu</td>\n      <td>NaN</td>\n      <td>0.0</td>\n    </tr>\n  </tbody>\n</table>\n<p>300 rows × 18 columns</p>\n</div>"
     },
     "execution_count": 58,
     "metadata": {},
     "output_type": "execute_result"
    }
   ],
   "source": [
    "df"
   ],
   "metadata": {
    "collapsed": false,
    "ExecuteTime": {
     "end_time": "2024-03-11T20:46:20.698785700Z",
     "start_time": "2024-03-11T20:46:20.620505900Z"
    }
   },
   "id": "11672799a34e33a4"
  },
  {
   "cell_type": "code",
   "execution_count": 60,
   "outputs": [
    {
     "data": {
      "text/plain": "False"
     },
     "execution_count": 60,
     "metadata": {},
     "output_type": "execute_result"
    }
   ],
   "source": [
    "df2['time_prod'].duplicated().any()\n"
   ],
   "metadata": {
    "collapsed": false,
    "ExecuteTime": {
     "end_time": "2024-03-11T20:53:37.603651900Z",
     "start_time": "2024-03-11T20:53:37.588013Z"
    }
   },
   "id": "ce42231b812a52b1"
  },
  {
   "cell_type": "code",
   "execution_count": 54,
   "outputs": [
    {
     "data": {
      "text/plain": "      id_dev                   time_dev  energy_dev  total_active_power_dev  \\\n0    1296352 2024-02-12 16:00:00.001248    10638286                     0.0   \n1    1296377 2024-02-12 16:00:02.001569    10638286                     0.0   \n2    1296402 2024-02-12 16:00:04.000326    10638286                     0.0   \n3    1296427 2024-02-12 16:00:06.001488    10638286                     0.0   \n4    1296452 2024-02-12 16:00:08.000475    10638286                     0.0   \n..       ...                        ...         ...                     ...   \n295  1303727 2024-02-12 16:09:50.000329    10638333                     0.0   \n296  1303752 2024-02-12 16:09:52.000628    10638333                     0.0   \n297  1303777 2024-02-12 16:09:54.000515    10638333                     0.0   \n298  1303802 2024-02-12 16:09:56.000207    10638333                     0.0   \n299  1303827 2024-02-12 16:09:58.001472    10638333                     0.0   \n\n     demand_total_active_power_dev  maximum_demand_total_active_power_dev  \\\n0                       287.283325                             38795.0625   \n1                       287.283325                             38795.0625   \n2                       287.283325                             38795.0625   \n3                       287.283325                             38795.0625   \n4                       287.283325                             38795.0625   \n..                             ...                                    ...   \n295                     288.166687                             38795.0625   \n296                     288.166687                             38795.0625   \n297                     288.166687                             38795.0625   \n298                     288.166687                             38795.0625   \n299                     288.166687                             38795.0625   \n\n     i1_dev  i2_dev  i3_dev     u12_dev  ...  i3_prod    u12_prod    u23_prod  \\\n0       0.0     0.0     0.0  400.000000  ...      0.0  400.299988  401.500000   \n1       0.0     0.0     0.0  400.299988  ...      0.0  400.299988  401.500000   \n2       0.0     0.0     0.0  400.299988  ...      0.0  400.299988  401.299988   \n3       0.0     0.0     0.0  400.299988  ...      0.0  400.299988  401.299988   \n4       0.0     0.0     0.0  400.299988  ...      0.0  400.299988  401.299988   \n..      ...     ...     ...         ...  ...      ...         ...         ...   \n295     0.0     0.0     0.0  400.600006  ...      0.0  400.799988  401.299988   \n296     0.0     0.0     0.0  400.799988  ...      NaN         NaN         NaN   \n297     0.0     0.0     0.0  400.799988  ...      0.0  400.799988  401.299988   \n298     0.0     0.0     0.0  400.600006  ...      0.0  400.600006  401.200012   \n299     0.0     0.0     0.0  400.600006  ...      0.0  400.600006  401.200012   \n\n       u13_prod  v1_prod v2_prod  v3_prod     device_prod  \\\n0    400.600006      NaN     NaN      NaN  Aparat za kavu   \n1    400.600006      NaN     NaN      NaN  Aparat za kavu   \n2    400.500000      NaN     NaN      NaN  Aparat za kavu   \n3    400.500000      NaN     NaN      NaN  Aparat za kavu   \n4    400.500000      NaN     NaN      NaN  Aparat za kavu   \n..          ...      ...     ...      ...             ...   \n295  400.200012      NaN     NaN      NaN  Aparat za kavu   \n296         NaN      NaN     NaN      NaN             NaN   \n297  400.200012      NaN     NaN      NaN  Aparat za kavu   \n298  400.100006      NaN     NaN      NaN  Aparat za kavu   \n299  400.100006      NaN     NaN      NaN  Aparat za kavu   \n\n     total_power_factor_prod total_apparent_power_prod  \n0                        NaN                       0.0  \n1                        NaN                       0.0  \n2                        NaN                       0.0  \n3                        NaN                       0.0  \n4                        NaN                       0.0  \n..                       ...                       ...  \n295                      NaN                       0.0  \n296                      NaN                       NaN  \n297                      NaN                       0.0  \n298                      NaN                       0.0  \n299                      NaN                       0.0  \n\n[300 rows x 36 columns]",
      "text/html": "<div>\n<style scoped>\n    .dataframe tbody tr th:only-of-type {\n        vertical-align: middle;\n    }\n\n    .dataframe tbody tr th {\n        vertical-align: top;\n    }\n\n    .dataframe thead th {\n        text-align: right;\n    }\n</style>\n<table border=\"1\" class=\"dataframe\">\n  <thead>\n    <tr style=\"text-align: right;\">\n      <th></th>\n      <th>id_dev</th>\n      <th>time_dev</th>\n      <th>energy_dev</th>\n      <th>total_active_power_dev</th>\n      <th>demand_total_active_power_dev</th>\n      <th>maximum_demand_total_active_power_dev</th>\n      <th>i1_dev</th>\n      <th>i2_dev</th>\n      <th>i3_dev</th>\n      <th>u12_dev</th>\n      <th>...</th>\n      <th>i3_prod</th>\n      <th>u12_prod</th>\n      <th>u23_prod</th>\n      <th>u13_prod</th>\n      <th>v1_prod</th>\n      <th>v2_prod</th>\n      <th>v3_prod</th>\n      <th>device_prod</th>\n      <th>total_power_factor_prod</th>\n      <th>total_apparent_power_prod</th>\n    </tr>\n  </thead>\n  <tbody>\n    <tr>\n      <th>0</th>\n      <td>1296352</td>\n      <td>2024-02-12 16:00:00.001248</td>\n      <td>10638286</td>\n      <td>0.0</td>\n      <td>287.283325</td>\n      <td>38795.0625</td>\n      <td>0.0</td>\n      <td>0.0</td>\n      <td>0.0</td>\n      <td>400.000000</td>\n      <td>...</td>\n      <td>0.0</td>\n      <td>400.299988</td>\n      <td>401.500000</td>\n      <td>400.600006</td>\n      <td>NaN</td>\n      <td>NaN</td>\n      <td>NaN</td>\n      <td>Aparat za kavu</td>\n      <td>NaN</td>\n      <td>0.0</td>\n    </tr>\n    <tr>\n      <th>1</th>\n      <td>1296377</td>\n      <td>2024-02-12 16:00:02.001569</td>\n      <td>10638286</td>\n      <td>0.0</td>\n      <td>287.283325</td>\n      <td>38795.0625</td>\n      <td>0.0</td>\n      <td>0.0</td>\n      <td>0.0</td>\n      <td>400.299988</td>\n      <td>...</td>\n      <td>0.0</td>\n      <td>400.299988</td>\n      <td>401.500000</td>\n      <td>400.600006</td>\n      <td>NaN</td>\n      <td>NaN</td>\n      <td>NaN</td>\n      <td>Aparat za kavu</td>\n      <td>NaN</td>\n      <td>0.0</td>\n    </tr>\n    <tr>\n      <th>2</th>\n      <td>1296402</td>\n      <td>2024-02-12 16:00:04.000326</td>\n      <td>10638286</td>\n      <td>0.0</td>\n      <td>287.283325</td>\n      <td>38795.0625</td>\n      <td>0.0</td>\n      <td>0.0</td>\n      <td>0.0</td>\n      <td>400.299988</td>\n      <td>...</td>\n      <td>0.0</td>\n      <td>400.299988</td>\n      <td>401.299988</td>\n      <td>400.500000</td>\n      <td>NaN</td>\n      <td>NaN</td>\n      <td>NaN</td>\n      <td>Aparat za kavu</td>\n      <td>NaN</td>\n      <td>0.0</td>\n    </tr>\n    <tr>\n      <th>3</th>\n      <td>1296427</td>\n      <td>2024-02-12 16:00:06.001488</td>\n      <td>10638286</td>\n      <td>0.0</td>\n      <td>287.283325</td>\n      <td>38795.0625</td>\n      <td>0.0</td>\n      <td>0.0</td>\n      <td>0.0</td>\n      <td>400.299988</td>\n      <td>...</td>\n      <td>0.0</td>\n      <td>400.299988</td>\n      <td>401.299988</td>\n      <td>400.500000</td>\n      <td>NaN</td>\n      <td>NaN</td>\n      <td>NaN</td>\n      <td>Aparat za kavu</td>\n      <td>NaN</td>\n      <td>0.0</td>\n    </tr>\n    <tr>\n      <th>4</th>\n      <td>1296452</td>\n      <td>2024-02-12 16:00:08.000475</td>\n      <td>10638286</td>\n      <td>0.0</td>\n      <td>287.283325</td>\n      <td>38795.0625</td>\n      <td>0.0</td>\n      <td>0.0</td>\n      <td>0.0</td>\n      <td>400.299988</td>\n      <td>...</td>\n      <td>0.0</td>\n      <td>400.299988</td>\n      <td>401.299988</td>\n      <td>400.500000</td>\n      <td>NaN</td>\n      <td>NaN</td>\n      <td>NaN</td>\n      <td>Aparat za kavu</td>\n      <td>NaN</td>\n      <td>0.0</td>\n    </tr>\n    <tr>\n      <th>...</th>\n      <td>...</td>\n      <td>...</td>\n      <td>...</td>\n      <td>...</td>\n      <td>...</td>\n      <td>...</td>\n      <td>...</td>\n      <td>...</td>\n      <td>...</td>\n      <td>...</td>\n      <td>...</td>\n      <td>...</td>\n      <td>...</td>\n      <td>...</td>\n      <td>...</td>\n      <td>...</td>\n      <td>...</td>\n      <td>...</td>\n      <td>...</td>\n      <td>...</td>\n      <td>...</td>\n    </tr>\n    <tr>\n      <th>295</th>\n      <td>1303727</td>\n      <td>2024-02-12 16:09:50.000329</td>\n      <td>10638333</td>\n      <td>0.0</td>\n      <td>288.166687</td>\n      <td>38795.0625</td>\n      <td>0.0</td>\n      <td>0.0</td>\n      <td>0.0</td>\n      <td>400.600006</td>\n      <td>...</td>\n      <td>0.0</td>\n      <td>400.799988</td>\n      <td>401.299988</td>\n      <td>400.200012</td>\n      <td>NaN</td>\n      <td>NaN</td>\n      <td>NaN</td>\n      <td>Aparat za kavu</td>\n      <td>NaN</td>\n      <td>0.0</td>\n    </tr>\n    <tr>\n      <th>296</th>\n      <td>1303752</td>\n      <td>2024-02-12 16:09:52.000628</td>\n      <td>10638333</td>\n      <td>0.0</td>\n      <td>288.166687</td>\n      <td>38795.0625</td>\n      <td>0.0</td>\n      <td>0.0</td>\n      <td>0.0</td>\n      <td>400.799988</td>\n      <td>...</td>\n      <td>NaN</td>\n      <td>NaN</td>\n      <td>NaN</td>\n      <td>NaN</td>\n      <td>NaN</td>\n      <td>NaN</td>\n      <td>NaN</td>\n      <td>NaN</td>\n      <td>NaN</td>\n      <td>NaN</td>\n    </tr>\n    <tr>\n      <th>297</th>\n      <td>1303777</td>\n      <td>2024-02-12 16:09:54.000515</td>\n      <td>10638333</td>\n      <td>0.0</td>\n      <td>288.166687</td>\n      <td>38795.0625</td>\n      <td>0.0</td>\n      <td>0.0</td>\n      <td>0.0</td>\n      <td>400.799988</td>\n      <td>...</td>\n      <td>0.0</td>\n      <td>400.799988</td>\n      <td>401.299988</td>\n      <td>400.200012</td>\n      <td>NaN</td>\n      <td>NaN</td>\n      <td>NaN</td>\n      <td>Aparat za kavu</td>\n      <td>NaN</td>\n      <td>0.0</td>\n    </tr>\n    <tr>\n      <th>298</th>\n      <td>1303802</td>\n      <td>2024-02-12 16:09:56.000207</td>\n      <td>10638333</td>\n      <td>0.0</td>\n      <td>288.166687</td>\n      <td>38795.0625</td>\n      <td>0.0</td>\n      <td>0.0</td>\n      <td>0.0</td>\n      <td>400.600006</td>\n      <td>...</td>\n      <td>0.0</td>\n      <td>400.600006</td>\n      <td>401.200012</td>\n      <td>400.100006</td>\n      <td>NaN</td>\n      <td>NaN</td>\n      <td>NaN</td>\n      <td>Aparat za kavu</td>\n      <td>NaN</td>\n      <td>0.0</td>\n    </tr>\n    <tr>\n      <th>299</th>\n      <td>1303827</td>\n      <td>2024-02-12 16:09:58.001472</td>\n      <td>10638333</td>\n      <td>0.0</td>\n      <td>288.166687</td>\n      <td>38795.0625</td>\n      <td>0.0</td>\n      <td>0.0</td>\n      <td>0.0</td>\n      <td>400.600006</td>\n      <td>...</td>\n      <td>0.0</td>\n      <td>400.600006</td>\n      <td>401.200012</td>\n      <td>400.100006</td>\n      <td>NaN</td>\n      <td>NaN</td>\n      <td>NaN</td>\n      <td>Aparat za kavu</td>\n      <td>NaN</td>\n      <td>0.0</td>\n    </tr>\n  </tbody>\n</table>\n<p>300 rows × 36 columns</p>\n</div>"
     },
     "execution_count": 54,
     "metadata": {},
     "output_type": "execute_result"
    }
   ],
   "source": [
    "merged = pd.merge_asof(df, df2, left_on=\"time_dev\", right_on='time_prod', tolerance=pd.to_timedelta('00:00:01'), suffixes=('_dev', '_prod'), direction='nearest')\n",
    "merged\n",
    "#1s zato sto je frekvnecija zapisa lijeve tablice ispod 2s, to znači da ako je trenutak desnog zapisa udaljen od lijevog trenutka za više od 1s, pripada (odgovara) nekom drugom lijevom zapisu"
   ],
   "metadata": {
    "collapsed": false,
    "ExecuteTime": {
     "end_time": "2024-03-11T20:44:54.612128600Z",
     "start_time": "2024-03-11T20:44:54.565264700Z"
    }
   },
   "id": "69977223d596518c"
  },
  {
   "cell_type": "code",
   "execution_count": 55,
   "outputs": [
    {
     "data": {
      "text/plain": "     demand_total_active_power_dev  demand_total_active_power_prod  \\\n0                       287.283325                      287.283325   \n1                       287.283325                      287.283325   \n2                       287.283325                      287.283325   \n3                       287.283325                      287.283325   \n4                       287.283325                      287.283325   \n..                             ...                             ...   \n295                     288.166687                      288.166687   \n296                     288.166687                             NaN   \n297                     288.166687                      288.166687   \n298                     288.166687                      288.166687   \n299                     288.166687                      288.166687   \n\n         device_dev     device_prod  energy_dev  energy_prod  i1_dev  i1_prod  \\\n0    Aparat za kavu  Aparat za kavu    10638286    10638.286     0.0      0.0   \n1    Aparat za kavu  Aparat za kavu    10638286    10638.286     0.0      0.0   \n2    Aparat za kavu  Aparat za kavu    10638286    10638.286     0.0      0.0   \n3    Aparat za kavu  Aparat za kavu    10638286    10638.286     0.0      0.0   \n4    Aparat za kavu  Aparat za kavu    10638286    10638.286     0.0      0.0   \n..              ...             ...         ...          ...     ...      ...   \n295  Aparat za kavu  Aparat za kavu    10638333    10638.333     0.0      0.0   \n296  Aparat za kavu             NaN    10638333          NaN     0.0      NaN   \n297  Aparat za kavu  Aparat za kavu    10638333    10638.333     0.0      0.0   \n298  Aparat za kavu  Aparat za kavu    10638333    10638.333     0.0      0.0   \n299  Aparat za kavu  Aparat za kavu    10638333    10638.333     0.0      0.0   \n\n     i2_dev  i2_prod  ...     u13_dev    u13_prod     u23_dev    u23_prod  \\\n0       0.0      0.0  ...  400.500000  400.600006  401.100006  401.500000   \n1       0.0      0.0  ...  400.600006  400.600006  401.500000  401.500000   \n2       0.0      0.0  ...  400.600006  400.500000  401.500000  401.299988   \n3       0.0      0.0  ...  400.500000  400.500000  401.299988  401.299988   \n4       0.0      0.0  ...  400.500000  400.500000  401.299988  401.299988   \n..      ...      ...  ...         ...         ...         ...         ...   \n295     0.0      0.0  ...  400.200012  400.200012  401.100006  401.299988   \n296     0.0      NaN  ...  400.200012         NaN  401.299988         NaN   \n297     0.0      0.0  ...  400.200012  400.200012  401.299988  401.299988   \n298     0.0      0.0  ...  400.100006  400.100006  401.200012  401.200012   \n299     0.0      0.0  ...  400.100006  400.100006  401.200012  401.200012   \n\n     v1_dev  v1_prod v2_dev v2_prod  v3_dev  v3_prod  \n0       NaN      NaN    NaN     NaN     NaN      NaN  \n1       NaN      NaN    NaN     NaN     NaN      NaN  \n2       NaN      NaN    NaN     NaN     NaN      NaN  \n3       NaN      NaN    NaN     NaN     NaN      NaN  \n4       NaN      NaN    NaN     NaN     NaN      NaN  \n..      ...      ...    ...     ...     ...      ...  \n295     NaN      NaN    NaN     NaN     NaN      NaN  \n296     NaN      NaN    NaN     NaN     NaN      NaN  \n297     NaN      NaN    NaN     NaN     NaN      NaN  \n298     NaN      NaN    NaN     NaN     NaN      NaN  \n299     NaN      NaN    NaN     NaN     NaN      NaN  \n\n[300 rows x 36 columns]",
      "text/html": "<div>\n<style scoped>\n    .dataframe tbody tr th:only-of-type {\n        vertical-align: middle;\n    }\n\n    .dataframe tbody tr th {\n        vertical-align: top;\n    }\n\n    .dataframe thead th {\n        text-align: right;\n    }\n</style>\n<table border=\"1\" class=\"dataframe\">\n  <thead>\n    <tr style=\"text-align: right;\">\n      <th></th>\n      <th>demand_total_active_power_dev</th>\n      <th>demand_total_active_power_prod</th>\n      <th>device_dev</th>\n      <th>device_prod</th>\n      <th>energy_dev</th>\n      <th>energy_prod</th>\n      <th>i1_dev</th>\n      <th>i1_prod</th>\n      <th>i2_dev</th>\n      <th>i2_prod</th>\n      <th>...</th>\n      <th>u13_dev</th>\n      <th>u13_prod</th>\n      <th>u23_dev</th>\n      <th>u23_prod</th>\n      <th>v1_dev</th>\n      <th>v1_prod</th>\n      <th>v2_dev</th>\n      <th>v2_prod</th>\n      <th>v3_dev</th>\n      <th>v3_prod</th>\n    </tr>\n  </thead>\n  <tbody>\n    <tr>\n      <th>0</th>\n      <td>287.283325</td>\n      <td>287.283325</td>\n      <td>Aparat za kavu</td>\n      <td>Aparat za kavu</td>\n      <td>10638286</td>\n      <td>10638.286</td>\n      <td>0.0</td>\n      <td>0.0</td>\n      <td>0.0</td>\n      <td>0.0</td>\n      <td>...</td>\n      <td>400.500000</td>\n      <td>400.600006</td>\n      <td>401.100006</td>\n      <td>401.500000</td>\n      <td>NaN</td>\n      <td>NaN</td>\n      <td>NaN</td>\n      <td>NaN</td>\n      <td>NaN</td>\n      <td>NaN</td>\n    </tr>\n    <tr>\n      <th>1</th>\n      <td>287.283325</td>\n      <td>287.283325</td>\n      <td>Aparat za kavu</td>\n      <td>Aparat za kavu</td>\n      <td>10638286</td>\n      <td>10638.286</td>\n      <td>0.0</td>\n      <td>0.0</td>\n      <td>0.0</td>\n      <td>0.0</td>\n      <td>...</td>\n      <td>400.600006</td>\n      <td>400.600006</td>\n      <td>401.500000</td>\n      <td>401.500000</td>\n      <td>NaN</td>\n      <td>NaN</td>\n      <td>NaN</td>\n      <td>NaN</td>\n      <td>NaN</td>\n      <td>NaN</td>\n    </tr>\n    <tr>\n      <th>2</th>\n      <td>287.283325</td>\n      <td>287.283325</td>\n      <td>Aparat za kavu</td>\n      <td>Aparat za kavu</td>\n      <td>10638286</td>\n      <td>10638.286</td>\n      <td>0.0</td>\n      <td>0.0</td>\n      <td>0.0</td>\n      <td>0.0</td>\n      <td>...</td>\n      <td>400.600006</td>\n      <td>400.500000</td>\n      <td>401.500000</td>\n      <td>401.299988</td>\n      <td>NaN</td>\n      <td>NaN</td>\n      <td>NaN</td>\n      <td>NaN</td>\n      <td>NaN</td>\n      <td>NaN</td>\n    </tr>\n    <tr>\n      <th>3</th>\n      <td>287.283325</td>\n      <td>287.283325</td>\n      <td>Aparat za kavu</td>\n      <td>Aparat za kavu</td>\n      <td>10638286</td>\n      <td>10638.286</td>\n      <td>0.0</td>\n      <td>0.0</td>\n      <td>0.0</td>\n      <td>0.0</td>\n      <td>...</td>\n      <td>400.500000</td>\n      <td>400.500000</td>\n      <td>401.299988</td>\n      <td>401.299988</td>\n      <td>NaN</td>\n      <td>NaN</td>\n      <td>NaN</td>\n      <td>NaN</td>\n      <td>NaN</td>\n      <td>NaN</td>\n    </tr>\n    <tr>\n      <th>4</th>\n      <td>287.283325</td>\n      <td>287.283325</td>\n      <td>Aparat za kavu</td>\n      <td>Aparat za kavu</td>\n      <td>10638286</td>\n      <td>10638.286</td>\n      <td>0.0</td>\n      <td>0.0</td>\n      <td>0.0</td>\n      <td>0.0</td>\n      <td>...</td>\n      <td>400.500000</td>\n      <td>400.500000</td>\n      <td>401.299988</td>\n      <td>401.299988</td>\n      <td>NaN</td>\n      <td>NaN</td>\n      <td>NaN</td>\n      <td>NaN</td>\n      <td>NaN</td>\n      <td>NaN</td>\n    </tr>\n    <tr>\n      <th>...</th>\n      <td>...</td>\n      <td>...</td>\n      <td>...</td>\n      <td>...</td>\n      <td>...</td>\n      <td>...</td>\n      <td>...</td>\n      <td>...</td>\n      <td>...</td>\n      <td>...</td>\n      <td>...</td>\n      <td>...</td>\n      <td>...</td>\n      <td>...</td>\n      <td>...</td>\n      <td>...</td>\n      <td>...</td>\n      <td>...</td>\n      <td>...</td>\n      <td>...</td>\n      <td>...</td>\n    </tr>\n    <tr>\n      <th>295</th>\n      <td>288.166687</td>\n      <td>288.166687</td>\n      <td>Aparat za kavu</td>\n      <td>Aparat za kavu</td>\n      <td>10638333</td>\n      <td>10638.333</td>\n      <td>0.0</td>\n      <td>0.0</td>\n      <td>0.0</td>\n      <td>0.0</td>\n      <td>...</td>\n      <td>400.200012</td>\n      <td>400.200012</td>\n      <td>401.100006</td>\n      <td>401.299988</td>\n      <td>NaN</td>\n      <td>NaN</td>\n      <td>NaN</td>\n      <td>NaN</td>\n      <td>NaN</td>\n      <td>NaN</td>\n    </tr>\n    <tr>\n      <th>296</th>\n      <td>288.166687</td>\n      <td>NaN</td>\n      <td>Aparat za kavu</td>\n      <td>NaN</td>\n      <td>10638333</td>\n      <td>NaN</td>\n      <td>0.0</td>\n      <td>NaN</td>\n      <td>0.0</td>\n      <td>NaN</td>\n      <td>...</td>\n      <td>400.200012</td>\n      <td>NaN</td>\n      <td>401.299988</td>\n      <td>NaN</td>\n      <td>NaN</td>\n      <td>NaN</td>\n      <td>NaN</td>\n      <td>NaN</td>\n      <td>NaN</td>\n      <td>NaN</td>\n    </tr>\n    <tr>\n      <th>297</th>\n      <td>288.166687</td>\n      <td>288.166687</td>\n      <td>Aparat za kavu</td>\n      <td>Aparat za kavu</td>\n      <td>10638333</td>\n      <td>10638.333</td>\n      <td>0.0</td>\n      <td>0.0</td>\n      <td>0.0</td>\n      <td>0.0</td>\n      <td>...</td>\n      <td>400.200012</td>\n      <td>400.200012</td>\n      <td>401.299988</td>\n      <td>401.299988</td>\n      <td>NaN</td>\n      <td>NaN</td>\n      <td>NaN</td>\n      <td>NaN</td>\n      <td>NaN</td>\n      <td>NaN</td>\n    </tr>\n    <tr>\n      <th>298</th>\n      <td>288.166687</td>\n      <td>288.166687</td>\n      <td>Aparat za kavu</td>\n      <td>Aparat za kavu</td>\n      <td>10638333</td>\n      <td>10638.333</td>\n      <td>0.0</td>\n      <td>0.0</td>\n      <td>0.0</td>\n      <td>0.0</td>\n      <td>...</td>\n      <td>400.100006</td>\n      <td>400.100006</td>\n      <td>401.200012</td>\n      <td>401.200012</td>\n      <td>NaN</td>\n      <td>NaN</td>\n      <td>NaN</td>\n      <td>NaN</td>\n      <td>NaN</td>\n      <td>NaN</td>\n    </tr>\n    <tr>\n      <th>299</th>\n      <td>288.166687</td>\n      <td>288.166687</td>\n      <td>Aparat za kavu</td>\n      <td>Aparat za kavu</td>\n      <td>10638333</td>\n      <td>10638.333</td>\n      <td>0.0</td>\n      <td>0.0</td>\n      <td>0.0</td>\n      <td>0.0</td>\n      <td>...</td>\n      <td>400.100006</td>\n      <td>400.100006</td>\n      <td>401.200012</td>\n      <td>401.200012</td>\n      <td>NaN</td>\n      <td>NaN</td>\n      <td>NaN</td>\n      <td>NaN</td>\n      <td>NaN</td>\n      <td>NaN</td>\n    </tr>\n  </tbody>\n</table>\n<p>300 rows × 36 columns</p>\n</div>"
     },
     "execution_count": 55,
     "metadata": {},
     "output_type": "execute_result"
    }
   ],
   "source": [
    "merged.sort_index(axis=1)"
   ],
   "metadata": {
    "collapsed": false,
    "ExecuteTime": {
     "end_time": "2024-03-11T20:45:05.620291400Z",
     "start_time": "2024-03-11T20:45:05.573430900Z"
    }
   },
   "id": "85f83f03ef26b432"
  },
  {
   "cell_type": "code",
   "execution_count": 56,
   "outputs": [
    {
     "data": {
      "text/plain": "      id_dev                   time_dev  energy_dev  total_active_power_dev  \\\n46   1297502 2024-02-12 16:01:32.000635    10638286                     0.0   \n84   1298452 2024-02-12 16:02:48.001879    10638286                     0.0   \n115  1299227 2024-02-12 16:03:50.000878    10638330                     0.0   \n151  1300127 2024-02-12 16:05:02.000267    10638333                     0.0   \n187  1301027 2024-02-12 16:06:14.003585    10638333                     0.0   \n224  1301952 2024-02-12 16:07:28.001582    10638333                     0.0   \n261  1302877 2024-02-12 16:08:42.001010    10638333                     0.0   \n296  1303752 2024-02-12 16:09:52.000628    10638333                     0.0   \n\n     demand_total_active_power_dev  maximum_demand_total_active_power_dev  \\\n46                      287.283325                             38795.0625   \n84                      287.283325                             38795.0625   \n115                     575.450012                             38795.0625   \n151                     575.450012                             38795.0625   \n187                     402.750000                             38795.0625   \n224                     288.166687                             38795.0625   \n261                     288.166687                             38795.0625   \n296                     288.166687                             38795.0625   \n\n     i1_dev  i2_dev  i3_dev     u12_dev  ...  i3_prod  u12_prod  u23_prod  \\\n46      0.0     0.0     0.0  400.500000  ...      NaN       NaN       NaN   \n84      0.0     0.0     0.0  400.899994  ...      NaN       NaN       NaN   \n115     0.0     0.0     0.0  400.500000  ...      NaN       NaN       NaN   \n151     0.0     0.0     0.0  399.500000  ...      NaN       NaN       NaN   \n187     0.0     0.0     0.0  399.200012  ...      NaN       NaN       NaN   \n224     0.0     0.0     0.0  399.600006  ...      NaN       NaN       NaN   \n261     0.0     0.0     0.0  400.700012  ...      NaN       NaN       NaN   \n296     0.0     0.0     0.0  400.799988  ...      NaN       NaN       NaN   \n\n     u13_prod  v1_prod v2_prod  v3_prod  device_prod  total_power_factor_prod  \\\n46        NaN      NaN     NaN      NaN          NaN                      NaN   \n84        NaN      NaN     NaN      NaN          NaN                      NaN   \n115       NaN      NaN     NaN      NaN          NaN                      NaN   \n151       NaN      NaN     NaN      NaN          NaN                      NaN   \n187       NaN      NaN     NaN      NaN          NaN                      NaN   \n224       NaN      NaN     NaN      NaN          NaN                      NaN   \n261       NaN      NaN     NaN      NaN          NaN                      NaN   \n296       NaN      NaN     NaN      NaN          NaN                      NaN   \n\n    total_apparent_power_prod  \n46                        NaN  \n84                        NaN  \n115                       NaN  \n151                       NaN  \n187                       NaN  \n224                       NaN  \n261                       NaN  \n296                       NaN  \n\n[8 rows x 36 columns]",
      "text/html": "<div>\n<style scoped>\n    .dataframe tbody tr th:only-of-type {\n        vertical-align: middle;\n    }\n\n    .dataframe tbody tr th {\n        vertical-align: top;\n    }\n\n    .dataframe thead th {\n        text-align: right;\n    }\n</style>\n<table border=\"1\" class=\"dataframe\">\n  <thead>\n    <tr style=\"text-align: right;\">\n      <th></th>\n      <th>id_dev</th>\n      <th>time_dev</th>\n      <th>energy_dev</th>\n      <th>total_active_power_dev</th>\n      <th>demand_total_active_power_dev</th>\n      <th>maximum_demand_total_active_power_dev</th>\n      <th>i1_dev</th>\n      <th>i2_dev</th>\n      <th>i3_dev</th>\n      <th>u12_dev</th>\n      <th>...</th>\n      <th>i3_prod</th>\n      <th>u12_prod</th>\n      <th>u23_prod</th>\n      <th>u13_prod</th>\n      <th>v1_prod</th>\n      <th>v2_prod</th>\n      <th>v3_prod</th>\n      <th>device_prod</th>\n      <th>total_power_factor_prod</th>\n      <th>total_apparent_power_prod</th>\n    </tr>\n  </thead>\n  <tbody>\n    <tr>\n      <th>46</th>\n      <td>1297502</td>\n      <td>2024-02-12 16:01:32.000635</td>\n      <td>10638286</td>\n      <td>0.0</td>\n      <td>287.283325</td>\n      <td>38795.0625</td>\n      <td>0.0</td>\n      <td>0.0</td>\n      <td>0.0</td>\n      <td>400.500000</td>\n      <td>...</td>\n      <td>NaN</td>\n      <td>NaN</td>\n      <td>NaN</td>\n      <td>NaN</td>\n      <td>NaN</td>\n      <td>NaN</td>\n      <td>NaN</td>\n      <td>NaN</td>\n      <td>NaN</td>\n      <td>NaN</td>\n    </tr>\n    <tr>\n      <th>84</th>\n      <td>1298452</td>\n      <td>2024-02-12 16:02:48.001879</td>\n      <td>10638286</td>\n      <td>0.0</td>\n      <td>287.283325</td>\n      <td>38795.0625</td>\n      <td>0.0</td>\n      <td>0.0</td>\n      <td>0.0</td>\n      <td>400.899994</td>\n      <td>...</td>\n      <td>NaN</td>\n      <td>NaN</td>\n      <td>NaN</td>\n      <td>NaN</td>\n      <td>NaN</td>\n      <td>NaN</td>\n      <td>NaN</td>\n      <td>NaN</td>\n      <td>NaN</td>\n      <td>NaN</td>\n    </tr>\n    <tr>\n      <th>115</th>\n      <td>1299227</td>\n      <td>2024-02-12 16:03:50.000878</td>\n      <td>10638330</td>\n      <td>0.0</td>\n      <td>575.450012</td>\n      <td>38795.0625</td>\n      <td>0.0</td>\n      <td>0.0</td>\n      <td>0.0</td>\n      <td>400.500000</td>\n      <td>...</td>\n      <td>NaN</td>\n      <td>NaN</td>\n      <td>NaN</td>\n      <td>NaN</td>\n      <td>NaN</td>\n      <td>NaN</td>\n      <td>NaN</td>\n      <td>NaN</td>\n      <td>NaN</td>\n      <td>NaN</td>\n    </tr>\n    <tr>\n      <th>151</th>\n      <td>1300127</td>\n      <td>2024-02-12 16:05:02.000267</td>\n      <td>10638333</td>\n      <td>0.0</td>\n      <td>575.450012</td>\n      <td>38795.0625</td>\n      <td>0.0</td>\n      <td>0.0</td>\n      <td>0.0</td>\n      <td>399.500000</td>\n      <td>...</td>\n      <td>NaN</td>\n      <td>NaN</td>\n      <td>NaN</td>\n      <td>NaN</td>\n      <td>NaN</td>\n      <td>NaN</td>\n      <td>NaN</td>\n      <td>NaN</td>\n      <td>NaN</td>\n      <td>NaN</td>\n    </tr>\n    <tr>\n      <th>187</th>\n      <td>1301027</td>\n      <td>2024-02-12 16:06:14.003585</td>\n      <td>10638333</td>\n      <td>0.0</td>\n      <td>402.750000</td>\n      <td>38795.0625</td>\n      <td>0.0</td>\n      <td>0.0</td>\n      <td>0.0</td>\n      <td>399.200012</td>\n      <td>...</td>\n      <td>NaN</td>\n      <td>NaN</td>\n      <td>NaN</td>\n      <td>NaN</td>\n      <td>NaN</td>\n      <td>NaN</td>\n      <td>NaN</td>\n      <td>NaN</td>\n      <td>NaN</td>\n      <td>NaN</td>\n    </tr>\n    <tr>\n      <th>224</th>\n      <td>1301952</td>\n      <td>2024-02-12 16:07:28.001582</td>\n      <td>10638333</td>\n      <td>0.0</td>\n      <td>288.166687</td>\n      <td>38795.0625</td>\n      <td>0.0</td>\n      <td>0.0</td>\n      <td>0.0</td>\n      <td>399.600006</td>\n      <td>...</td>\n      <td>NaN</td>\n      <td>NaN</td>\n      <td>NaN</td>\n      <td>NaN</td>\n      <td>NaN</td>\n      <td>NaN</td>\n      <td>NaN</td>\n      <td>NaN</td>\n      <td>NaN</td>\n      <td>NaN</td>\n    </tr>\n    <tr>\n      <th>261</th>\n      <td>1302877</td>\n      <td>2024-02-12 16:08:42.001010</td>\n      <td>10638333</td>\n      <td>0.0</td>\n      <td>288.166687</td>\n      <td>38795.0625</td>\n      <td>0.0</td>\n      <td>0.0</td>\n      <td>0.0</td>\n      <td>400.700012</td>\n      <td>...</td>\n      <td>NaN</td>\n      <td>NaN</td>\n      <td>NaN</td>\n      <td>NaN</td>\n      <td>NaN</td>\n      <td>NaN</td>\n      <td>NaN</td>\n      <td>NaN</td>\n      <td>NaN</td>\n      <td>NaN</td>\n    </tr>\n    <tr>\n      <th>296</th>\n      <td>1303752</td>\n      <td>2024-02-12 16:09:52.000628</td>\n      <td>10638333</td>\n      <td>0.0</td>\n      <td>288.166687</td>\n      <td>38795.0625</td>\n      <td>0.0</td>\n      <td>0.0</td>\n      <td>0.0</td>\n      <td>400.799988</td>\n      <td>...</td>\n      <td>NaN</td>\n      <td>NaN</td>\n      <td>NaN</td>\n      <td>NaN</td>\n      <td>NaN</td>\n      <td>NaN</td>\n      <td>NaN</td>\n      <td>NaN</td>\n      <td>NaN</td>\n      <td>NaN</td>\n    </tr>\n  </tbody>\n</table>\n<p>8 rows × 36 columns</p>\n</div>"
     },
     "execution_count": 56,
     "metadata": {},
     "output_type": "execute_result"
    }
   ],
   "source": [
    "merged[merged['time_prod'].duplicated()]\n",
    "#ovih lijevih ima vise jer su precizniji, neki retci u desnom sl. jednostavno fale i zato su NaTovi"
   ],
   "metadata": {
    "collapsed": false,
    "ExecuteTime": {
     "end_time": "2024-03-11T20:45:28.184718300Z",
     "start_time": "2024-03-11T20:45:28.137896300Z"
    }
   },
   "id": "c6e072165c1ba0cf"
  },
  {
   "cell_type": "code",
   "execution_count": 16,
   "outputs": [
    {
     "name": "stdout",
     "output_type": "stream",
     "text": [
      "0 days 00:00:01.985746\n",
      "0 days 00:00:02\n",
      "False\n",
      "0 days 00:00:01.985746\n",
      "0 days 00:00:02\n",
      "False\n",
      "0 days 00:00:00\n",
      "0 days 00:00:00\n",
      "0 days 00:00:01.985746\n",
      "0 days 00:00:02\n",
      "False\n",
      "0 days 00:00:01.985746\n",
      "0 days 00:00:02\n",
      "False\n",
      "0 days 00:00:00\n",
      "0 days 00:00:00\n",
      "0 days 00:00:00\n",
      "0 days 00:00:00\n",
      "0 days 00:00:01.985746\n",
      "0 days 00:00:02\n",
      "False\n",
      "0 days 00:00:01.985746\n",
      "0 days 00:00:02\n",
      "False\n",
      "0 days 00:00:01.985746\n",
      "0 days 00:00:02\n",
      "False\n",
      "0 days 00:00:01.985746\n",
      "0 days 00:00:02\n",
      "False\n",
      "0 days 00:00:01.985746\n",
      "0 days 00:00:02\n",
      "False\n",
      "0 days 00:00:01.985746\n",
      "0 days 00:00:02\n",
      "False\n",
      "0 days 00:00:01.985746\n",
      "0 days 00:00:02\n",
      "False\n",
      "0 days 00:00:01.985746\n",
      "0 days 00:00:02\n",
      "False\n",
      "0 days 00:00:01.985746\n",
      "0 days 00:00:02\n",
      "False\n",
      "0 days 00:00:01.985746\n",
      "0 days 00:00:02\n",
      "False\n",
      "0 days 00:00:00\n",
      "0 days 00:00:00\n"
     ]
    }
   ],
   "source": [
    "#konacan kod\n",
    "for device in devices:\n",
    "    df = pd.read_csv(r'uredaji/{}_dev.csv'.format(device), parse_dates=['time'], encoding='latin1')\n",
    "    df['diff'] = df['time'].diff(periods=-1)\n",
    "    minimum = df['diff'].min()\n",
    "    print(minimum)\n",
    "    \n",
    "    df2 = pd.read_csv(r'uredaji/{}_prod.csv'.format(device), parse_dates=['time'], encoding='latin1')\n",
    "    df2['diff'] = df2['time'].diff(periods=-1)\n",
    "    minimum2 = df2['diff'].min()\n",
    "    print(minimum2)\n",
    "    df2['energy']=df2['energy']*1000\n",
    "    if minimum == pd.to_timedelta('0 days 00:00:00') or minimum2==pd.to_timedelta('0 days 00:00:00'):\n",
    "        #postoje dupli retci, podijelit u 4 df-a, isti trenutak manji id u jednu tablicu, isti trenutka veci id u drugu\n",
    "        df_gornji = df[df['diff']!=pd.to_timedelta('0 days 00:00:00')].copy()\n",
    "        #u gronjoj su svi 'originali', u donjoj svi duplikati\n",
    "        #isto za drugi dataframe\n",
    "        df_donji = df[df['diff']==pd.to_timedelta('0 days 00:00:00')].copy()\n",
    "        df2_gornji = df2[df2['diff']!=pd.to_timedelta('0 days 00:00:00')].copy()\n",
    "        df2_donji = df2[df2['diff']==pd.to_timedelta('0 days 00:00:00')].copy()\n",
    "        \n",
    "        #spojit gornje međusobno, i donje međusobno\n",
    "        df_gornji.drop(columns=['diff', 'id'], inplace=True)\n",
    "        df_donji.drop(columns=['diff','id'], inplace=True)\n",
    "        df2_donji.drop(columns=['diff','id'], inplace=True)\n",
    "        df2_gornji.drop(columns=['diff','id'], inplace=True)\n",
    "        \n",
    "        df_gornji = df_gornji.sort_values(['time', 'energy'])\n",
    "        df_donji = df_donji.sort_values(['time', 'energy'])\n",
    "        df2_donji = df2_donji.sort_values(['time', 'energy'])\n",
    "        df2_gornji = df2_gornji.sort_values(['time', 'energy'])\n",
    "        \n",
    "        df_gornji = df_gornji.rename(columns={'time': 'time_dev', 'energy': 'energy_dev'})\n",
    "        df2_gornji = df2_gornji.rename(columns={'time': 'time_prod', 'energy': 'energy_prod'})\n",
    "        df_donji = df_donji.rename(columns={'time': 'time_dev', 'energy': 'energy_dev'})\n",
    "        df2_donji = df2_donji.rename(columns={'time': 'time_prod', 'energy': 'energy_prod'})\n",
    "        \n",
    "        merged_gornji = pd.merge_asof(df_gornji, df2_gornji, left_on=\"time_dev\", right_on='time_prod', tolerance=pd.to_timedelta('00:00:01'), suffixes=('_dev', '_prod'), direction='nearest')\n",
    "        merged_gornji = merged_gornji.sort_index(axis=1)\n",
    "        \n",
    "        merged_donji = pd.merge_asof(df_donji, df2_donji, left_on=\"time_dev\", right_on='time_prod', tolerance=pd.to_timedelta('00:00:01'), suffixes=('_dev', '_prod'), direction='nearest')\n",
    "        merged_donji = merged_donji.sort_index(axis=1)\n",
    "        \n",
    "        #u gornjem su svi 'originalni zapisi' koji međusbono odgovaraju, u donjem su sve kopije\n",
    "        #sad treba sve skupa spojit u jednu tablicu\n",
    "        merged = pd.concat([merged_gornji, merged_donji], ignore_index=True)\n",
    "        merged = merged.sort_values(['time_dev'])\n",
    "        \n",
    "    else:   \n",
    "        df.drop(columns=['diff','id'], inplace=True)\n",
    "        df2.drop(columns=['diff','id'], inplace=True)\n",
    "        \n",
    "        df = df.sort_values(['time', 'energy'])\n",
    "        df2 = df2.sort_values(['time', 'energy'])\n",
    "        df = df.rename(columns={'time': 'time_dev', 'energy': 'energy_dev'})\n",
    "        df2 = df2.rename(columns={'time': 'time_prod', 'energy': 'energy_prod'})\n",
    "        \n",
    "        print(df2.loc[:,['time_prod','energy_prod']].duplicated().any())\n",
    "        \n",
    "        merged = pd.merge_asof(df, df2, left_on=\"time_dev\", right_on='time_prod', tolerance=pd.to_timedelta('00:00:01'), suffixes=('_dev', '_prod'), direction='nearest')\n",
    "    merged = merged.sort_index(axis=1)\n",
    "    merged.to_csv(\"merged\\{}_merged.csv\".format(device), index=False)"
   ],
   "metadata": {
    "collapsed": false,
    "ExecuteTime": {
     "end_time": "2024-03-12T20:09:29.281055200Z",
     "start_time": "2024-03-12T20:09:28.447597300Z"
    }
   },
   "id": "158eb59606f0aa30"
  },
  {
   "cell_type": "code",
   "execution_count": 19,
   "outputs": [],
   "source": [
    "del df, df2, df_donji, merged_donji, merged_gornji, df2_donji, df2_gornji, df_gornji, merged"
   ],
   "metadata": {
    "collapsed": false,
    "ExecuteTime": {
     "end_time": "2024-03-12T20:33:26.184120800Z",
     "start_time": "2024-03-12T20:33:26.184120800Z"
    }
   },
   "id": "bafca8d01ebd41b8"
  },
  {
   "cell_type": "code",
   "execution_count": 54,
   "outputs": [],
   "source": [
    "#za svaki merged file, za svako vrijeme pogledat razlike u istoimenim kolonama\n",
    "#prvo trebam imena kolona, to mogu od gore, columns\n",
    "for device in devices:\n",
    "    #columns=columns.drop(['device'])\n",
    "    df = pd.read_csv(r'merged/{}_merged.csv'.format(device), parse_dates=['time_dev', 'time_prod'], encoding='latin1')\n",
    "    \n",
    "    lst = []\n",
    "    for i, row in df.iterrows():\n",
    "        for column in columns:\n",
    "            new_row = False\n",
    "            value1 = row['{}_dev'.format(column)]\n",
    "            value2 = row['{}_prod'.format(column)]\n",
    "            if(not pd.isna(value1) or not pd.isna(value2)):\n",
    "                #ako je bar jedna od vrijednosti razlicita od null\n",
    "                if pd.isna(value1) or pd.isna(value2):\n",
    "                    #ako je neka od njih nan automatski znaci da druga nije pa se moze odmah upisat\n",
    "                    new_row=True\n",
    "                elif column == 'demand_total_active_power' or column == 'v1' or column == 'maximum_demand_total_active_power' :\n",
    "                    #ako value1 nije null i ako je zaokruzena razlicita od 6\n",
    "                    if round(value1,6)!=value2:\n",
    "                        new_row=True\n",
    "                elif column == 'i1':\n",
    "                    if value1!=round(value2,2):\n",
    "                        new_row = True\n",
    "                elif column == 'energy':\n",
    "                    if value1!=round(value2):\n",
    "                        new_row =True\n",
    "                elif column == 'total_power_factor':\n",
    "                    if round(value1,2)!=value2:\n",
    "                        new_row = True\n",
    "                else:\n",
    "                    if row['{}_dev'.format(column)]!=row['{}_prod'.format(column)]:\n",
    "                        new_row = True\n",
    "                \n",
    "            if new_row:\n",
    "                #podatak nije isti, upisujem ga u novu tablicu\n",
    "                diff = abs(value1-value2)\n",
    "                lst.append({'time_dev':row['time_dev'], 'time_prod':row['time_prod'], 'value_dev':row['{}_dev'.format(column)], 'value_prod':row['{}_prod'.format(column)], 'diff':diff})\n",
    "                \n",
    "    final = pd.DataFrame(lst, columns=['time_dev', 'time_prod', 'value_dev', 'value_prod', 'diff'])     \n",
    "    final.to_csv('final/{}_diff.csv'.format(device), index=False)"
   ],
   "metadata": {
    "collapsed": false,
    "ExecuteTime": {
     "end_time": "2024-03-12T22:19:27.697781300Z",
     "start_time": "2024-03-12T22:19:25.383190900Z"
    }
   },
   "id": "62077d20ee40c82a"
  },
  {
   "cell_type": "code",
   "execution_count": 53,
   "outputs": [
    {
     "data": {
      "text/plain": "     demand_total_active_power_dev  demand_total_active_power_prod device_dev  \\\n0                              0.0                             0.0  Drobilica   \n1                              0.0                             0.0  Drobilica   \n2                              0.0                             0.0  Drobilica   \n3                              0.0                             0.0  Drobilica   \n4                              0.0                             0.0  Drobilica   \n..                             ...                             ...        ...   \n295                            0.0                             0.0  Drobilica   \n296                            0.0                             NaN  Drobilica   \n297                            0.0                             0.0  Drobilica   \n298                            0.0                             0.0  Drobilica   \n299                            0.0                             0.0  Drobilica   \n\n    device_prod  energy_dev  energy_prod  i1_dev  i1_prod  i2_dev  i2_prod  \\\n0     Drobilica         302        302.0     0.0      0.0     NaN      NaN   \n1     Drobilica         302        302.0     0.0      0.0     NaN      NaN   \n2     Drobilica         302        302.0     0.0      0.0     NaN      NaN   \n3     Drobilica         302        302.0     0.0      0.0     NaN      NaN   \n4     Drobilica         302        302.0     0.0      0.0     NaN      NaN   \n..          ...         ...          ...     ...      ...     ...      ...   \n295   Drobilica         302        302.0     0.0      0.0     NaN      NaN   \n296         NaN         302          NaN     0.0      NaN     NaN      NaN   \n297   Drobilica         302        302.0     0.0      0.0     NaN      NaN   \n298   Drobilica         302        302.0     0.0      0.0     NaN      NaN   \n299   Drobilica         302        302.0     0.0      0.0     NaN      NaN   \n\n     ...  u13_dev  u13_prod  u23_dev  u23_prod      v1_dev     v1_prod  \\\n0    ...      NaN       NaN      NaN       NaN  231.199997  231.199997   \n1    ...      NaN       NaN      NaN       NaN  231.199997  231.199997   \n2    ...      NaN       NaN      NaN       NaN  231.199997  231.100006   \n3    ...      NaN       NaN      NaN       NaN  231.100006  231.100006   \n4    ...      NaN       NaN      NaN       NaN  231.100006  231.100006   \n..   ...      ...       ...      ...       ...         ...         ...   \n295  ...      NaN       NaN      NaN       NaN  230.399994  230.500000   \n296  ...      NaN       NaN      NaN       NaN  230.500000         NaN   \n297  ...      NaN       NaN      NaN       NaN  230.500000  230.500000   \n298  ...      NaN       NaN      NaN       NaN  230.500000  230.500000   \n299  ...      NaN       NaN      NaN       NaN  230.500000  230.500000   \n\n     v2_dev  v2_prod  v3_dev  v3_prod  \n0       NaN      NaN     NaN      NaN  \n1       NaN      NaN     NaN      NaN  \n2       NaN      NaN     NaN      NaN  \n3       NaN      NaN     NaN      NaN  \n4       NaN      NaN     NaN      NaN  \n..      ...      ...     ...      ...  \n295     NaN      NaN     NaN      NaN  \n296     NaN      NaN     NaN      NaN  \n297     NaN      NaN     NaN      NaN  \n298     NaN      NaN     NaN      NaN  \n299     NaN      NaN     NaN      NaN  \n\n[300 rows x 34 columns]",
      "text/html": "<div>\n<style scoped>\n    .dataframe tbody tr th:only-of-type {\n        vertical-align: middle;\n    }\n\n    .dataframe tbody tr th {\n        vertical-align: top;\n    }\n\n    .dataframe thead th {\n        text-align: right;\n    }\n</style>\n<table border=\"1\" class=\"dataframe\">\n  <thead>\n    <tr style=\"text-align: right;\">\n      <th></th>\n      <th>demand_total_active_power_dev</th>\n      <th>demand_total_active_power_prod</th>\n      <th>device_dev</th>\n      <th>device_prod</th>\n      <th>energy_dev</th>\n      <th>energy_prod</th>\n      <th>i1_dev</th>\n      <th>i1_prod</th>\n      <th>i2_dev</th>\n      <th>i2_prod</th>\n      <th>...</th>\n      <th>u13_dev</th>\n      <th>u13_prod</th>\n      <th>u23_dev</th>\n      <th>u23_prod</th>\n      <th>v1_dev</th>\n      <th>v1_prod</th>\n      <th>v2_dev</th>\n      <th>v2_prod</th>\n      <th>v3_dev</th>\n      <th>v3_prod</th>\n    </tr>\n  </thead>\n  <tbody>\n    <tr>\n      <th>0</th>\n      <td>0.0</td>\n      <td>0.0</td>\n      <td>Drobilica</td>\n      <td>Drobilica</td>\n      <td>302</td>\n      <td>302.0</td>\n      <td>0.0</td>\n      <td>0.0</td>\n      <td>NaN</td>\n      <td>NaN</td>\n      <td>...</td>\n      <td>NaN</td>\n      <td>NaN</td>\n      <td>NaN</td>\n      <td>NaN</td>\n      <td>231.199997</td>\n      <td>231.199997</td>\n      <td>NaN</td>\n      <td>NaN</td>\n      <td>NaN</td>\n      <td>NaN</td>\n    </tr>\n    <tr>\n      <th>1</th>\n      <td>0.0</td>\n      <td>0.0</td>\n      <td>Drobilica</td>\n      <td>Drobilica</td>\n      <td>302</td>\n      <td>302.0</td>\n      <td>0.0</td>\n      <td>0.0</td>\n      <td>NaN</td>\n      <td>NaN</td>\n      <td>...</td>\n      <td>NaN</td>\n      <td>NaN</td>\n      <td>NaN</td>\n      <td>NaN</td>\n      <td>231.199997</td>\n      <td>231.199997</td>\n      <td>NaN</td>\n      <td>NaN</td>\n      <td>NaN</td>\n      <td>NaN</td>\n    </tr>\n    <tr>\n      <th>2</th>\n      <td>0.0</td>\n      <td>0.0</td>\n      <td>Drobilica</td>\n      <td>Drobilica</td>\n      <td>302</td>\n      <td>302.0</td>\n      <td>0.0</td>\n      <td>0.0</td>\n      <td>NaN</td>\n      <td>NaN</td>\n      <td>...</td>\n      <td>NaN</td>\n      <td>NaN</td>\n      <td>NaN</td>\n      <td>NaN</td>\n      <td>231.199997</td>\n      <td>231.100006</td>\n      <td>NaN</td>\n      <td>NaN</td>\n      <td>NaN</td>\n      <td>NaN</td>\n    </tr>\n    <tr>\n      <th>3</th>\n      <td>0.0</td>\n      <td>0.0</td>\n      <td>Drobilica</td>\n      <td>Drobilica</td>\n      <td>302</td>\n      <td>302.0</td>\n      <td>0.0</td>\n      <td>0.0</td>\n      <td>NaN</td>\n      <td>NaN</td>\n      <td>...</td>\n      <td>NaN</td>\n      <td>NaN</td>\n      <td>NaN</td>\n      <td>NaN</td>\n      <td>231.100006</td>\n      <td>231.100006</td>\n      <td>NaN</td>\n      <td>NaN</td>\n      <td>NaN</td>\n      <td>NaN</td>\n    </tr>\n    <tr>\n      <th>4</th>\n      <td>0.0</td>\n      <td>0.0</td>\n      <td>Drobilica</td>\n      <td>Drobilica</td>\n      <td>302</td>\n      <td>302.0</td>\n      <td>0.0</td>\n      <td>0.0</td>\n      <td>NaN</td>\n      <td>NaN</td>\n      <td>...</td>\n      <td>NaN</td>\n      <td>NaN</td>\n      <td>NaN</td>\n      <td>NaN</td>\n      <td>231.100006</td>\n      <td>231.100006</td>\n      <td>NaN</td>\n      <td>NaN</td>\n      <td>NaN</td>\n      <td>NaN</td>\n    </tr>\n    <tr>\n      <th>...</th>\n      <td>...</td>\n      <td>...</td>\n      <td>...</td>\n      <td>...</td>\n      <td>...</td>\n      <td>...</td>\n      <td>...</td>\n      <td>...</td>\n      <td>...</td>\n      <td>...</td>\n      <td>...</td>\n      <td>...</td>\n      <td>...</td>\n      <td>...</td>\n      <td>...</td>\n      <td>...</td>\n      <td>...</td>\n      <td>...</td>\n      <td>...</td>\n      <td>...</td>\n      <td>...</td>\n    </tr>\n    <tr>\n      <th>295</th>\n      <td>0.0</td>\n      <td>0.0</td>\n      <td>Drobilica</td>\n      <td>Drobilica</td>\n      <td>302</td>\n      <td>302.0</td>\n      <td>0.0</td>\n      <td>0.0</td>\n      <td>NaN</td>\n      <td>NaN</td>\n      <td>...</td>\n      <td>NaN</td>\n      <td>NaN</td>\n      <td>NaN</td>\n      <td>NaN</td>\n      <td>230.399994</td>\n      <td>230.500000</td>\n      <td>NaN</td>\n      <td>NaN</td>\n      <td>NaN</td>\n      <td>NaN</td>\n    </tr>\n    <tr>\n      <th>296</th>\n      <td>0.0</td>\n      <td>NaN</td>\n      <td>Drobilica</td>\n      <td>NaN</td>\n      <td>302</td>\n      <td>NaN</td>\n      <td>0.0</td>\n      <td>NaN</td>\n      <td>NaN</td>\n      <td>NaN</td>\n      <td>...</td>\n      <td>NaN</td>\n      <td>NaN</td>\n      <td>NaN</td>\n      <td>NaN</td>\n      <td>230.500000</td>\n      <td>NaN</td>\n      <td>NaN</td>\n      <td>NaN</td>\n      <td>NaN</td>\n      <td>NaN</td>\n    </tr>\n    <tr>\n      <th>297</th>\n      <td>0.0</td>\n      <td>0.0</td>\n      <td>Drobilica</td>\n      <td>Drobilica</td>\n      <td>302</td>\n      <td>302.0</td>\n      <td>0.0</td>\n      <td>0.0</td>\n      <td>NaN</td>\n      <td>NaN</td>\n      <td>...</td>\n      <td>NaN</td>\n      <td>NaN</td>\n      <td>NaN</td>\n      <td>NaN</td>\n      <td>230.500000</td>\n      <td>230.500000</td>\n      <td>NaN</td>\n      <td>NaN</td>\n      <td>NaN</td>\n      <td>NaN</td>\n    </tr>\n    <tr>\n      <th>298</th>\n      <td>0.0</td>\n      <td>0.0</td>\n      <td>Drobilica</td>\n      <td>Drobilica</td>\n      <td>302</td>\n      <td>302.0</td>\n      <td>0.0</td>\n      <td>0.0</td>\n      <td>NaN</td>\n      <td>NaN</td>\n      <td>...</td>\n      <td>NaN</td>\n      <td>NaN</td>\n      <td>NaN</td>\n      <td>NaN</td>\n      <td>230.500000</td>\n      <td>230.500000</td>\n      <td>NaN</td>\n      <td>NaN</td>\n      <td>NaN</td>\n      <td>NaN</td>\n    </tr>\n    <tr>\n      <th>299</th>\n      <td>0.0</td>\n      <td>0.0</td>\n      <td>Drobilica</td>\n      <td>Drobilica</td>\n      <td>302</td>\n      <td>302.0</td>\n      <td>0.0</td>\n      <td>0.0</td>\n      <td>NaN</td>\n      <td>NaN</td>\n      <td>...</td>\n      <td>NaN</td>\n      <td>NaN</td>\n      <td>NaN</td>\n      <td>NaN</td>\n      <td>230.500000</td>\n      <td>230.500000</td>\n      <td>NaN</td>\n      <td>NaN</td>\n      <td>NaN</td>\n      <td>NaN</td>\n    </tr>\n  </tbody>\n</table>\n<p>300 rows × 34 columns</p>\n</div>"
     },
     "execution_count": 53,
     "metadata": {},
     "output_type": "execute_result"
    }
   ],
   "source": [
    "df = pd.read_csv(r'merged/{}_merged.csv'.format('Drobilica'), parse_dates=['time_dev', 'time_prod'], encoding='latin1')\n",
    "df"
   ],
   "metadata": {
    "collapsed": false,
    "ExecuteTime": {
     "end_time": "2024-03-12T22:18:44.523577500Z",
     "start_time": "2024-03-12T22:18:44.429558300Z"
    }
   },
   "id": "4bb50b95b78b4c1c"
  },
  {
   "cell_type": "markdown",
   "source": [],
   "metadata": {
    "collapsed": false
   },
   "id": "74dc8d4e5d942bd3"
  }
 ],
 "metadata": {
  "kernelspec": {
   "display_name": "Python 3",
   "language": "python",
   "name": "python3"
  },
  "language_info": {
   "codemirror_mode": {
    "name": "ipython",
    "version": 2
   },
   "file_extension": ".py",
   "mimetype": "text/x-python",
   "name": "python",
   "nbconvert_exporter": "python",
   "pygments_lexer": "ipython2",
   "version": "2.7.6"
  }
 },
 "nbformat": 4,
 "nbformat_minor": 5
}
