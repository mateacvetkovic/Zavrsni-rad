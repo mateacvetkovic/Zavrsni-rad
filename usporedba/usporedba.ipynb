{
 "cells": [
  {
   "cell_type": "code",
   "execution_count": 1,
   "id": "initial_id",
   "metadata": {
    "collapsed": true,
    "ExecuteTime": {
     "end_time": "2024-03-11T17:15:40.629504900Z",
     "start_time": "2024-03-11T17:15:31.416186600Z"
    }
   },
   "outputs": [],
   "source": [
    "import pandas as pd\n",
    "from my_functions import obrada, get_limits, generate_all_timestamps, make_table, check_holes_better,  filter_rows\n",
    "import numpy as np\n",
    "from matplotlib import pyplot as plt"
   ]
  },
  {
   "cell_type": "code",
   "execution_count": 2,
   "outputs": [
    {
     "name": "stdout",
     "output_type": "stream",
     "text": [
      "['Aparat za kavu' 'Perilica rublja' 'Uticnice' 'Napa' 'Mikrovalna'\n",
      " 'Rasvjeta' 'Podno grijanje' 'Rolete' 'Drobilica' 'Elektricni bojler'\n",
      " 'Å\\xa0tednjak' 'Frizider' 'Pecnica' 'Klima' 'Perilica posuda'\n",
      " 'Susilica rublja' 'Led rasvjeta' 'Uticnica']\n"
     ]
    }
   ],
   "source": [
    "df = pd.read_csv(r'postgres_public_measurements_dev.csv', parse_dates=['time'], encoding='latin1')\n",
    "#odredivanje svih uredaja\n",
    "devices = df['device'].unique()\n",
    "print(devices)"
   ],
   "metadata": {
    "collapsed": false,
    "ExecuteTime": {
     "end_time": "2024-03-11T17:16:17.676389600Z",
     "start_time": "2024-03-11T17:16:17.410827200Z"
    }
   },
   "id": "c78dc073c84afa7d"
  },
  {
   "cell_type": "code",
   "execution_count": 3,
   "outputs": [],
   "source": [
    "#izrada csvova za svaki uredaj\n",
    "for device in devices:\n",
    "    df[df['device']==device].to_csv(\"{}_dev.csv\".format(device), index=False)"
   ],
   "metadata": {
    "collapsed": false,
    "ExecuteTime": {
     "end_time": "2024-03-11T17:21:49.877455200Z",
     "start_time": "2024-03-11T17:21:49.736567Z"
    }
   },
   "id": "26b6f6f6dd87e32f"
  },
  {
   "cell_type": "code",
   "execution_count": 4,
   "outputs": [],
   "source": [
    "df2 = pd.read_csv(r'postgres_public_measurements_prod.csv', parse_dates=['time'], encoding='latin1')\n",
    "devices2 = df['device'].unique()\n",
    "for device in devices2:\n",
    "    df2[df2['device']==device].to_csv(\"{}_prod.csv\".format(device), index=False)"
   ],
   "metadata": {
    "collapsed": false,
    "ExecuteTime": {
     "end_time": "2024-03-11T17:24:18.221654500Z",
     "start_time": "2024-03-11T17:24:17.732826Z"
    }
   },
   "id": "528a4b723923bd03"
  },
  {
   "cell_type": "code",
   "execution_count": 29,
   "outputs": [],
   "source": [
    "#sad nekako spojit dev i prod po uredaju u jednu, novu tablicu\n",
    "df = pd.read_csv(r'Aparat za kavu_dev.csv', parse_dates=['time'], encoding='latin1')\n",
    "\n",
    "#najmanja udaljenost susjednih kolona, bilo što što je bliže trenutku od pola minimuma moze se 'poistovjetiti' kao isti trenutak"
   ],
   "metadata": {
    "collapsed": false,
    "ExecuteTime": {
     "end_time": "2024-03-11T20:22:59.118559600Z",
     "start_time": "2024-03-11T20:22:59.086890500Z"
    }
   },
   "id": "12c8ecb2de8f033e"
  },
  {
   "cell_type": "code",
   "execution_count": 14,
   "outputs": [
    {
     "name": "stdout",
     "output_type": "stream",
     "text": [
      "0 days 00:00:01.985746\n"
     ]
    }
   ],
   "source": [
    "df['diff']=df['time'].diff(periods=-1)\n",
    "minimum=df['diff'].min()\n",
    "print(minimum)"
   ],
   "metadata": {
    "collapsed": false,
    "ExecuteTime": {
     "end_time": "2024-03-11T19:49:26.344208800Z",
     "start_time": "2024-03-11T19:49:26.312924100Z"
    }
   },
   "id": "f53bf87b929dfc7e"
  },
  {
   "cell_type": "code",
   "execution_count": 30,
   "outputs": [],
   "source": [
    "#sad nekako spojit dev i prod po uredaju u jednu, novu tablicu\n",
    "df2 = pd.read_csv(r'Aparat za kavu_prod.csv', parse_dates=['time'], encoding='latin1')\n",
    "\n",
    "#najmanja udaljenost susjednih kolona, bilo što što je bliže trenutku od pola minimuma moze se 'poistovjetiti' kao isti trenutak"
   ],
   "metadata": {
    "collapsed": false,
    "ExecuteTime": {
     "end_time": "2024-03-11T20:23:04.496770600Z",
     "start_time": "2024-03-11T20:23:04.465083300Z"
    }
   },
   "id": "284ee2f842318683"
  },
  {
   "cell_type": "code",
   "execution_count": null,
   "outputs": [],
   "source": [
    "df2['diff']=df2['time'].diff(periods=-1)\n",
    "minimum2=df2['diff'].min()\n",
    "print(minimum2)"
   ],
   "metadata": {
    "collapsed": false
   },
   "id": "6aed01dc5a8d4b37"
  },
  {
   "cell_type": "code",
   "execution_count": null,
   "outputs": [],
   "source": [
    "df.drop(columns=['diff'], inplace=True)\n",
    "df2.drop(columns=['diff'], inplace=True)"
   ],
   "metadata": {
    "collapsed": false
   },
   "id": "3a23b0ed61057315"
  },
  {
   "cell_type": "code",
   "execution_count": 31,
   "outputs": [],
   "source": [
    "df=df.sort_values('time')\n",
    "df2=df2.sort_values('time')"
   ],
   "metadata": {
    "collapsed": false,
    "ExecuteTime": {
     "end_time": "2024-03-11T20:23:10.366145300Z",
     "start_time": "2024-03-11T20:23:10.334902600Z"
    }
   },
   "id": "e3d8f0495681557e"
  },
  {
   "cell_type": "code",
   "execution_count": 32,
   "outputs": [],
   "source": [
    "df=df.rename(columns={'time': 'time_dev'})\n",
    "df2=df2.rename(columns={'time': 'time_prod'})"
   ],
   "metadata": {
    "collapsed": false,
    "ExecuteTime": {
     "end_time": "2024-03-11T20:23:13.765103Z",
     "start_time": "2024-03-11T20:23:13.733822800Z"
    }
   },
   "id": "dd4d0f6b78eda2bd"
  },
  {
   "cell_type": "code",
   "execution_count": 58,
   "outputs": [
    {
     "data": {
      "text/plain": "          id                   time_dev    energy  total_active_power  \\\n299  1296352 2024-02-12 16:00:00.001248  10638286                 0.0   \n298  1296377 2024-02-12 16:00:02.001569  10638286                 0.0   \n297  1296402 2024-02-12 16:00:04.000326  10638286                 0.0   \n296  1296427 2024-02-12 16:00:06.001488  10638286                 0.0   \n295  1296452 2024-02-12 16:00:08.000475  10638286                 0.0   \n..       ...                        ...       ...                 ...   \n4    1303727 2024-02-12 16:09:50.000329  10638333                 0.0   \n3    1303752 2024-02-12 16:09:52.000628  10638333                 0.0   \n2    1303777 2024-02-12 16:09:54.000515  10638333                 0.0   \n1    1303802 2024-02-12 16:09:56.000207  10638333                 0.0   \n0    1303827 2024-02-12 16:09:58.001472  10638333                 0.0   \n\n     demand_total_active_power  maximum_demand_total_active_power   i1   i2  \\\n299                 287.283325                         38795.0625  0.0  0.0   \n298                 287.283325                         38795.0625  0.0  0.0   \n297                 287.283325                         38795.0625  0.0  0.0   \n296                 287.283325                         38795.0625  0.0  0.0   \n295                 287.283325                         38795.0625  0.0  0.0   \n..                         ...                                ...  ...  ...   \n4                   288.166687                         38795.0625  0.0  0.0   \n3                   288.166687                         38795.0625  0.0  0.0   \n2                   288.166687                         38795.0625  0.0  0.0   \n1                   288.166687                         38795.0625  0.0  0.0   \n0                   288.166687                         38795.0625  0.0  0.0   \n\n      i3         u12         u23         u13  v1  v2  v3          device  \\\n299  0.0  400.000000  401.100006  400.500000 NaN NaN NaN  Aparat za kavu   \n298  0.0  400.299988  401.500000  400.600006 NaN NaN NaN  Aparat za kavu   \n297  0.0  400.299988  401.500000  400.600006 NaN NaN NaN  Aparat za kavu   \n296  0.0  400.299988  401.299988  400.500000 NaN NaN NaN  Aparat za kavu   \n295  0.0  400.299988  401.299988  400.500000 NaN NaN NaN  Aparat za kavu   \n..   ...         ...         ...         ...  ..  ..  ..             ...   \n4    0.0  400.600006  401.100006  400.200012 NaN NaN NaN  Aparat za kavu   \n3    0.0  400.799988  401.299988  400.200012 NaN NaN NaN  Aparat za kavu   \n2    0.0  400.799988  401.299988  400.200012 NaN NaN NaN  Aparat za kavu   \n1    0.0  400.600006  401.200012  400.100006 NaN NaN NaN  Aparat za kavu   \n0    0.0  400.600006  401.200012  400.100006 NaN NaN NaN  Aparat za kavu   \n\n     total_power_factor  total_apparent_power  \n299                 NaN                   0.0  \n298                 NaN                   0.0  \n297                 NaN                   0.0  \n296                 NaN                   0.0  \n295                 NaN                   0.0  \n..                  ...                   ...  \n4                   NaN                   0.0  \n3                   NaN                   0.0  \n2                   NaN                   0.0  \n1                   NaN                   0.0  \n0                   NaN                   0.0  \n\n[300 rows x 18 columns]",
      "text/html": "<div>\n<style scoped>\n    .dataframe tbody tr th:only-of-type {\n        vertical-align: middle;\n    }\n\n    .dataframe tbody tr th {\n        vertical-align: top;\n    }\n\n    .dataframe thead th {\n        text-align: right;\n    }\n</style>\n<table border=\"1\" class=\"dataframe\">\n  <thead>\n    <tr style=\"text-align: right;\">\n      <th></th>\n      <th>id</th>\n      <th>time_dev</th>\n      <th>energy</th>\n      <th>total_active_power</th>\n      <th>demand_total_active_power</th>\n      <th>maximum_demand_total_active_power</th>\n      <th>i1</th>\n      <th>i2</th>\n      <th>i3</th>\n      <th>u12</th>\n      <th>u23</th>\n      <th>u13</th>\n      <th>v1</th>\n      <th>v2</th>\n      <th>v3</th>\n      <th>device</th>\n      <th>total_power_factor</th>\n      <th>total_apparent_power</th>\n    </tr>\n  </thead>\n  <tbody>\n    <tr>\n      <th>299</th>\n      <td>1296352</td>\n      <td>2024-02-12 16:00:00.001248</td>\n      <td>10638286</td>\n      <td>0.0</td>\n      <td>287.283325</td>\n      <td>38795.0625</td>\n      <td>0.0</td>\n      <td>0.0</td>\n      <td>0.0</td>\n      <td>400.000000</td>\n      <td>401.100006</td>\n      <td>400.500000</td>\n      <td>NaN</td>\n      <td>NaN</td>\n      <td>NaN</td>\n      <td>Aparat za kavu</td>\n      <td>NaN</td>\n      <td>0.0</td>\n    </tr>\n    <tr>\n      <th>298</th>\n      <td>1296377</td>\n      <td>2024-02-12 16:00:02.001569</td>\n      <td>10638286</td>\n      <td>0.0</td>\n      <td>287.283325</td>\n      <td>38795.0625</td>\n      <td>0.0</td>\n      <td>0.0</td>\n      <td>0.0</td>\n      <td>400.299988</td>\n      <td>401.500000</td>\n      <td>400.600006</td>\n      <td>NaN</td>\n      <td>NaN</td>\n      <td>NaN</td>\n      <td>Aparat za kavu</td>\n      <td>NaN</td>\n      <td>0.0</td>\n    </tr>\n    <tr>\n      <th>297</th>\n      <td>1296402</td>\n      <td>2024-02-12 16:00:04.000326</td>\n      <td>10638286</td>\n      <td>0.0</td>\n      <td>287.283325</td>\n      <td>38795.0625</td>\n      <td>0.0</td>\n      <td>0.0</td>\n      <td>0.0</td>\n      <td>400.299988</td>\n      <td>401.500000</td>\n      <td>400.600006</td>\n      <td>NaN</td>\n      <td>NaN</td>\n      <td>NaN</td>\n      <td>Aparat za kavu</td>\n      <td>NaN</td>\n      <td>0.0</td>\n    </tr>\n    <tr>\n      <th>296</th>\n      <td>1296427</td>\n      <td>2024-02-12 16:00:06.001488</td>\n      <td>10638286</td>\n      <td>0.0</td>\n      <td>287.283325</td>\n      <td>38795.0625</td>\n      <td>0.0</td>\n      <td>0.0</td>\n      <td>0.0</td>\n      <td>400.299988</td>\n      <td>401.299988</td>\n      <td>400.500000</td>\n      <td>NaN</td>\n      <td>NaN</td>\n      <td>NaN</td>\n      <td>Aparat za kavu</td>\n      <td>NaN</td>\n      <td>0.0</td>\n    </tr>\n    <tr>\n      <th>295</th>\n      <td>1296452</td>\n      <td>2024-02-12 16:00:08.000475</td>\n      <td>10638286</td>\n      <td>0.0</td>\n      <td>287.283325</td>\n      <td>38795.0625</td>\n      <td>0.0</td>\n      <td>0.0</td>\n      <td>0.0</td>\n      <td>400.299988</td>\n      <td>401.299988</td>\n      <td>400.500000</td>\n      <td>NaN</td>\n      <td>NaN</td>\n      <td>NaN</td>\n      <td>Aparat za kavu</td>\n      <td>NaN</td>\n      <td>0.0</td>\n    </tr>\n    <tr>\n      <th>...</th>\n      <td>...</td>\n      <td>...</td>\n      <td>...</td>\n      <td>...</td>\n      <td>...</td>\n      <td>...</td>\n      <td>...</td>\n      <td>...</td>\n      <td>...</td>\n      <td>...</td>\n      <td>...</td>\n      <td>...</td>\n      <td>...</td>\n      <td>...</td>\n      <td>...</td>\n      <td>...</td>\n      <td>...</td>\n      <td>...</td>\n    </tr>\n    <tr>\n      <th>4</th>\n      <td>1303727</td>\n      <td>2024-02-12 16:09:50.000329</td>\n      <td>10638333</td>\n      <td>0.0</td>\n      <td>288.166687</td>\n      <td>38795.0625</td>\n      <td>0.0</td>\n      <td>0.0</td>\n      <td>0.0</td>\n      <td>400.600006</td>\n      <td>401.100006</td>\n      <td>400.200012</td>\n      <td>NaN</td>\n      <td>NaN</td>\n      <td>NaN</td>\n      <td>Aparat za kavu</td>\n      <td>NaN</td>\n      <td>0.0</td>\n    </tr>\n    <tr>\n      <th>3</th>\n      <td>1303752</td>\n      <td>2024-02-12 16:09:52.000628</td>\n      <td>10638333</td>\n      <td>0.0</td>\n      <td>288.166687</td>\n      <td>38795.0625</td>\n      <td>0.0</td>\n      <td>0.0</td>\n      <td>0.0</td>\n      <td>400.799988</td>\n      <td>401.299988</td>\n      <td>400.200012</td>\n      <td>NaN</td>\n      <td>NaN</td>\n      <td>NaN</td>\n      <td>Aparat za kavu</td>\n      <td>NaN</td>\n      <td>0.0</td>\n    </tr>\n    <tr>\n      <th>2</th>\n      <td>1303777</td>\n      <td>2024-02-12 16:09:54.000515</td>\n      <td>10638333</td>\n      <td>0.0</td>\n      <td>288.166687</td>\n      <td>38795.0625</td>\n      <td>0.0</td>\n      <td>0.0</td>\n      <td>0.0</td>\n      <td>400.799988</td>\n      <td>401.299988</td>\n      <td>400.200012</td>\n      <td>NaN</td>\n      <td>NaN</td>\n      <td>NaN</td>\n      <td>Aparat za kavu</td>\n      <td>NaN</td>\n      <td>0.0</td>\n    </tr>\n    <tr>\n      <th>1</th>\n      <td>1303802</td>\n      <td>2024-02-12 16:09:56.000207</td>\n      <td>10638333</td>\n      <td>0.0</td>\n      <td>288.166687</td>\n      <td>38795.0625</td>\n      <td>0.0</td>\n      <td>0.0</td>\n      <td>0.0</td>\n      <td>400.600006</td>\n      <td>401.200012</td>\n      <td>400.100006</td>\n      <td>NaN</td>\n      <td>NaN</td>\n      <td>NaN</td>\n      <td>Aparat za kavu</td>\n      <td>NaN</td>\n      <td>0.0</td>\n    </tr>\n    <tr>\n      <th>0</th>\n      <td>1303827</td>\n      <td>2024-02-12 16:09:58.001472</td>\n      <td>10638333</td>\n      <td>0.0</td>\n      <td>288.166687</td>\n      <td>38795.0625</td>\n      <td>0.0</td>\n      <td>0.0</td>\n      <td>0.0</td>\n      <td>400.600006</td>\n      <td>401.200012</td>\n      <td>400.100006</td>\n      <td>NaN</td>\n      <td>NaN</td>\n      <td>NaN</td>\n      <td>Aparat za kavu</td>\n      <td>NaN</td>\n      <td>0.0</td>\n    </tr>\n  </tbody>\n</table>\n<p>300 rows × 18 columns</p>\n</div>"
     },
     "execution_count": 58,
     "metadata": {},
     "output_type": "execute_result"
    }
   ],
   "source": [
    "df"
   ],
   "metadata": {
    "collapsed": false,
    "ExecuteTime": {
     "end_time": "2024-03-11T20:46:20.698785700Z",
     "start_time": "2024-03-11T20:46:20.620505900Z"
    }
   },
   "id": "11672799a34e33a4"
  },
  {
   "cell_type": "code",
   "execution_count": 60,
   "outputs": [
    {
     "data": {
      "text/plain": "False"
     },
     "execution_count": 60,
     "metadata": {},
     "output_type": "execute_result"
    }
   ],
   "source": [
    "df2['time_prod'].duplicated().any()\n"
   ],
   "metadata": {
    "collapsed": false,
    "ExecuteTime": {
     "end_time": "2024-03-11T20:53:37.603651900Z",
     "start_time": "2024-03-11T20:53:37.588013Z"
    }
   },
   "id": "ce42231b812a52b1"
  },
  {
   "cell_type": "code",
   "execution_count": 54,
   "outputs": [
    {
     "data": {
      "text/plain": "      id_dev                   time_dev  energy_dev  total_active_power_dev  \\\n0    1296352 2024-02-12 16:00:00.001248    10638286                     0.0   \n1    1296377 2024-02-12 16:00:02.001569    10638286                     0.0   \n2    1296402 2024-02-12 16:00:04.000326    10638286                     0.0   \n3    1296427 2024-02-12 16:00:06.001488    10638286                     0.0   \n4    1296452 2024-02-12 16:00:08.000475    10638286                     0.0   \n..       ...                        ...         ...                     ...   \n295  1303727 2024-02-12 16:09:50.000329    10638333                     0.0   \n296  1303752 2024-02-12 16:09:52.000628    10638333                     0.0   \n297  1303777 2024-02-12 16:09:54.000515    10638333                     0.0   \n298  1303802 2024-02-12 16:09:56.000207    10638333                     0.0   \n299  1303827 2024-02-12 16:09:58.001472    10638333                     0.0   \n\n     demand_total_active_power_dev  maximum_demand_total_active_power_dev  \\\n0                       287.283325                             38795.0625   \n1                       287.283325                             38795.0625   \n2                       287.283325                             38795.0625   \n3                       287.283325                             38795.0625   \n4                       287.283325                             38795.0625   \n..                             ...                                    ...   \n295                     288.166687                             38795.0625   \n296                     288.166687                             38795.0625   \n297                     288.166687                             38795.0625   \n298                     288.166687                             38795.0625   \n299                     288.166687                             38795.0625   \n\n     i1_dev  i2_dev  i3_dev     u12_dev  ...  i3_prod    u12_prod    u23_prod  \\\n0       0.0     0.0     0.0  400.000000  ...      0.0  400.299988  401.500000   \n1       0.0     0.0     0.0  400.299988  ...      0.0  400.299988  401.500000   \n2       0.0     0.0     0.0  400.299988  ...      0.0  400.299988  401.299988   \n3       0.0     0.0     0.0  400.299988  ...      0.0  400.299988  401.299988   \n4       0.0     0.0     0.0  400.299988  ...      0.0  400.299988  401.299988   \n..      ...     ...     ...         ...  ...      ...         ...         ...   \n295     0.0     0.0     0.0  400.600006  ...      0.0  400.799988  401.299988   \n296     0.0     0.0     0.0  400.799988  ...      NaN         NaN         NaN   \n297     0.0     0.0     0.0  400.799988  ...      0.0  400.799988  401.299988   \n298     0.0     0.0     0.0  400.600006  ...      0.0  400.600006  401.200012   \n299     0.0     0.0     0.0  400.600006  ...      0.0  400.600006  401.200012   \n\n       u13_prod  v1_prod v2_prod  v3_prod     device_prod  \\\n0    400.600006      NaN     NaN      NaN  Aparat za kavu   \n1    400.600006      NaN     NaN      NaN  Aparat za kavu   \n2    400.500000      NaN     NaN      NaN  Aparat za kavu   \n3    400.500000      NaN     NaN      NaN  Aparat za kavu   \n4    400.500000      NaN     NaN      NaN  Aparat za kavu   \n..          ...      ...     ...      ...             ...   \n295  400.200012      NaN     NaN      NaN  Aparat za kavu   \n296         NaN      NaN     NaN      NaN             NaN   \n297  400.200012      NaN     NaN      NaN  Aparat za kavu   \n298  400.100006      NaN     NaN      NaN  Aparat za kavu   \n299  400.100006      NaN     NaN      NaN  Aparat za kavu   \n\n     total_power_factor_prod total_apparent_power_prod  \n0                        NaN                       0.0  \n1                        NaN                       0.0  \n2                        NaN                       0.0  \n3                        NaN                       0.0  \n4                        NaN                       0.0  \n..                       ...                       ...  \n295                      NaN                       0.0  \n296                      NaN                       NaN  \n297                      NaN                       0.0  \n298                      NaN                       0.0  \n299                      NaN                       0.0  \n\n[300 rows x 36 columns]",
      "text/html": "<div>\n<style scoped>\n    .dataframe tbody tr th:only-of-type {\n        vertical-align: middle;\n    }\n\n    .dataframe tbody tr th {\n        vertical-align: top;\n    }\n\n    .dataframe thead th {\n        text-align: right;\n    }\n</style>\n<table border=\"1\" class=\"dataframe\">\n  <thead>\n    <tr style=\"text-align: right;\">\n      <th></th>\n      <th>id_dev</th>\n      <th>time_dev</th>\n      <th>energy_dev</th>\n      <th>total_active_power_dev</th>\n      <th>demand_total_active_power_dev</th>\n      <th>maximum_demand_total_active_power_dev</th>\n      <th>i1_dev</th>\n      <th>i2_dev</th>\n      <th>i3_dev</th>\n      <th>u12_dev</th>\n      <th>...</th>\n      <th>i3_prod</th>\n      <th>u12_prod</th>\n      <th>u23_prod</th>\n      <th>u13_prod</th>\n      <th>v1_prod</th>\n      <th>v2_prod</th>\n      <th>v3_prod</th>\n      <th>device_prod</th>\n      <th>total_power_factor_prod</th>\n      <th>total_apparent_power_prod</th>\n    </tr>\n  </thead>\n  <tbody>\n    <tr>\n      <th>0</th>\n      <td>1296352</td>\n      <td>2024-02-12 16:00:00.001248</td>\n      <td>10638286</td>\n      <td>0.0</td>\n      <td>287.283325</td>\n      <td>38795.0625</td>\n      <td>0.0</td>\n      <td>0.0</td>\n      <td>0.0</td>\n      <td>400.000000</td>\n      <td>...</td>\n      <td>0.0</td>\n      <td>400.299988</td>\n      <td>401.500000</td>\n      <td>400.600006</td>\n      <td>NaN</td>\n      <td>NaN</td>\n      <td>NaN</td>\n      <td>Aparat za kavu</td>\n      <td>NaN</td>\n      <td>0.0</td>\n    </tr>\n    <tr>\n      <th>1</th>\n      <td>1296377</td>\n      <td>2024-02-12 16:00:02.001569</td>\n      <td>10638286</td>\n      <td>0.0</td>\n      <td>287.283325</td>\n      <td>38795.0625</td>\n      <td>0.0</td>\n      <td>0.0</td>\n      <td>0.0</td>\n      <td>400.299988</td>\n      <td>...</td>\n      <td>0.0</td>\n      <td>400.299988</td>\n      <td>401.500000</td>\n      <td>400.600006</td>\n      <td>NaN</td>\n      <td>NaN</td>\n      <td>NaN</td>\n      <td>Aparat za kavu</td>\n      <td>NaN</td>\n      <td>0.0</td>\n    </tr>\n    <tr>\n      <th>2</th>\n      <td>1296402</td>\n      <td>2024-02-12 16:00:04.000326</td>\n      <td>10638286</td>\n      <td>0.0</td>\n      <td>287.283325</td>\n      <td>38795.0625</td>\n      <td>0.0</td>\n      <td>0.0</td>\n      <td>0.0</td>\n      <td>400.299988</td>\n      <td>...</td>\n      <td>0.0</td>\n      <td>400.299988</td>\n      <td>401.299988</td>\n      <td>400.500000</td>\n      <td>NaN</td>\n      <td>NaN</td>\n      <td>NaN</td>\n      <td>Aparat za kavu</td>\n      <td>NaN</td>\n      <td>0.0</td>\n    </tr>\n    <tr>\n      <th>3</th>\n      <td>1296427</td>\n      <td>2024-02-12 16:00:06.001488</td>\n      <td>10638286</td>\n      <td>0.0</td>\n      <td>287.283325</td>\n      <td>38795.0625</td>\n      <td>0.0</td>\n      <td>0.0</td>\n      <td>0.0</td>\n      <td>400.299988</td>\n      <td>...</td>\n      <td>0.0</td>\n      <td>400.299988</td>\n      <td>401.299988</td>\n      <td>400.500000</td>\n      <td>NaN</td>\n      <td>NaN</td>\n      <td>NaN</td>\n      <td>Aparat za kavu</td>\n      <td>NaN</td>\n      <td>0.0</td>\n    </tr>\n    <tr>\n      <th>4</th>\n      <td>1296452</td>\n      <td>2024-02-12 16:00:08.000475</td>\n      <td>10638286</td>\n      <td>0.0</td>\n      <td>287.283325</td>\n      <td>38795.0625</td>\n      <td>0.0</td>\n      <td>0.0</td>\n      <td>0.0</td>\n      <td>400.299988</td>\n      <td>...</td>\n      <td>0.0</td>\n      <td>400.299988</td>\n      <td>401.299988</td>\n      <td>400.500000</td>\n      <td>NaN</td>\n      <td>NaN</td>\n      <td>NaN</td>\n      <td>Aparat za kavu</td>\n      <td>NaN</td>\n      <td>0.0</td>\n    </tr>\n    <tr>\n      <th>...</th>\n      <td>...</td>\n      <td>...</td>\n      <td>...</td>\n      <td>...</td>\n      <td>...</td>\n      <td>...</td>\n      <td>...</td>\n      <td>...</td>\n      <td>...</td>\n      <td>...</td>\n      <td>...</td>\n      <td>...</td>\n      <td>...</td>\n      <td>...</td>\n      <td>...</td>\n      <td>...</td>\n      <td>...</td>\n      <td>...</td>\n      <td>...</td>\n      <td>...</td>\n      <td>...</td>\n    </tr>\n    <tr>\n      <th>295</th>\n      <td>1303727</td>\n      <td>2024-02-12 16:09:50.000329</td>\n      <td>10638333</td>\n      <td>0.0</td>\n      <td>288.166687</td>\n      <td>38795.0625</td>\n      <td>0.0</td>\n      <td>0.0</td>\n      <td>0.0</td>\n      <td>400.600006</td>\n      <td>...</td>\n      <td>0.0</td>\n      <td>400.799988</td>\n      <td>401.299988</td>\n      <td>400.200012</td>\n      <td>NaN</td>\n      <td>NaN</td>\n      <td>NaN</td>\n      <td>Aparat za kavu</td>\n      <td>NaN</td>\n      <td>0.0</td>\n    </tr>\n    <tr>\n      <th>296</th>\n      <td>1303752</td>\n      <td>2024-02-12 16:09:52.000628</td>\n      <td>10638333</td>\n      <td>0.0</td>\n      <td>288.166687</td>\n      <td>38795.0625</td>\n      <td>0.0</td>\n      <td>0.0</td>\n      <td>0.0</td>\n      <td>400.799988</td>\n      <td>...</td>\n      <td>NaN</td>\n      <td>NaN</td>\n      <td>NaN</td>\n      <td>NaN</td>\n      <td>NaN</td>\n      <td>NaN</td>\n      <td>NaN</td>\n      <td>NaN</td>\n      <td>NaN</td>\n      <td>NaN</td>\n    </tr>\n    <tr>\n      <th>297</th>\n      <td>1303777</td>\n      <td>2024-02-12 16:09:54.000515</td>\n      <td>10638333</td>\n      <td>0.0</td>\n      <td>288.166687</td>\n      <td>38795.0625</td>\n      <td>0.0</td>\n      <td>0.0</td>\n      <td>0.0</td>\n      <td>400.799988</td>\n      <td>...</td>\n      <td>0.0</td>\n      <td>400.799988</td>\n      <td>401.299988</td>\n      <td>400.200012</td>\n      <td>NaN</td>\n      <td>NaN</td>\n      <td>NaN</td>\n      <td>Aparat za kavu</td>\n      <td>NaN</td>\n      <td>0.0</td>\n    </tr>\n    <tr>\n      <th>298</th>\n      <td>1303802</td>\n      <td>2024-02-12 16:09:56.000207</td>\n      <td>10638333</td>\n      <td>0.0</td>\n      <td>288.166687</td>\n      <td>38795.0625</td>\n      <td>0.0</td>\n      <td>0.0</td>\n      <td>0.0</td>\n      <td>400.600006</td>\n      <td>...</td>\n      <td>0.0</td>\n      <td>400.600006</td>\n      <td>401.200012</td>\n      <td>400.100006</td>\n      <td>NaN</td>\n      <td>NaN</td>\n      <td>NaN</td>\n      <td>Aparat za kavu</td>\n      <td>NaN</td>\n      <td>0.0</td>\n    </tr>\n    <tr>\n      <th>299</th>\n      <td>1303827</td>\n      <td>2024-02-12 16:09:58.001472</td>\n      <td>10638333</td>\n      <td>0.0</td>\n      <td>288.166687</td>\n      <td>38795.0625</td>\n      <td>0.0</td>\n      <td>0.0</td>\n      <td>0.0</td>\n      <td>400.600006</td>\n      <td>...</td>\n      <td>0.0</td>\n      <td>400.600006</td>\n      <td>401.200012</td>\n      <td>400.100006</td>\n      <td>NaN</td>\n      <td>NaN</td>\n      <td>NaN</td>\n      <td>Aparat za kavu</td>\n      <td>NaN</td>\n      <td>0.0</td>\n    </tr>\n  </tbody>\n</table>\n<p>300 rows × 36 columns</p>\n</div>"
     },
     "execution_count": 54,
     "metadata": {},
     "output_type": "execute_result"
    }
   ],
   "source": [
    "merged = pd.merge_asof(df, df2, left_on=\"time_dev\", right_on='time_prod', tolerance=pd.to_timedelta('00:00:01'), suffixes=('_dev', '_prod'), direction='nearest')\n",
    "merged\n",
    "#1s zato sto je frekvnecija zapisa lijeve tablice ispod 2s, to znači da ako je trenutak desnog zapisa udaljen od lijevog trenutka za više od 1s, pripada (odgovara) nekom drugom lijevom zapisu"
   ],
   "metadata": {
    "collapsed": false,
    "ExecuteTime": {
     "end_time": "2024-03-11T20:44:54.612128600Z",
     "start_time": "2024-03-11T20:44:54.565264700Z"
    }
   },
   "id": "69977223d596518c"
  },
  {
   "cell_type": "code",
   "execution_count": 55,
   "outputs": [
    {
     "data": {
      "text/plain": "     demand_total_active_power_dev  demand_total_active_power_prod  \\\n0                       287.283325                      287.283325   \n1                       287.283325                      287.283325   \n2                       287.283325                      287.283325   \n3                       287.283325                      287.283325   \n4                       287.283325                      287.283325   \n..                             ...                             ...   \n295                     288.166687                      288.166687   \n296                     288.166687                             NaN   \n297                     288.166687                      288.166687   \n298                     288.166687                      288.166687   \n299                     288.166687                      288.166687   \n\n         device_dev     device_prod  energy_dev  energy_prod  i1_dev  i1_prod  \\\n0    Aparat za kavu  Aparat za kavu    10638286    10638.286     0.0      0.0   \n1    Aparat za kavu  Aparat za kavu    10638286    10638.286     0.0      0.0   \n2    Aparat za kavu  Aparat za kavu    10638286    10638.286     0.0      0.0   \n3    Aparat za kavu  Aparat za kavu    10638286    10638.286     0.0      0.0   \n4    Aparat za kavu  Aparat za kavu    10638286    10638.286     0.0      0.0   \n..              ...             ...         ...          ...     ...      ...   \n295  Aparat za kavu  Aparat za kavu    10638333    10638.333     0.0      0.0   \n296  Aparat za kavu             NaN    10638333          NaN     0.0      NaN   \n297  Aparat za kavu  Aparat za kavu    10638333    10638.333     0.0      0.0   \n298  Aparat za kavu  Aparat za kavu    10638333    10638.333     0.0      0.0   \n299  Aparat za kavu  Aparat za kavu    10638333    10638.333     0.0      0.0   \n\n     i2_dev  i2_prod  ...     u13_dev    u13_prod     u23_dev    u23_prod  \\\n0       0.0      0.0  ...  400.500000  400.600006  401.100006  401.500000   \n1       0.0      0.0  ...  400.600006  400.600006  401.500000  401.500000   \n2       0.0      0.0  ...  400.600006  400.500000  401.500000  401.299988   \n3       0.0      0.0  ...  400.500000  400.500000  401.299988  401.299988   \n4       0.0      0.0  ...  400.500000  400.500000  401.299988  401.299988   \n..      ...      ...  ...         ...         ...         ...         ...   \n295     0.0      0.0  ...  400.200012  400.200012  401.100006  401.299988   \n296     0.0      NaN  ...  400.200012         NaN  401.299988         NaN   \n297     0.0      0.0  ...  400.200012  400.200012  401.299988  401.299988   \n298     0.0      0.0  ...  400.100006  400.100006  401.200012  401.200012   \n299     0.0      0.0  ...  400.100006  400.100006  401.200012  401.200012   \n\n     v1_dev  v1_prod v2_dev v2_prod  v3_dev  v3_prod  \n0       NaN      NaN    NaN     NaN     NaN      NaN  \n1       NaN      NaN    NaN     NaN     NaN      NaN  \n2       NaN      NaN    NaN     NaN     NaN      NaN  \n3       NaN      NaN    NaN     NaN     NaN      NaN  \n4       NaN      NaN    NaN     NaN     NaN      NaN  \n..      ...      ...    ...     ...     ...      ...  \n295     NaN      NaN    NaN     NaN     NaN      NaN  \n296     NaN      NaN    NaN     NaN     NaN      NaN  \n297     NaN      NaN    NaN     NaN     NaN      NaN  \n298     NaN      NaN    NaN     NaN     NaN      NaN  \n299     NaN      NaN    NaN     NaN     NaN      NaN  \n\n[300 rows x 36 columns]",
      "text/html": "<div>\n<style scoped>\n    .dataframe tbody tr th:only-of-type {\n        vertical-align: middle;\n    }\n\n    .dataframe tbody tr th {\n        vertical-align: top;\n    }\n\n    .dataframe thead th {\n        text-align: right;\n    }\n</style>\n<table border=\"1\" class=\"dataframe\">\n  <thead>\n    <tr style=\"text-align: right;\">\n      <th></th>\n      <th>demand_total_active_power_dev</th>\n      <th>demand_total_active_power_prod</th>\n      <th>device_dev</th>\n      <th>device_prod</th>\n      <th>energy_dev</th>\n      <th>energy_prod</th>\n      <th>i1_dev</th>\n      <th>i1_prod</th>\n      <th>i2_dev</th>\n      <th>i2_prod</th>\n      <th>...</th>\n      <th>u13_dev</th>\n      <th>u13_prod</th>\n      <th>u23_dev</th>\n      <th>u23_prod</th>\n      <th>v1_dev</th>\n      <th>v1_prod</th>\n      <th>v2_dev</th>\n      <th>v2_prod</th>\n      <th>v3_dev</th>\n      <th>v3_prod</th>\n    </tr>\n  </thead>\n  <tbody>\n    <tr>\n      <th>0</th>\n      <td>287.283325</td>\n      <td>287.283325</td>\n      <td>Aparat za kavu</td>\n      <td>Aparat za kavu</td>\n      <td>10638286</td>\n      <td>10638.286</td>\n      <td>0.0</td>\n      <td>0.0</td>\n      <td>0.0</td>\n      <td>0.0</td>\n      <td>...</td>\n      <td>400.500000</td>\n      <td>400.600006</td>\n      <td>401.100006</td>\n      <td>401.500000</td>\n      <td>NaN</td>\n      <td>NaN</td>\n      <td>NaN</td>\n      <td>NaN</td>\n      <td>NaN</td>\n      <td>NaN</td>\n    </tr>\n    <tr>\n      <th>1</th>\n      <td>287.283325</td>\n      <td>287.283325</td>\n      <td>Aparat za kavu</td>\n      <td>Aparat za kavu</td>\n      <td>10638286</td>\n      <td>10638.286</td>\n      <td>0.0</td>\n      <td>0.0</td>\n      <td>0.0</td>\n      <td>0.0</td>\n      <td>...</td>\n      <td>400.600006</td>\n      <td>400.600006</td>\n      <td>401.500000</td>\n      <td>401.500000</td>\n      <td>NaN</td>\n      <td>NaN</td>\n      <td>NaN</td>\n      <td>NaN</td>\n      <td>NaN</td>\n      <td>NaN</td>\n    </tr>\n    <tr>\n      <th>2</th>\n      <td>287.283325</td>\n      <td>287.283325</td>\n      <td>Aparat za kavu</td>\n      <td>Aparat za kavu</td>\n      <td>10638286</td>\n      <td>10638.286</td>\n      <td>0.0</td>\n      <td>0.0</td>\n      <td>0.0</td>\n      <td>0.0</td>\n      <td>...</td>\n      <td>400.600006</td>\n      <td>400.500000</td>\n      <td>401.500000</td>\n      <td>401.299988</td>\n      <td>NaN</td>\n      <td>NaN</td>\n      <td>NaN</td>\n      <td>NaN</td>\n      <td>NaN</td>\n      <td>NaN</td>\n    </tr>\n    <tr>\n      <th>3</th>\n      <td>287.283325</td>\n      <td>287.283325</td>\n      <td>Aparat za kavu</td>\n      <td>Aparat za kavu</td>\n      <td>10638286</td>\n      <td>10638.286</td>\n      <td>0.0</td>\n      <td>0.0</td>\n      <td>0.0</td>\n      <td>0.0</td>\n      <td>...</td>\n      <td>400.500000</td>\n      <td>400.500000</td>\n      <td>401.299988</td>\n      <td>401.299988</td>\n      <td>NaN</td>\n      <td>NaN</td>\n      <td>NaN</td>\n      <td>NaN</td>\n      <td>NaN</td>\n      <td>NaN</td>\n    </tr>\n    <tr>\n      <th>4</th>\n      <td>287.283325</td>\n      <td>287.283325</td>\n      <td>Aparat za kavu</td>\n      <td>Aparat za kavu</td>\n      <td>10638286</td>\n      <td>10638.286</td>\n      <td>0.0</td>\n      <td>0.0</td>\n      <td>0.0</td>\n      <td>0.0</td>\n      <td>...</td>\n      <td>400.500000</td>\n      <td>400.500000</td>\n      <td>401.299988</td>\n      <td>401.299988</td>\n      <td>NaN</td>\n      <td>NaN</td>\n      <td>NaN</td>\n      <td>NaN</td>\n      <td>NaN</td>\n      <td>NaN</td>\n    </tr>\n    <tr>\n      <th>...</th>\n      <td>...</td>\n      <td>...</td>\n      <td>...</td>\n      <td>...</td>\n      <td>...</td>\n      <td>...</td>\n      <td>...</td>\n      <td>...</td>\n      <td>...</td>\n      <td>...</td>\n      <td>...</td>\n      <td>...</td>\n      <td>...</td>\n      <td>...</td>\n      <td>...</td>\n      <td>...</td>\n      <td>...</td>\n      <td>...</td>\n      <td>...</td>\n      <td>...</td>\n      <td>...</td>\n    </tr>\n    <tr>\n      <th>295</th>\n      <td>288.166687</td>\n      <td>288.166687</td>\n      <td>Aparat za kavu</td>\n      <td>Aparat za kavu</td>\n      <td>10638333</td>\n      <td>10638.333</td>\n      <td>0.0</td>\n      <td>0.0</td>\n      <td>0.0</td>\n      <td>0.0</td>\n      <td>...</td>\n      <td>400.200012</td>\n      <td>400.200012</td>\n      <td>401.100006</td>\n      <td>401.299988</td>\n      <td>NaN</td>\n      <td>NaN</td>\n      <td>NaN</td>\n      <td>NaN</td>\n      <td>NaN</td>\n      <td>NaN</td>\n    </tr>\n    <tr>\n      <th>296</th>\n      <td>288.166687</td>\n      <td>NaN</td>\n      <td>Aparat za kavu</td>\n      <td>NaN</td>\n      <td>10638333</td>\n      <td>NaN</td>\n      <td>0.0</td>\n      <td>NaN</td>\n      <td>0.0</td>\n      <td>NaN</td>\n      <td>...</td>\n      <td>400.200012</td>\n      <td>NaN</td>\n      <td>401.299988</td>\n      <td>NaN</td>\n      <td>NaN</td>\n      <td>NaN</td>\n      <td>NaN</td>\n      <td>NaN</td>\n      <td>NaN</td>\n      <td>NaN</td>\n    </tr>\n    <tr>\n      <th>297</th>\n      <td>288.166687</td>\n      <td>288.166687</td>\n      <td>Aparat za kavu</td>\n      <td>Aparat za kavu</td>\n      <td>10638333</td>\n      <td>10638.333</td>\n      <td>0.0</td>\n      <td>0.0</td>\n      <td>0.0</td>\n      <td>0.0</td>\n      <td>...</td>\n      <td>400.200012</td>\n      <td>400.200012</td>\n      <td>401.299988</td>\n      <td>401.299988</td>\n      <td>NaN</td>\n      <td>NaN</td>\n      <td>NaN</td>\n      <td>NaN</td>\n      <td>NaN</td>\n      <td>NaN</td>\n    </tr>\n    <tr>\n      <th>298</th>\n      <td>288.166687</td>\n      <td>288.166687</td>\n      <td>Aparat za kavu</td>\n      <td>Aparat za kavu</td>\n      <td>10638333</td>\n      <td>10638.333</td>\n      <td>0.0</td>\n      <td>0.0</td>\n      <td>0.0</td>\n      <td>0.0</td>\n      <td>...</td>\n      <td>400.100006</td>\n      <td>400.100006</td>\n      <td>401.200012</td>\n      <td>401.200012</td>\n      <td>NaN</td>\n      <td>NaN</td>\n      <td>NaN</td>\n      <td>NaN</td>\n      <td>NaN</td>\n      <td>NaN</td>\n    </tr>\n    <tr>\n      <th>299</th>\n      <td>288.166687</td>\n      <td>288.166687</td>\n      <td>Aparat za kavu</td>\n      <td>Aparat za kavu</td>\n      <td>10638333</td>\n      <td>10638.333</td>\n      <td>0.0</td>\n      <td>0.0</td>\n      <td>0.0</td>\n      <td>0.0</td>\n      <td>...</td>\n      <td>400.100006</td>\n      <td>400.100006</td>\n      <td>401.200012</td>\n      <td>401.200012</td>\n      <td>NaN</td>\n      <td>NaN</td>\n      <td>NaN</td>\n      <td>NaN</td>\n      <td>NaN</td>\n      <td>NaN</td>\n    </tr>\n  </tbody>\n</table>\n<p>300 rows × 36 columns</p>\n</div>"
     },
     "execution_count": 55,
     "metadata": {},
     "output_type": "execute_result"
    }
   ],
   "source": [
    "merged.sort_index(axis=1)"
   ],
   "metadata": {
    "collapsed": false,
    "ExecuteTime": {
     "end_time": "2024-03-11T20:45:05.620291400Z",
     "start_time": "2024-03-11T20:45:05.573430900Z"
    }
   },
   "id": "85f83f03ef26b432"
  },
  {
   "cell_type": "code",
   "execution_count": 56,
   "outputs": [
    {
     "data": {
      "text/plain": "      id_dev                   time_dev  energy_dev  total_active_power_dev  \\\n46   1297502 2024-02-12 16:01:32.000635    10638286                     0.0   \n84   1298452 2024-02-12 16:02:48.001879    10638286                     0.0   \n115  1299227 2024-02-12 16:03:50.000878    10638330                     0.0   \n151  1300127 2024-02-12 16:05:02.000267    10638333                     0.0   \n187  1301027 2024-02-12 16:06:14.003585    10638333                     0.0   \n224  1301952 2024-02-12 16:07:28.001582    10638333                     0.0   \n261  1302877 2024-02-12 16:08:42.001010    10638333                     0.0   \n296  1303752 2024-02-12 16:09:52.000628    10638333                     0.0   \n\n     demand_total_active_power_dev  maximum_demand_total_active_power_dev  \\\n46                      287.283325                             38795.0625   \n84                      287.283325                             38795.0625   \n115                     575.450012                             38795.0625   \n151                     575.450012                             38795.0625   \n187                     402.750000                             38795.0625   \n224                     288.166687                             38795.0625   \n261                     288.166687                             38795.0625   \n296                     288.166687                             38795.0625   \n\n     i1_dev  i2_dev  i3_dev     u12_dev  ...  i3_prod  u12_prod  u23_prod  \\\n46      0.0     0.0     0.0  400.500000  ...      NaN       NaN       NaN   \n84      0.0     0.0     0.0  400.899994  ...      NaN       NaN       NaN   \n115     0.0     0.0     0.0  400.500000  ...      NaN       NaN       NaN   \n151     0.0     0.0     0.0  399.500000  ...      NaN       NaN       NaN   \n187     0.0     0.0     0.0  399.200012  ...      NaN       NaN       NaN   \n224     0.0     0.0     0.0  399.600006  ...      NaN       NaN       NaN   \n261     0.0     0.0     0.0  400.700012  ...      NaN       NaN       NaN   \n296     0.0     0.0     0.0  400.799988  ...      NaN       NaN       NaN   \n\n     u13_prod  v1_prod v2_prod  v3_prod  device_prod  total_power_factor_prod  \\\n46        NaN      NaN     NaN      NaN          NaN                      NaN   \n84        NaN      NaN     NaN      NaN          NaN                      NaN   \n115       NaN      NaN     NaN      NaN          NaN                      NaN   \n151       NaN      NaN     NaN      NaN          NaN                      NaN   \n187       NaN      NaN     NaN      NaN          NaN                      NaN   \n224       NaN      NaN     NaN      NaN          NaN                      NaN   \n261       NaN      NaN     NaN      NaN          NaN                      NaN   \n296       NaN      NaN     NaN      NaN          NaN                      NaN   \n\n    total_apparent_power_prod  \n46                        NaN  \n84                        NaN  \n115                       NaN  \n151                       NaN  \n187                       NaN  \n224                       NaN  \n261                       NaN  \n296                       NaN  \n\n[8 rows x 36 columns]",
      "text/html": "<div>\n<style scoped>\n    .dataframe tbody tr th:only-of-type {\n        vertical-align: middle;\n    }\n\n    .dataframe tbody tr th {\n        vertical-align: top;\n    }\n\n    .dataframe thead th {\n        text-align: right;\n    }\n</style>\n<table border=\"1\" class=\"dataframe\">\n  <thead>\n    <tr style=\"text-align: right;\">\n      <th></th>\n      <th>id_dev</th>\n      <th>time_dev</th>\n      <th>energy_dev</th>\n      <th>total_active_power_dev</th>\n      <th>demand_total_active_power_dev</th>\n      <th>maximum_demand_total_active_power_dev</th>\n      <th>i1_dev</th>\n      <th>i2_dev</th>\n      <th>i3_dev</th>\n      <th>u12_dev</th>\n      <th>...</th>\n      <th>i3_prod</th>\n      <th>u12_prod</th>\n      <th>u23_prod</th>\n      <th>u13_prod</th>\n      <th>v1_prod</th>\n      <th>v2_prod</th>\n      <th>v3_prod</th>\n      <th>device_prod</th>\n      <th>total_power_factor_prod</th>\n      <th>total_apparent_power_prod</th>\n    </tr>\n  </thead>\n  <tbody>\n    <tr>\n      <th>46</th>\n      <td>1297502</td>\n      <td>2024-02-12 16:01:32.000635</td>\n      <td>10638286</td>\n      <td>0.0</td>\n      <td>287.283325</td>\n      <td>38795.0625</td>\n      <td>0.0</td>\n      <td>0.0</td>\n      <td>0.0</td>\n      <td>400.500000</td>\n      <td>...</td>\n      <td>NaN</td>\n      <td>NaN</td>\n      <td>NaN</td>\n      <td>NaN</td>\n      <td>NaN</td>\n      <td>NaN</td>\n      <td>NaN</td>\n      <td>NaN</td>\n      <td>NaN</td>\n      <td>NaN</td>\n    </tr>\n    <tr>\n      <th>84</th>\n      <td>1298452</td>\n      <td>2024-02-12 16:02:48.001879</td>\n      <td>10638286</td>\n      <td>0.0</td>\n      <td>287.283325</td>\n      <td>38795.0625</td>\n      <td>0.0</td>\n      <td>0.0</td>\n      <td>0.0</td>\n      <td>400.899994</td>\n      <td>...</td>\n      <td>NaN</td>\n      <td>NaN</td>\n      <td>NaN</td>\n      <td>NaN</td>\n      <td>NaN</td>\n      <td>NaN</td>\n      <td>NaN</td>\n      <td>NaN</td>\n      <td>NaN</td>\n      <td>NaN</td>\n    </tr>\n    <tr>\n      <th>115</th>\n      <td>1299227</td>\n      <td>2024-02-12 16:03:50.000878</td>\n      <td>10638330</td>\n      <td>0.0</td>\n      <td>575.450012</td>\n      <td>38795.0625</td>\n      <td>0.0</td>\n      <td>0.0</td>\n      <td>0.0</td>\n      <td>400.500000</td>\n      <td>...</td>\n      <td>NaN</td>\n      <td>NaN</td>\n      <td>NaN</td>\n      <td>NaN</td>\n      <td>NaN</td>\n      <td>NaN</td>\n      <td>NaN</td>\n      <td>NaN</td>\n      <td>NaN</td>\n      <td>NaN</td>\n    </tr>\n    <tr>\n      <th>151</th>\n      <td>1300127</td>\n      <td>2024-02-12 16:05:02.000267</td>\n      <td>10638333</td>\n      <td>0.0</td>\n      <td>575.450012</td>\n      <td>38795.0625</td>\n      <td>0.0</td>\n      <td>0.0</td>\n      <td>0.0</td>\n      <td>399.500000</td>\n      <td>...</td>\n      <td>NaN</td>\n      <td>NaN</td>\n      <td>NaN</td>\n      <td>NaN</td>\n      <td>NaN</td>\n      <td>NaN</td>\n      <td>NaN</td>\n      <td>NaN</td>\n      <td>NaN</td>\n      <td>NaN</td>\n    </tr>\n    <tr>\n      <th>187</th>\n      <td>1301027</td>\n      <td>2024-02-12 16:06:14.003585</td>\n      <td>10638333</td>\n      <td>0.0</td>\n      <td>402.750000</td>\n      <td>38795.0625</td>\n      <td>0.0</td>\n      <td>0.0</td>\n      <td>0.0</td>\n      <td>399.200012</td>\n      <td>...</td>\n      <td>NaN</td>\n      <td>NaN</td>\n      <td>NaN</td>\n      <td>NaN</td>\n      <td>NaN</td>\n      <td>NaN</td>\n      <td>NaN</td>\n      <td>NaN</td>\n      <td>NaN</td>\n      <td>NaN</td>\n    </tr>\n    <tr>\n      <th>224</th>\n      <td>1301952</td>\n      <td>2024-02-12 16:07:28.001582</td>\n      <td>10638333</td>\n      <td>0.0</td>\n      <td>288.166687</td>\n      <td>38795.0625</td>\n      <td>0.0</td>\n      <td>0.0</td>\n      <td>0.0</td>\n      <td>399.600006</td>\n      <td>...</td>\n      <td>NaN</td>\n      <td>NaN</td>\n      <td>NaN</td>\n      <td>NaN</td>\n      <td>NaN</td>\n      <td>NaN</td>\n      <td>NaN</td>\n      <td>NaN</td>\n      <td>NaN</td>\n      <td>NaN</td>\n    </tr>\n    <tr>\n      <th>261</th>\n      <td>1302877</td>\n      <td>2024-02-12 16:08:42.001010</td>\n      <td>10638333</td>\n      <td>0.0</td>\n      <td>288.166687</td>\n      <td>38795.0625</td>\n      <td>0.0</td>\n      <td>0.0</td>\n      <td>0.0</td>\n      <td>400.700012</td>\n      <td>...</td>\n      <td>NaN</td>\n      <td>NaN</td>\n      <td>NaN</td>\n      <td>NaN</td>\n      <td>NaN</td>\n      <td>NaN</td>\n      <td>NaN</td>\n      <td>NaN</td>\n      <td>NaN</td>\n      <td>NaN</td>\n    </tr>\n    <tr>\n      <th>296</th>\n      <td>1303752</td>\n      <td>2024-02-12 16:09:52.000628</td>\n      <td>10638333</td>\n      <td>0.0</td>\n      <td>288.166687</td>\n      <td>38795.0625</td>\n      <td>0.0</td>\n      <td>0.0</td>\n      <td>0.0</td>\n      <td>400.799988</td>\n      <td>...</td>\n      <td>NaN</td>\n      <td>NaN</td>\n      <td>NaN</td>\n      <td>NaN</td>\n      <td>NaN</td>\n      <td>NaN</td>\n      <td>NaN</td>\n      <td>NaN</td>\n      <td>NaN</td>\n      <td>NaN</td>\n    </tr>\n  </tbody>\n</table>\n<p>8 rows × 36 columns</p>\n</div>"
     },
     "execution_count": 56,
     "metadata": {},
     "output_type": "execute_result"
    }
   ],
   "source": [
    "merged[merged['time_prod'].duplicated()]\n",
    "#ovih lijevih ima vise jer su precizniji, neki retci u desnom sl. jednostavno fale i zato su NaTovi"
   ],
   "metadata": {
    "collapsed": false,
    "ExecuteTime": {
     "end_time": "2024-03-11T20:45:28.184718300Z",
     "start_time": "2024-03-11T20:45:28.137896300Z"
    }
   },
   "id": "c6e072165c1ba0cf"
  },
  {
   "cell_type": "code",
   "execution_count": 86,
   "outputs": [
    {
     "name": "stdout",
     "output_type": "stream",
     "text": [
      "0 days 00:00:00\n",
      "0 days 00:00:00\n",
      "False\n"
     ]
    },
    {
     "ename": "MergeError",
     "evalue": "can only asof on a key for left",
     "output_type": "error",
     "traceback": [
      "\u001B[1;31m---------------------------------------------------------------------------\u001B[0m",
      "\u001B[1;31mMergeError\u001B[0m                                Traceback (most recent call last)",
      "Cell \u001B[1;32mIn[86], line 23\u001B[0m\n\u001B[0;32m     19\u001B[0m df2 \u001B[38;5;241m=\u001B[39m df2\u001B[38;5;241m.\u001B[39mrename(columns\u001B[38;5;241m=\u001B[39m{\u001B[38;5;124m'\u001B[39m\u001B[38;5;124mtime\u001B[39m\u001B[38;5;124m'\u001B[39m: \u001B[38;5;124m'\u001B[39m\u001B[38;5;124mtime_prod\u001B[39m\u001B[38;5;124m'\u001B[39m, \u001B[38;5;124m'\u001B[39m\u001B[38;5;124menergy\u001B[39m\u001B[38;5;124m'\u001B[39m: \u001B[38;5;124m'\u001B[39m\u001B[38;5;124menergy_prod\u001B[39m\u001B[38;5;124m'\u001B[39m})\n\u001B[0;32m     21\u001B[0m \u001B[38;5;28mprint\u001B[39m(df2\u001B[38;5;241m.\u001B[39mloc[:,[\u001B[38;5;124m'\u001B[39m\u001B[38;5;124mtime_prod\u001B[39m\u001B[38;5;124m'\u001B[39m,\u001B[38;5;124m'\u001B[39m\u001B[38;5;124menergy_prod\u001B[39m\u001B[38;5;124m'\u001B[39m]]\u001B[38;5;241m.\u001B[39mduplicated()\u001B[38;5;241m.\u001B[39many())\n\u001B[1;32m---> 23\u001B[0m merged \u001B[38;5;241m=\u001B[39m \u001B[43mpd\u001B[49m\u001B[38;5;241;43m.\u001B[39;49m\u001B[43mmerge_asof\u001B[49m\u001B[43m(\u001B[49m\u001B[43mdf\u001B[49m\u001B[43m,\u001B[49m\u001B[43m \u001B[49m\u001B[43mdf2\u001B[49m\u001B[43m,\u001B[49m\u001B[43m \u001B[49m\u001B[43mleft_on\u001B[49m\u001B[38;5;241;43m=\u001B[39;49m\u001B[43m[\u001B[49m\u001B[38;5;124;43m\"\u001B[39;49m\u001B[38;5;124;43mtime_dev\u001B[39;49m\u001B[38;5;124;43m\"\u001B[39;49m\u001B[43m,\u001B[49m\u001B[38;5;124;43m'\u001B[39;49m\u001B[38;5;124;43menergy_dev\u001B[39;49m\u001B[38;5;124;43m'\u001B[39;49m\u001B[43m]\u001B[49m\u001B[43m,\u001B[49m\u001B[43m \u001B[49m\u001B[43mright_on\u001B[49m\u001B[38;5;241;43m=\u001B[39;49m\u001B[43m[\u001B[49m\u001B[38;5;124;43m'\u001B[39;49m\u001B[38;5;124;43mtime_prod\u001B[39;49m\u001B[38;5;124;43m'\u001B[39;49m\u001B[43m,\u001B[49m\u001B[43m \u001B[49m\u001B[38;5;124;43m'\u001B[39;49m\u001B[38;5;124;43menergy_prod\u001B[39;49m\u001B[38;5;124;43m'\u001B[39;49m\u001B[43m]\u001B[49m\u001B[43m,\u001B[49m\u001B[43m \u001B[49m\u001B[43mtolerance\u001B[49m\u001B[38;5;241;43m=\u001B[39;49m\u001B[43mpd\u001B[49m\u001B[38;5;241;43m.\u001B[39;49m\u001B[43mto_timedelta\u001B[49m\u001B[43m(\u001B[49m\u001B[38;5;124;43m'\u001B[39;49m\u001B[38;5;124;43m00:00:01\u001B[39;49m\u001B[38;5;124;43m'\u001B[39;49m\u001B[43m)\u001B[49m\u001B[43m,\u001B[49m\u001B[43m \u001B[49m\u001B[43msuffixes\u001B[49m\u001B[38;5;241;43m=\u001B[39;49m\u001B[43m(\u001B[49m\u001B[38;5;124;43m'\u001B[39;49m\u001B[38;5;124;43m_dev\u001B[39;49m\u001B[38;5;124;43m'\u001B[39;49m\u001B[43m,\u001B[49m\u001B[43m \u001B[49m\u001B[38;5;124;43m'\u001B[39;49m\u001B[38;5;124;43m_prod\u001B[39;49m\u001B[38;5;124;43m'\u001B[39;49m\u001B[43m)\u001B[49m\u001B[43m,\u001B[49m\u001B[43m \u001B[49m\u001B[43mdirection\u001B[49m\u001B[38;5;241;43m=\u001B[39;49m\u001B[38;5;124;43m'\u001B[39;49m\u001B[38;5;124;43mnearest\u001B[39;49m\u001B[38;5;124;43m'\u001B[39;49m\u001B[43m)\u001B[49m\n\u001B[0;32m     24\u001B[0m merged \u001B[38;5;241m=\u001B[39m merged\u001B[38;5;241m.\u001B[39msort_index(axis\u001B[38;5;241m=\u001B[39m\u001B[38;5;241m1\u001B[39m)\n\u001B[0;32m     25\u001B[0m merged\u001B[38;5;241m.\u001B[39mto_csv(\u001B[38;5;124m\"\u001B[39m\u001B[38;5;124mmerged\u001B[39m\u001B[38;5;124m\\\u001B[39m\u001B[38;5;132;01m{}\u001B[39;00m\u001B[38;5;124m_merged.csv\u001B[39m\u001B[38;5;124m\"\u001B[39m\u001B[38;5;241m.\u001B[39mformat(device), index\u001B[38;5;241m=\u001B[39m\u001B[38;5;28;01mFalse\u001B[39;00m)\n",
      "File \u001B[1;32mD:\\Users\\matea\\GitLab\\projekt-r\\venv\\lib\\site-packages\\pandas\\core\\reshape\\merge.py:688\u001B[0m, in \u001B[0;36mmerge_asof\u001B[1;34m(left, right, on, left_on, right_on, left_index, right_index, by, left_by, right_by, suffixes, tolerance, allow_exact_matches, direction)\u001B[0m\n\u001B[0;32m    437\u001B[0m \u001B[38;5;28;01mdef\u001B[39;00m \u001B[38;5;21mmerge_asof\u001B[39m(\n\u001B[0;32m    438\u001B[0m     left: DataFrame \u001B[38;5;241m|\u001B[39m Series,\n\u001B[0;32m    439\u001B[0m     right: DataFrame \u001B[38;5;241m|\u001B[39m Series,\n\u001B[1;32m   (...)\u001B[0m\n\u001B[0;32m    451\u001B[0m     direction: \u001B[38;5;28mstr\u001B[39m \u001B[38;5;241m=\u001B[39m \u001B[38;5;124m\"\u001B[39m\u001B[38;5;124mbackward\u001B[39m\u001B[38;5;124m\"\u001B[39m,\n\u001B[0;32m    452\u001B[0m ) \u001B[38;5;241m-\u001B[39m\u001B[38;5;241m>\u001B[39m DataFrame:\n\u001B[0;32m    453\u001B[0m \u001B[38;5;250m    \u001B[39m\u001B[38;5;124;03m\"\"\"\u001B[39;00m\n\u001B[0;32m    454\u001B[0m \u001B[38;5;124;03m    Perform a merge by key distance.\u001B[39;00m\n\u001B[0;32m    455\u001B[0m \n\u001B[1;32m   (...)\u001B[0m\n\u001B[0;32m    686\u001B[0m \u001B[38;5;124;03m    4 2016-05-25 13:30:00.048   AAPL   98.00       100     NaN     NaN\u001B[39;00m\n\u001B[0;32m    687\u001B[0m \u001B[38;5;124;03m    \"\"\"\u001B[39;00m\n\u001B[1;32m--> 688\u001B[0m     op \u001B[38;5;241m=\u001B[39m \u001B[43m_AsOfMerge\u001B[49m\u001B[43m(\u001B[49m\n\u001B[0;32m    689\u001B[0m \u001B[43m        \u001B[49m\u001B[43mleft\u001B[49m\u001B[43m,\u001B[49m\n\u001B[0;32m    690\u001B[0m \u001B[43m        \u001B[49m\u001B[43mright\u001B[49m\u001B[43m,\u001B[49m\n\u001B[0;32m    691\u001B[0m \u001B[43m        \u001B[49m\u001B[43mon\u001B[49m\u001B[38;5;241;43m=\u001B[39;49m\u001B[43mon\u001B[49m\u001B[43m,\u001B[49m\n\u001B[0;32m    692\u001B[0m \u001B[43m        \u001B[49m\u001B[43mleft_on\u001B[49m\u001B[38;5;241;43m=\u001B[39;49m\u001B[43mleft_on\u001B[49m\u001B[43m,\u001B[49m\n\u001B[0;32m    693\u001B[0m \u001B[43m        \u001B[49m\u001B[43mright_on\u001B[49m\u001B[38;5;241;43m=\u001B[39;49m\u001B[43mright_on\u001B[49m\u001B[43m,\u001B[49m\n\u001B[0;32m    694\u001B[0m \u001B[43m        \u001B[49m\u001B[43mleft_index\u001B[49m\u001B[38;5;241;43m=\u001B[39;49m\u001B[43mleft_index\u001B[49m\u001B[43m,\u001B[49m\n\u001B[0;32m    695\u001B[0m \u001B[43m        \u001B[49m\u001B[43mright_index\u001B[49m\u001B[38;5;241;43m=\u001B[39;49m\u001B[43mright_index\u001B[49m\u001B[43m,\u001B[49m\n\u001B[0;32m    696\u001B[0m \u001B[43m        \u001B[49m\u001B[43mby\u001B[49m\u001B[38;5;241;43m=\u001B[39;49m\u001B[43mby\u001B[49m\u001B[43m,\u001B[49m\n\u001B[0;32m    697\u001B[0m \u001B[43m        \u001B[49m\u001B[43mleft_by\u001B[49m\u001B[38;5;241;43m=\u001B[39;49m\u001B[43mleft_by\u001B[49m\u001B[43m,\u001B[49m\n\u001B[0;32m    698\u001B[0m \u001B[43m        \u001B[49m\u001B[43mright_by\u001B[49m\u001B[38;5;241;43m=\u001B[39;49m\u001B[43mright_by\u001B[49m\u001B[43m,\u001B[49m\n\u001B[0;32m    699\u001B[0m \u001B[43m        \u001B[49m\u001B[43msuffixes\u001B[49m\u001B[38;5;241;43m=\u001B[39;49m\u001B[43msuffixes\u001B[49m\u001B[43m,\u001B[49m\n\u001B[0;32m    700\u001B[0m \u001B[43m        \u001B[49m\u001B[43mhow\u001B[49m\u001B[38;5;241;43m=\u001B[39;49m\u001B[38;5;124;43m\"\u001B[39;49m\u001B[38;5;124;43masof\u001B[39;49m\u001B[38;5;124;43m\"\u001B[39;49m\u001B[43m,\u001B[49m\n\u001B[0;32m    701\u001B[0m \u001B[43m        \u001B[49m\u001B[43mtolerance\u001B[49m\u001B[38;5;241;43m=\u001B[39;49m\u001B[43mtolerance\u001B[49m\u001B[43m,\u001B[49m\n\u001B[0;32m    702\u001B[0m \u001B[43m        \u001B[49m\u001B[43mallow_exact_matches\u001B[49m\u001B[38;5;241;43m=\u001B[39;49m\u001B[43mallow_exact_matches\u001B[49m\u001B[43m,\u001B[49m\n\u001B[0;32m    703\u001B[0m \u001B[43m        \u001B[49m\u001B[43mdirection\u001B[49m\u001B[38;5;241;43m=\u001B[39;49m\u001B[43mdirection\u001B[49m\u001B[43m,\u001B[49m\n\u001B[0;32m    704\u001B[0m \u001B[43m    \u001B[49m\u001B[43m)\u001B[49m\n\u001B[0;32m    705\u001B[0m     \u001B[38;5;28;01mreturn\u001B[39;00m op\u001B[38;5;241m.\u001B[39mget_result()\n",
      "File \u001B[1;32mD:\\Users\\matea\\GitLab\\projekt-r\\venv\\lib\\site-packages\\pandas\\core\\reshape\\merge.py:1921\u001B[0m, in \u001B[0;36m_AsOfMerge.__init__\u001B[1;34m(self, left, right, on, left_on, right_on, left_index, right_index, by, left_by, right_by, suffixes, how, tolerance, allow_exact_matches, direction)\u001B[0m\n\u001B[0;32m   1915\u001B[0m     msg \u001B[38;5;241m=\u001B[39m (\n\u001B[0;32m   1916\u001B[0m         \u001B[38;5;124m\"\u001B[39m\u001B[38;5;124mallow_exact_matches must be boolean, \u001B[39m\u001B[38;5;124m\"\u001B[39m\n\u001B[0;32m   1917\u001B[0m         \u001B[38;5;124mf\u001B[39m\u001B[38;5;124m\"\u001B[39m\u001B[38;5;124mpassed \u001B[39m\u001B[38;5;132;01m{\u001B[39;00m\u001B[38;5;28mself\u001B[39m\u001B[38;5;241m.\u001B[39mallow_exact_matches\u001B[38;5;132;01m}\u001B[39;00m\u001B[38;5;124m\"\u001B[39m\n\u001B[0;32m   1918\u001B[0m     )\n\u001B[0;32m   1919\u001B[0m     \u001B[38;5;28;01mraise\u001B[39;00m MergeError(msg)\n\u001B[1;32m-> 1921\u001B[0m \u001B[43m_OrderedMerge\u001B[49m\u001B[38;5;241;43m.\u001B[39;49m\u001B[38;5;21;43m__init__\u001B[39;49m\u001B[43m(\u001B[49m\n\u001B[0;32m   1922\u001B[0m \u001B[43m    \u001B[49m\u001B[38;5;28;43mself\u001B[39;49m\u001B[43m,\u001B[49m\n\u001B[0;32m   1923\u001B[0m \u001B[43m    \u001B[49m\u001B[43mleft\u001B[49m\u001B[43m,\u001B[49m\n\u001B[0;32m   1924\u001B[0m \u001B[43m    \u001B[49m\u001B[43mright\u001B[49m\u001B[43m,\u001B[49m\n\u001B[0;32m   1925\u001B[0m \u001B[43m    \u001B[49m\u001B[43mon\u001B[49m\u001B[38;5;241;43m=\u001B[39;49m\u001B[43mon\u001B[49m\u001B[43m,\u001B[49m\n\u001B[0;32m   1926\u001B[0m \u001B[43m    \u001B[49m\u001B[43mleft_on\u001B[49m\u001B[38;5;241;43m=\u001B[39;49m\u001B[43mleft_on\u001B[49m\u001B[43m,\u001B[49m\n\u001B[0;32m   1927\u001B[0m \u001B[43m    \u001B[49m\u001B[43mright_on\u001B[49m\u001B[38;5;241;43m=\u001B[39;49m\u001B[43mright_on\u001B[49m\u001B[43m,\u001B[49m\n\u001B[0;32m   1928\u001B[0m \u001B[43m    \u001B[49m\u001B[43mleft_index\u001B[49m\u001B[38;5;241;43m=\u001B[39;49m\u001B[43mleft_index\u001B[49m\u001B[43m,\u001B[49m\n\u001B[0;32m   1929\u001B[0m \u001B[43m    \u001B[49m\u001B[43mright_index\u001B[49m\u001B[38;5;241;43m=\u001B[39;49m\u001B[43mright_index\u001B[49m\u001B[43m,\u001B[49m\n\u001B[0;32m   1930\u001B[0m \u001B[43m    \u001B[49m\u001B[43mhow\u001B[49m\u001B[38;5;241;43m=\u001B[39;49m\u001B[43mhow\u001B[49m\u001B[43m,\u001B[49m\n\u001B[0;32m   1931\u001B[0m \u001B[43m    \u001B[49m\u001B[43msuffixes\u001B[49m\u001B[38;5;241;43m=\u001B[39;49m\u001B[43msuffixes\u001B[49m\u001B[43m,\u001B[49m\n\u001B[0;32m   1932\u001B[0m \u001B[43m    \u001B[49m\u001B[43mfill_method\u001B[49m\u001B[38;5;241;43m=\u001B[39;49m\u001B[38;5;28;43;01mNone\u001B[39;49;00m\u001B[43m,\u001B[49m\n\u001B[0;32m   1933\u001B[0m \u001B[43m\u001B[49m\u001B[43m)\u001B[49m\n",
      "File \u001B[1;32mD:\\Users\\matea\\GitLab\\projekt-r\\venv\\lib\\site-packages\\pandas\\core\\reshape\\merge.py:1837\u001B[0m, in \u001B[0;36m_OrderedMerge.__init__\u001B[1;34m(self, left, right, on, left_on, right_on, left_index, right_index, suffixes, fill_method, how)\u001B[0m\n\u001B[0;32m   1823\u001B[0m \u001B[38;5;28;01mdef\u001B[39;00m \u001B[38;5;21m__init__\u001B[39m(\n\u001B[0;32m   1824\u001B[0m     \u001B[38;5;28mself\u001B[39m,\n\u001B[0;32m   1825\u001B[0m     left: DataFrame \u001B[38;5;241m|\u001B[39m Series,\n\u001B[1;32m   (...)\u001B[0m\n\u001B[0;32m   1834\u001B[0m     how: JoinHow \u001B[38;5;241m|\u001B[39m Literal[\u001B[38;5;124m\"\u001B[39m\u001B[38;5;124masof\u001B[39m\u001B[38;5;124m\"\u001B[39m] \u001B[38;5;241m=\u001B[39m \u001B[38;5;124m\"\u001B[39m\u001B[38;5;124mouter\u001B[39m\u001B[38;5;124m\"\u001B[39m,\n\u001B[0;32m   1835\u001B[0m ) \u001B[38;5;241m-\u001B[39m\u001B[38;5;241m>\u001B[39m \u001B[38;5;28;01mNone\u001B[39;00m:\n\u001B[0;32m   1836\u001B[0m     \u001B[38;5;28mself\u001B[39m\u001B[38;5;241m.\u001B[39mfill_method \u001B[38;5;241m=\u001B[39m fill_method\n\u001B[1;32m-> 1837\u001B[0m     \u001B[43m_MergeOperation\u001B[49m\u001B[38;5;241;43m.\u001B[39;49m\u001B[38;5;21;43m__init__\u001B[39;49m\u001B[43m(\u001B[49m\n\u001B[0;32m   1838\u001B[0m \u001B[43m        \u001B[49m\u001B[38;5;28;43mself\u001B[39;49m\u001B[43m,\u001B[49m\n\u001B[0;32m   1839\u001B[0m \u001B[43m        \u001B[49m\u001B[43mleft\u001B[49m\u001B[43m,\u001B[49m\n\u001B[0;32m   1840\u001B[0m \u001B[43m        \u001B[49m\u001B[43mright\u001B[49m\u001B[43m,\u001B[49m\n\u001B[0;32m   1841\u001B[0m \u001B[43m        \u001B[49m\u001B[43mon\u001B[49m\u001B[38;5;241;43m=\u001B[39;49m\u001B[43mon\u001B[49m\u001B[43m,\u001B[49m\n\u001B[0;32m   1842\u001B[0m \u001B[43m        \u001B[49m\u001B[43mleft_on\u001B[49m\u001B[38;5;241;43m=\u001B[39;49m\u001B[43mleft_on\u001B[49m\u001B[43m,\u001B[49m\n\u001B[0;32m   1843\u001B[0m \u001B[43m        \u001B[49m\u001B[43mleft_index\u001B[49m\u001B[38;5;241;43m=\u001B[39;49m\u001B[43mleft_index\u001B[49m\u001B[43m,\u001B[49m\n\u001B[0;32m   1844\u001B[0m \u001B[43m        \u001B[49m\u001B[43mright_index\u001B[49m\u001B[38;5;241;43m=\u001B[39;49m\u001B[43mright_index\u001B[49m\u001B[43m,\u001B[49m\n\u001B[0;32m   1845\u001B[0m \u001B[43m        \u001B[49m\u001B[43mright_on\u001B[49m\u001B[38;5;241;43m=\u001B[39;49m\u001B[43mright_on\u001B[49m\u001B[43m,\u001B[49m\n\u001B[0;32m   1846\u001B[0m \u001B[43m        \u001B[49m\u001B[43mhow\u001B[49m\u001B[38;5;241;43m=\u001B[39;49m\u001B[43mhow\u001B[49m\u001B[43m,\u001B[49m\n\u001B[0;32m   1847\u001B[0m \u001B[43m        \u001B[49m\u001B[43msuffixes\u001B[49m\u001B[38;5;241;43m=\u001B[39;49m\u001B[43msuffixes\u001B[49m\u001B[43m,\u001B[49m\n\u001B[0;32m   1848\u001B[0m \u001B[43m        \u001B[49m\u001B[43msort\u001B[49m\u001B[38;5;241;43m=\u001B[39;49m\u001B[38;5;28;43;01mTrue\u001B[39;49;00m\u001B[43m,\u001B[49m\u001B[43m  \u001B[49m\u001B[38;5;66;43;03m# factorize sorts\u001B[39;49;00m\n\u001B[0;32m   1849\u001B[0m \u001B[43m    \u001B[49m\u001B[43m)\u001B[49m\n",
      "File \u001B[1;32mD:\\Users\\matea\\GitLab\\projekt-r\\venv\\lib\\site-packages\\pandas\\core\\reshape\\merge.py:783\u001B[0m, in \u001B[0;36m_MergeOperation.__init__\u001B[1;34m(self, left, right, how, on, left_on, right_on, left_index, right_index, sort, suffixes, indicator, validate)\u001B[0m\n\u001B[0;32m    776\u001B[0m     msg \u001B[38;5;241m=\u001B[39m (\n\u001B[0;32m    777\u001B[0m         \u001B[38;5;124m\"\u001B[39m\u001B[38;5;124mNot allowed to merge between different levels. \u001B[39m\u001B[38;5;124m\"\u001B[39m\n\u001B[0;32m    778\u001B[0m         \u001B[38;5;124mf\u001B[39m\u001B[38;5;124m\"\u001B[39m\u001B[38;5;124m(\u001B[39m\u001B[38;5;132;01m{\u001B[39;00m_left\u001B[38;5;241m.\u001B[39mcolumns\u001B[38;5;241m.\u001B[39mnlevels\u001B[38;5;132;01m}\u001B[39;00m\u001B[38;5;124m levels on the left, \u001B[39m\u001B[38;5;124m\"\u001B[39m\n\u001B[0;32m    779\u001B[0m         \u001B[38;5;124mf\u001B[39m\u001B[38;5;124m\"\u001B[39m\u001B[38;5;132;01m{\u001B[39;00m_right\u001B[38;5;241m.\u001B[39mcolumns\u001B[38;5;241m.\u001B[39mnlevels\u001B[38;5;132;01m}\u001B[39;00m\u001B[38;5;124m on the right)\u001B[39m\u001B[38;5;124m\"\u001B[39m\n\u001B[0;32m    780\u001B[0m     )\n\u001B[0;32m    781\u001B[0m     \u001B[38;5;28;01mraise\u001B[39;00m MergeError(msg)\n\u001B[1;32m--> 783\u001B[0m \u001B[38;5;28mself\u001B[39m\u001B[38;5;241m.\u001B[39mleft_on, \u001B[38;5;28mself\u001B[39m\u001B[38;5;241m.\u001B[39mright_on \u001B[38;5;241m=\u001B[39m \u001B[38;5;28;43mself\u001B[39;49m\u001B[38;5;241;43m.\u001B[39;49m\u001B[43m_validate_left_right_on\u001B[49m\u001B[43m(\u001B[49m\u001B[43mleft_on\u001B[49m\u001B[43m,\u001B[49m\u001B[43m \u001B[49m\u001B[43mright_on\u001B[49m\u001B[43m)\u001B[49m\n\u001B[0;32m    785\u001B[0m (\n\u001B[0;32m    786\u001B[0m     \u001B[38;5;28mself\u001B[39m\u001B[38;5;241m.\u001B[39mleft_join_keys,\n\u001B[0;32m    787\u001B[0m     \u001B[38;5;28mself\u001B[39m\u001B[38;5;241m.\u001B[39mright_join_keys,\n\u001B[1;32m   (...)\u001B[0m\n\u001B[0;32m    790\u001B[0m     right_drop,\n\u001B[0;32m    791\u001B[0m ) \u001B[38;5;241m=\u001B[39m \u001B[38;5;28mself\u001B[39m\u001B[38;5;241m.\u001B[39m_get_merge_keys()\n\u001B[0;32m    793\u001B[0m \u001B[38;5;28;01mif\u001B[39;00m left_drop:\n",
      "File \u001B[1;32mD:\\Users\\matea\\GitLab\\projekt-r\\venv\\lib\\site-packages\\pandas\\core\\reshape\\merge.py:1940\u001B[0m, in \u001B[0;36m_AsOfMerge._validate_left_right_on\u001B[1;34m(self, left_on, right_on)\u001B[0m\n\u001B[0;32m   1938\u001B[0m \u001B[38;5;66;03m# we only allow on to be a single item for on\u001B[39;00m\n\u001B[0;32m   1939\u001B[0m \u001B[38;5;28;01mif\u001B[39;00m \u001B[38;5;28mlen\u001B[39m(left_on) \u001B[38;5;241m!=\u001B[39m \u001B[38;5;241m1\u001B[39m \u001B[38;5;129;01mand\u001B[39;00m \u001B[38;5;129;01mnot\u001B[39;00m \u001B[38;5;28mself\u001B[39m\u001B[38;5;241m.\u001B[39mleft_index:\n\u001B[1;32m-> 1940\u001B[0m     \u001B[38;5;28;01mraise\u001B[39;00m MergeError(\u001B[38;5;124m\"\u001B[39m\u001B[38;5;124mcan only asof on a key for left\u001B[39m\u001B[38;5;124m\"\u001B[39m)\n\u001B[0;32m   1942\u001B[0m \u001B[38;5;28;01mif\u001B[39;00m \u001B[38;5;28mlen\u001B[39m(right_on) \u001B[38;5;241m!=\u001B[39m \u001B[38;5;241m1\u001B[39m \u001B[38;5;129;01mand\u001B[39;00m \u001B[38;5;129;01mnot\u001B[39;00m \u001B[38;5;28mself\u001B[39m\u001B[38;5;241m.\u001B[39mright_index:\n\u001B[0;32m   1943\u001B[0m     \u001B[38;5;28;01mraise\u001B[39;00m MergeError(\u001B[38;5;124m\"\u001B[39m\u001B[38;5;124mcan only asof on a key for right\u001B[39m\u001B[38;5;124m\"\u001B[39m)\n",
      "\u001B[1;31mMergeError\u001B[0m: can only asof on a key for left"
     ]
    }
   ],
   "source": [
    "#konacan kod\n",
    "for device in ['Uticnica']:\n",
    "    df = pd.read_csv(r'uredaji/{}_dev.csv'.format(device), parse_dates=['time'], encoding='latin1')\n",
    "    df['diff'] = df['time'].diff(periods=-1)\n",
    "    minimum = df['diff'].min()\n",
    "    print(minimum)\n",
    "    \n",
    "    df2 = pd.read_csv(r'uredaji/{}_prod.csv'.format(device), parse_dates=['time'], encoding='latin1')\n",
    "    df2['diff'] = df2['time'].diff(periods=-1)\n",
    "    minimum2 = df2['diff'].min()\n",
    "    print(minimum2)\n",
    "    \n",
    "    df.drop(columns=['diff'], inplace=True)\n",
    "    df2.drop(columns=['diff'], inplace=True)\n",
    "    \n",
    "    df = df.sort_values(['time', 'energy'])\n",
    "    df2 = df2.sort_values(['time', 'energy'])\n",
    "    df = df.rename(columns={'time': 'time_dev', 'energy': 'energy_dev'})\n",
    "    df2 = df2.rename(columns={'time': 'time_prod', 'energy': 'energy_prod'})\n",
    "    \n",
    "    print(df2.loc[:,['time_prod','energy_prod']].duplicated().any())\n",
    "    \n",
    "    merged = pd.merge_asof(df, df2, left_on=\"time_dev\", right_on='time_prod', tolerance=pd.to_timedelta('00:00:01'), suffixes=('_dev', '_prod'), direction='nearest')\n",
    "    merged = merged.sort_index(axis=1)\n",
    "    merged.to_csv(\"merged\\{}_merged.csv\".format(device), index=False)"
   ],
   "metadata": {
    "collapsed": false,
    "ExecuteTime": {
     "end_time": "2024-03-11T21:42:11.195872Z",
     "start_time": "2024-03-11T21:42:11.049412800Z"
    }
   },
   "id": "158eb59606f0aa30"
  },
  {
   "cell_type": "markdown",
   "source": [],
   "metadata": {
    "collapsed": false
   },
   "id": "74dc8d4e5d942bd3"
  }
 ],
 "metadata": {
  "kernelspec": {
   "display_name": "Python 3",
   "language": "python",
   "name": "python3"
  },
  "language_info": {
   "codemirror_mode": {
    "name": "ipython",
    "version": 2
   },
   "file_extension": ".py",
   "mimetype": "text/x-python",
   "name": "python",
   "nbconvert_exporter": "python",
   "pygments_lexer": "ipython2",
   "version": "2.7.6"
  }
 },
 "nbformat": 4,
 "nbformat_minor": 5
}
