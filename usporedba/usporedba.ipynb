{
 "cells": [
  {
   "cell_type": "code",
   "execution_count": 1,
   "id": "initial_id",
   "metadata": {
    "collapsed": true,
    "ExecuteTime": {
     "end_time": "2024-03-16T10:31:43.127969500Z",
     "start_time": "2024-03-16T10:31:31.516766500Z"
    }
   },
   "outputs": [],
   "source": [
    "import pandas as pd\n",
    "from my_functions import obrada, get_limits, generate_all_timestamps, make_table, check_holes_better,  filter_rows\n",
    "import numpy as np\n",
    "from matplotlib import pyplot as plt"
   ]
  },
  {
   "cell_type": "code",
   "execution_count": 14,
   "outputs": [
    {
     "name": "stdout",
     "output_type": "stream",
     "text": [
      "['Aparat za kavu' 'Perilica rublja' 'Uticnice' 'Napa' 'Mikrovalna'\n",
      " 'Rasvjeta' 'Podno grijanje' 'Rolete' 'Drobilica' 'Elektricni bojler'\n",
      " 'Å\\xa0tednjak' 'Frizider' 'Pecnica' 'Klima' 'Perilica posuda'\n",
      " 'Susilica rublja' 'Led rasvjeta' 'Uticnica']\n"
     ]
    }
   ],
   "source": [
    "df = pd.read_csv(r'postgres_public_measurements_dev.csv', parse_dates=['time'], encoding='latin1')\n",
    "#odredivanje svih uredaja\n",
    "devices = df['device'].unique()\n",
    "columns = df.columns\n",
    "\n",
    "print(devices)"
   ],
   "metadata": {
    "collapsed": false,
    "ExecuteTime": {
     "end_time": "2024-03-16T12:35:20.359069600Z",
     "start_time": "2024-03-16T12:35:20.296090300Z"
    }
   },
   "id": "c78dc073c84afa7d"
  },
  {
   "cell_type": "code",
   "execution_count": 12,
   "outputs": [],
   "source": [
    "#rasvjeta\n",
    "df = pd.read_csv(r'postgres_public_measurements_prod.csv', parse_dates=['time'], encoding='latin1')\n",
    "df=df[df['device']=='Aparat za kavu']\n",
    "df2 = df['time'].duplicated()\n"
   ],
   "metadata": {
    "collapsed": false,
    "ExecuteTime": {
     "end_time": "2024-03-16T10:45:21.691887200Z",
     "start_time": "2024-03-16T10:45:21.629373Z"
    }
   },
   "id": "a3595211c0669fe"
  },
  {
   "cell_type": "code",
   "execution_count": 43,
   "outputs": [
    {
     "data": {
      "text/plain": "             id                time   energy  total_active_power  \\\n30    506758429 2024-02-12 16:09:56  480.710                 0.0   \n117   506758366 2024-02-12 16:09:49  220.209                 0.0   \n195   506758294 2024-02-12 16:09:43    0.000                 0.0   \n255   506758204 2024-02-12 16:09:37  480.710                 0.0   \n342   506758141 2024-02-12 16:09:31  220.209                 0.0   \n...         ...                 ...      ...                 ...   \n6945  506751544 2024-02-12 16:00:28    0.000                 0.0   \n7005  506751454 2024-02-12 16:00:21  480.710                 0.0   \n7092  506751391 2024-02-12 16:00:15  220.209                 0.0   \n7170  506751319 2024-02-12 16:00:09    0.000                 0.0   \n7230  506751229 2024-02-12 16:00:03  480.710                 0.0   \n\n      demand_total_active_power  maximum_demand_total_active_power   i1   i2  \\\n30                          0.0                         239.783386  0.0  NaN   \n117                         NaN                         238.933395  0.0  NaN   \n195                         0.0                           0.000000  0.0  0.0   \n255                         0.0                         239.783386  0.0  NaN   \n342                         NaN                         238.933395  0.0  NaN   \n...                         ...                                ...  ...  ...   \n6945                        0.0                           0.000000  0.0  0.0   \n7005                        0.0                         239.783386  0.0  NaN   \n7092                        0.0                         238.933395  0.0  NaN   \n7170                        0.0                           0.000000  0.0  0.0   \n7230                        0.0                         239.783386  0.0  NaN   \n\n       i3  u12  u23  u13          v1   v2   v3    device  total_power_factor  \\\n30    NaN  NaN  NaN  NaN  232.399994  NaN  NaN  Rasvjeta                 NaN   \n117   NaN  NaN  NaN  NaN  230.500000  NaN  NaN  Rasvjeta                 NaN   \n195   0.0  0.0  0.0  0.0    0.000000  0.0  0.0  Rasvjeta                 0.0   \n255   NaN  NaN  NaN  NaN  232.399994  NaN  NaN  Rasvjeta                 NaN   \n342   NaN  NaN  NaN  NaN  230.300003  NaN  NaN  Rasvjeta                 NaN   \n...   ...  ...  ...  ...         ...  ...  ...       ...                 ...   \n6945  0.0  0.0  0.0  0.0    0.000000  0.0  0.0  Rasvjeta                 0.0   \n7005  NaN  NaN  NaN  NaN  231.300003  NaN  NaN  Rasvjeta                 NaN   \n7092  NaN  NaN  NaN  NaN  230.600006  NaN  NaN  Rasvjeta                 NaN   \n7170  0.0  0.0  0.0  0.0    0.000000  0.0  0.0  Rasvjeta                 0.0   \n7230  NaN  NaN  NaN  NaN  231.399994  NaN  NaN  Rasvjeta                 NaN   \n\n      total_apparent_power  \n30                     0.0  \n117                    0.0  \n195                    0.0  \n255                    0.0  \n342                    0.0  \n...                    ...  \n6945                   0.0  \n7005                   0.0  \n7092                   0.0  \n7170                   0.0  \n7230                   0.0  \n\n[97 rows x 18 columns]",
      "text/html": "<div>\n<style scoped>\n    .dataframe tbody tr th:only-of-type {\n        vertical-align: middle;\n    }\n\n    .dataframe tbody tr th {\n        vertical-align: top;\n    }\n\n    .dataframe thead th {\n        text-align: right;\n    }\n</style>\n<table border=\"1\" class=\"dataframe\">\n  <thead>\n    <tr style=\"text-align: right;\">\n      <th></th>\n      <th>id</th>\n      <th>time</th>\n      <th>energy</th>\n      <th>total_active_power</th>\n      <th>demand_total_active_power</th>\n      <th>maximum_demand_total_active_power</th>\n      <th>i1</th>\n      <th>i2</th>\n      <th>i3</th>\n      <th>u12</th>\n      <th>u23</th>\n      <th>u13</th>\n      <th>v1</th>\n      <th>v2</th>\n      <th>v3</th>\n      <th>device</th>\n      <th>total_power_factor</th>\n      <th>total_apparent_power</th>\n    </tr>\n  </thead>\n  <tbody>\n    <tr>\n      <th>30</th>\n      <td>506758429</td>\n      <td>2024-02-12 16:09:56</td>\n      <td>480.710</td>\n      <td>0.0</td>\n      <td>0.0</td>\n      <td>239.783386</td>\n      <td>0.0</td>\n      <td>NaN</td>\n      <td>NaN</td>\n      <td>NaN</td>\n      <td>NaN</td>\n      <td>NaN</td>\n      <td>232.399994</td>\n      <td>NaN</td>\n      <td>NaN</td>\n      <td>Rasvjeta</td>\n      <td>NaN</td>\n      <td>0.0</td>\n    </tr>\n    <tr>\n      <th>117</th>\n      <td>506758366</td>\n      <td>2024-02-12 16:09:49</td>\n      <td>220.209</td>\n      <td>0.0</td>\n      <td>NaN</td>\n      <td>238.933395</td>\n      <td>0.0</td>\n      <td>NaN</td>\n      <td>NaN</td>\n      <td>NaN</td>\n      <td>NaN</td>\n      <td>NaN</td>\n      <td>230.500000</td>\n      <td>NaN</td>\n      <td>NaN</td>\n      <td>Rasvjeta</td>\n      <td>NaN</td>\n      <td>0.0</td>\n    </tr>\n    <tr>\n      <th>195</th>\n      <td>506758294</td>\n      <td>2024-02-12 16:09:43</td>\n      <td>0.000</td>\n      <td>0.0</td>\n      <td>0.0</td>\n      <td>0.000000</td>\n      <td>0.0</td>\n      <td>0.0</td>\n      <td>0.0</td>\n      <td>0.0</td>\n      <td>0.0</td>\n      <td>0.0</td>\n      <td>0.000000</td>\n      <td>0.0</td>\n      <td>0.0</td>\n      <td>Rasvjeta</td>\n      <td>0.0</td>\n      <td>0.0</td>\n    </tr>\n    <tr>\n      <th>255</th>\n      <td>506758204</td>\n      <td>2024-02-12 16:09:37</td>\n      <td>480.710</td>\n      <td>0.0</td>\n      <td>0.0</td>\n      <td>239.783386</td>\n      <td>0.0</td>\n      <td>NaN</td>\n      <td>NaN</td>\n      <td>NaN</td>\n      <td>NaN</td>\n      <td>NaN</td>\n      <td>232.399994</td>\n      <td>NaN</td>\n      <td>NaN</td>\n      <td>Rasvjeta</td>\n      <td>NaN</td>\n      <td>0.0</td>\n    </tr>\n    <tr>\n      <th>342</th>\n      <td>506758141</td>\n      <td>2024-02-12 16:09:31</td>\n      <td>220.209</td>\n      <td>0.0</td>\n      <td>NaN</td>\n      <td>238.933395</td>\n      <td>0.0</td>\n      <td>NaN</td>\n      <td>NaN</td>\n      <td>NaN</td>\n      <td>NaN</td>\n      <td>NaN</td>\n      <td>230.300003</td>\n      <td>NaN</td>\n      <td>NaN</td>\n      <td>Rasvjeta</td>\n      <td>NaN</td>\n      <td>0.0</td>\n    </tr>\n    <tr>\n      <th>...</th>\n      <td>...</td>\n      <td>...</td>\n      <td>...</td>\n      <td>...</td>\n      <td>...</td>\n      <td>...</td>\n      <td>...</td>\n      <td>...</td>\n      <td>...</td>\n      <td>...</td>\n      <td>...</td>\n      <td>...</td>\n      <td>...</td>\n      <td>...</td>\n      <td>...</td>\n      <td>...</td>\n      <td>...</td>\n      <td>...</td>\n    </tr>\n    <tr>\n      <th>6945</th>\n      <td>506751544</td>\n      <td>2024-02-12 16:00:28</td>\n      <td>0.000</td>\n      <td>0.0</td>\n      <td>0.0</td>\n      <td>0.000000</td>\n      <td>0.0</td>\n      <td>0.0</td>\n      <td>0.0</td>\n      <td>0.0</td>\n      <td>0.0</td>\n      <td>0.0</td>\n      <td>0.000000</td>\n      <td>0.0</td>\n      <td>0.0</td>\n      <td>Rasvjeta</td>\n      <td>0.0</td>\n      <td>0.0</td>\n    </tr>\n    <tr>\n      <th>7005</th>\n      <td>506751454</td>\n      <td>2024-02-12 16:00:21</td>\n      <td>480.710</td>\n      <td>0.0</td>\n      <td>0.0</td>\n      <td>239.783386</td>\n      <td>0.0</td>\n      <td>NaN</td>\n      <td>NaN</td>\n      <td>NaN</td>\n      <td>NaN</td>\n      <td>NaN</td>\n      <td>231.300003</td>\n      <td>NaN</td>\n      <td>NaN</td>\n      <td>Rasvjeta</td>\n      <td>NaN</td>\n      <td>0.0</td>\n    </tr>\n    <tr>\n      <th>7092</th>\n      <td>506751391</td>\n      <td>2024-02-12 16:00:15</td>\n      <td>220.209</td>\n      <td>0.0</td>\n      <td>0.0</td>\n      <td>238.933395</td>\n      <td>0.0</td>\n      <td>NaN</td>\n      <td>NaN</td>\n      <td>NaN</td>\n      <td>NaN</td>\n      <td>NaN</td>\n      <td>230.600006</td>\n      <td>NaN</td>\n      <td>NaN</td>\n      <td>Rasvjeta</td>\n      <td>NaN</td>\n      <td>0.0</td>\n    </tr>\n    <tr>\n      <th>7170</th>\n      <td>506751319</td>\n      <td>2024-02-12 16:00:09</td>\n      <td>0.000</td>\n      <td>0.0</td>\n      <td>0.0</td>\n      <td>0.000000</td>\n      <td>0.0</td>\n      <td>0.0</td>\n      <td>0.0</td>\n      <td>0.0</td>\n      <td>0.0</td>\n      <td>0.0</td>\n      <td>0.000000</td>\n      <td>0.0</td>\n      <td>0.0</td>\n      <td>Rasvjeta</td>\n      <td>0.0</td>\n      <td>0.0</td>\n    </tr>\n    <tr>\n      <th>7230</th>\n      <td>506751229</td>\n      <td>2024-02-12 16:00:03</td>\n      <td>480.710</td>\n      <td>0.0</td>\n      <td>0.0</td>\n      <td>239.783386</td>\n      <td>0.0</td>\n      <td>NaN</td>\n      <td>NaN</td>\n      <td>NaN</td>\n      <td>NaN</td>\n      <td>NaN</td>\n      <td>231.399994</td>\n      <td>NaN</td>\n      <td>NaN</td>\n      <td>Rasvjeta</td>\n      <td>NaN</td>\n      <td>0.0</td>\n    </tr>\n  </tbody>\n</table>\n<p>97 rows × 18 columns</p>\n</div>"
     },
     "execution_count": 43,
     "metadata": {},
     "output_type": "execute_result"
    }
   ],
   "source": [
    "index=[1,2]\n",
    "num=9\n",
    "df[df['id']%num==index[0]]"
   ],
   "metadata": {
    "collapsed": false,
    "ExecuteTime": {
     "end_time": "2024-03-15T23:40:32.691982900Z",
     "start_time": "2024-03-15T23:40:32.533915400Z"
    }
   },
   "id": "c118e0d99639d3bb"
  },
  {
   "cell_type": "code",
   "execution_count": 13,
   "outputs": [
    {
     "name": "stdout",
     "output_type": "stream",
     "text": [
      "            id                time     energy  total_active_power  \\\n",
      "0    506758449 2024-02-12 16:09:58  10638.333                 0.0   \n",
      "1    506758424 2024-02-12 16:09:56  10638.333                 0.0   \n",
      "2    506758399 2024-02-12 16:09:54  10638.333                 0.0   \n",
      "3    506758374 2024-02-12 16:09:51  10638.333                 0.0   \n",
      "4    506758349 2024-02-12 16:09:49  10638.333                 0.0   \n",
      "..         ...                 ...        ...                 ...   \n",
      "286  506751299 2024-02-12 16:00:09  10638.286                 0.0   \n",
      "287  506751274 2024-02-12 16:00:07  10638.286                 0.0   \n",
      "288  506751249 2024-02-12 16:00:05  10638.286                 0.0   \n",
      "289  506751224 2024-02-12 16:00:03  10638.286                 0.0   \n",
      "290  506751199 2024-02-12 16:00:01  10638.286                 0.0   \n",
      "\n",
      "     demand_total_active_power  maximum_demand_total_active_power   i1   i2  \\\n",
      "0                   288.166687                         38795.0625  0.0  0.0   \n",
      "1                   288.166687                         38795.0625  0.0  0.0   \n",
      "2                   288.166687                         38795.0625  0.0  0.0   \n",
      "3                   288.166687                         38795.0625  0.0  0.0   \n",
      "4                   288.166687                         38795.0625  0.0  0.0   \n",
      "..                         ...                                ...  ...  ...   \n",
      "286                 287.283325                         38795.0625  0.0  0.0   \n",
      "287                 287.283325                         38795.0625  0.0  0.0   \n",
      "288                 287.283325                         38795.0625  0.0  0.0   \n",
      "289                 287.283325                         38795.0625  0.0  0.0   \n",
      "290                 287.283325                         38795.0625  0.0  0.0   \n",
      "\n",
      "      i3         u12         u23         u13  v1  v2  v3          device  \\\n",
      "0    0.0  400.600006  401.200012  400.100006 NaN NaN NaN  Aparat za kavu   \n",
      "1    0.0  400.600006  401.200012  400.100006 NaN NaN NaN  Aparat za kavu   \n",
      "2    0.0  400.799988  401.299988  400.200012 NaN NaN NaN  Aparat za kavu   \n",
      "3    0.0  400.799988  401.299988  400.200012 NaN NaN NaN  Aparat za kavu   \n",
      "4    0.0  400.600006  401.100006  400.200012 NaN NaN NaN  Aparat za kavu   \n",
      "..   ...         ...         ...         ...  ..  ..  ..             ...   \n",
      "286  0.0  400.299988  401.299988  400.500000 NaN NaN NaN  Aparat za kavu   \n",
      "287  0.0  400.299988  401.299988  400.500000 NaN NaN NaN  Aparat za kavu   \n",
      "288  0.0  400.299988  401.299988  400.500000 NaN NaN NaN  Aparat za kavu   \n",
      "289  0.0  400.299988  401.500000  400.600006 NaN NaN NaN  Aparat za kavu   \n",
      "290  0.0  400.299988  401.500000  400.600006 NaN NaN NaN  Aparat za kavu   \n",
      "\n",
      "     total_power_factor  total_apparent_power  \n",
      "0                   NaN                   0.0  \n",
      "1                   NaN                   0.0  \n",
      "2                   NaN                   0.0  \n",
      "3                   NaN                   0.0  \n",
      "4                   NaN                   0.0  \n",
      "..                  ...                   ...  \n",
      "286                 NaN                   0.0  \n",
      "287                 NaN                   0.0  \n",
      "288                 NaN                   0.0  \n",
      "289                 NaN                   0.0  \n",
      "290                 NaN                   0.0  \n",
      "\n",
      "[291 rows x 18 columns]\n"
     ]
    }
   ],
   "source": [
    "num = int(df2[df2==True].shape[0] / df2[df2==False].shape[0] + 1)\n",
    "df=df.reset_index(drop=True) \n",
    "#broj različitih uređaja u jednom df-u\n",
    "index = []\n",
    "for i in range(num):\n",
    "    df2 = df[df.index % num ==i]\n",
    "    print(df2)\n",
    "    df2.to_csv(\"{}{}_prod.csv\".format('Uticnica',i+1), index=False)\n",
    "    #print(df2)"
   ],
   "metadata": {
    "collapsed": false,
    "ExecuteTime": {
     "end_time": "2024-03-16T10:45:25.230113600Z",
     "start_time": "2024-03-16T10:45:25.198599100Z"
    }
   },
   "id": "8f79c8c4e75b19b9"
  },
  {
   "cell_type": "code",
   "execution_count": 3,
   "outputs": [],
   "source": [
    "#izrada csvova za svaki uredaj\n",
    "for device in devices:\n",
    "    df[df['device']==device].to_csv(\"{}_dev.csv\".format(device), index=False)"
   ],
   "metadata": {
    "collapsed": false,
    "ExecuteTime": {
     "end_time": "2024-03-11T17:21:49.877455200Z",
     "start_time": "2024-03-11T17:21:49.736567Z"
    }
   },
   "id": "26b6f6f6dd87e32f"
  },
  {
   "cell_type": "code",
   "execution_count": 4,
   "outputs": [],
   "source": [
    "df2 = pd.read_csv(r'postgres_public_measurements_prod.csv', parse_dates=['time'], encoding='latin1')\n",
    "devices2 = df['device'].unique()\n",
    "for device in devices2:\n",
    "    df2[df2['device']==device].to_csv(\"{}_prod.csv\".format(device), index=False)"
   ],
   "metadata": {
    "collapsed": false,
    "ExecuteTime": {
     "end_time": "2024-03-11T17:24:18.221654500Z",
     "start_time": "2024-03-11T17:24:17.732826Z"
    }
   },
   "id": "528a4b723923bd03"
  },
  {
   "cell_type": "code",
   "execution_count": 29,
   "outputs": [],
   "source": [
    "#sad nekako spojit dev i prod po uredaju u jednu, novu tablicu\n",
    "df = pd.read_csv(r'Aparat za kavu_dev.csv', parse_dates=['time'], encoding='latin1')\n",
    "\n",
    "#najmanja udaljenost susjednih kolona, bilo što što je bliže trenutku od pola minimuma moze se 'poistovjetiti' kao isti trenutak"
   ],
   "metadata": {
    "collapsed": false,
    "ExecuteTime": {
     "end_time": "2024-03-11T20:22:59.118559600Z",
     "start_time": "2024-03-11T20:22:59.086890500Z"
    }
   },
   "id": "12c8ecb2de8f033e"
  },
  {
   "cell_type": "code",
   "execution_count": 14,
   "outputs": [
    {
     "name": "stdout",
     "output_type": "stream",
     "text": [
      "0 days 00:00:01.985746\n"
     ]
    }
   ],
   "source": [
    "df['diff']=df['time'].diff(periods=-1)\n",
    "minimum=df['diff'].min()\n",
    "print(minimum)"
   ],
   "metadata": {
    "collapsed": false,
    "ExecuteTime": {
     "end_time": "2024-03-11T19:49:26.344208800Z",
     "start_time": "2024-03-11T19:49:26.312924100Z"
    }
   },
   "id": "f53bf87b929dfc7e"
  },
  {
   "cell_type": "code",
   "execution_count": 30,
   "outputs": [],
   "source": [
    "#sad nekako spojit dev i prod po uredaju u jednu, novu tablicu\n",
    "df2 = pd.read_csv(r'Aparat za kavu_prod.csv', parse_dates=['time'], encoding='latin1')\n",
    "\n",
    "#najmanja udaljenost susjednih kolona, bilo što što je bliže trenutku od pola minimuma moze se 'poistovjetiti' kao isti trenutak"
   ],
   "metadata": {
    "collapsed": false,
    "ExecuteTime": {
     "end_time": "2024-03-11T20:23:04.496770600Z",
     "start_time": "2024-03-11T20:23:04.465083300Z"
    }
   },
   "id": "284ee2f842318683"
  },
  {
   "cell_type": "code",
   "execution_count": null,
   "outputs": [],
   "source": [
    "df2['diff']=df2['time'].diff(periods=-1)\n",
    "minimum2=df2['diff'].min()\n",
    "print(minimum2)"
   ],
   "metadata": {
    "collapsed": false
   },
   "id": "6aed01dc5a8d4b37"
  },
  {
   "cell_type": "code",
   "execution_count": null,
   "outputs": [],
   "source": [
    "df.drop(columns=['diff'], inplace=True)\n",
    "df2.drop(columns=['diff'], inplace=True)"
   ],
   "metadata": {
    "collapsed": false
   },
   "id": "3a23b0ed61057315"
  },
  {
   "cell_type": "code",
   "execution_count": 31,
   "outputs": [],
   "source": [
    "df=df.sort_values('time')\n",
    "df2=df2.sort_values('time')"
   ],
   "metadata": {
    "collapsed": false,
    "ExecuteTime": {
     "end_time": "2024-03-11T20:23:10.366145300Z",
     "start_time": "2024-03-11T20:23:10.334902600Z"
    }
   },
   "id": "e3d8f0495681557e"
  },
  {
   "cell_type": "code",
   "execution_count": 32,
   "outputs": [],
   "source": [
    "df=df.rename(columns={'time': 'time_dev'})\n",
    "df2=df2.rename(columns={'time': 'time_prod'})"
   ],
   "metadata": {
    "collapsed": false,
    "ExecuteTime": {
     "end_time": "2024-03-11T20:23:13.765103Z",
     "start_time": "2024-03-11T20:23:13.733822800Z"
    }
   },
   "id": "dd4d0f6b78eda2bd"
  },
  {
   "cell_type": "code",
   "execution_count": 58,
   "outputs": [
    {
     "data": {
      "text/plain": "          id                   time_dev    energy  total_active_power  \\\n299  1296352 2024-02-12 16:00:00.001248  10638286                 0.0   \n298  1296377 2024-02-12 16:00:02.001569  10638286                 0.0   \n297  1296402 2024-02-12 16:00:04.000326  10638286                 0.0   \n296  1296427 2024-02-12 16:00:06.001488  10638286                 0.0   \n295  1296452 2024-02-12 16:00:08.000475  10638286                 0.0   \n..       ...                        ...       ...                 ...   \n4    1303727 2024-02-12 16:09:50.000329  10638333                 0.0   \n3    1303752 2024-02-12 16:09:52.000628  10638333                 0.0   \n2    1303777 2024-02-12 16:09:54.000515  10638333                 0.0   \n1    1303802 2024-02-12 16:09:56.000207  10638333                 0.0   \n0    1303827 2024-02-12 16:09:58.001472  10638333                 0.0   \n\n     demand_total_active_power  maximum_demand_total_active_power   i1   i2  \\\n299                 287.283325                         38795.0625  0.0  0.0   \n298                 287.283325                         38795.0625  0.0  0.0   \n297                 287.283325                         38795.0625  0.0  0.0   \n296                 287.283325                         38795.0625  0.0  0.0   \n295                 287.283325                         38795.0625  0.0  0.0   \n..                         ...                                ...  ...  ...   \n4                   288.166687                         38795.0625  0.0  0.0   \n3                   288.166687                         38795.0625  0.0  0.0   \n2                   288.166687                         38795.0625  0.0  0.0   \n1                   288.166687                         38795.0625  0.0  0.0   \n0                   288.166687                         38795.0625  0.0  0.0   \n\n      i3         u12         u23         u13  v1  v2  v3          device  \\\n299  0.0  400.000000  401.100006  400.500000 NaN NaN NaN  Aparat za kavu   \n298  0.0  400.299988  401.500000  400.600006 NaN NaN NaN  Aparat za kavu   \n297  0.0  400.299988  401.500000  400.600006 NaN NaN NaN  Aparat za kavu   \n296  0.0  400.299988  401.299988  400.500000 NaN NaN NaN  Aparat za kavu   \n295  0.0  400.299988  401.299988  400.500000 NaN NaN NaN  Aparat za kavu   \n..   ...         ...         ...         ...  ..  ..  ..             ...   \n4    0.0  400.600006  401.100006  400.200012 NaN NaN NaN  Aparat za kavu   \n3    0.0  400.799988  401.299988  400.200012 NaN NaN NaN  Aparat za kavu   \n2    0.0  400.799988  401.299988  400.200012 NaN NaN NaN  Aparat za kavu   \n1    0.0  400.600006  401.200012  400.100006 NaN NaN NaN  Aparat za kavu   \n0    0.0  400.600006  401.200012  400.100006 NaN NaN NaN  Aparat za kavu   \n\n     total_power_factor  total_apparent_power  \n299                 NaN                   0.0  \n298                 NaN                   0.0  \n297                 NaN                   0.0  \n296                 NaN                   0.0  \n295                 NaN                   0.0  \n..                  ...                   ...  \n4                   NaN                   0.0  \n3                   NaN                   0.0  \n2                   NaN                   0.0  \n1                   NaN                   0.0  \n0                   NaN                   0.0  \n\n[300 rows x 18 columns]",
      "text/html": "<div>\n<style scoped>\n    .dataframe tbody tr th:only-of-type {\n        vertical-align: middle;\n    }\n\n    .dataframe tbody tr th {\n        vertical-align: top;\n    }\n\n    .dataframe thead th {\n        text-align: right;\n    }\n</style>\n<table border=\"1\" class=\"dataframe\">\n  <thead>\n    <tr style=\"text-align: right;\">\n      <th></th>\n      <th>id</th>\n      <th>time_dev</th>\n      <th>energy</th>\n      <th>total_active_power</th>\n      <th>demand_total_active_power</th>\n      <th>maximum_demand_total_active_power</th>\n      <th>i1</th>\n      <th>i2</th>\n      <th>i3</th>\n      <th>u12</th>\n      <th>u23</th>\n      <th>u13</th>\n      <th>v1</th>\n      <th>v2</th>\n      <th>v3</th>\n      <th>device</th>\n      <th>total_power_factor</th>\n      <th>total_apparent_power</th>\n    </tr>\n  </thead>\n  <tbody>\n    <tr>\n      <th>299</th>\n      <td>1296352</td>\n      <td>2024-02-12 16:00:00.001248</td>\n      <td>10638286</td>\n      <td>0.0</td>\n      <td>287.283325</td>\n      <td>38795.0625</td>\n      <td>0.0</td>\n      <td>0.0</td>\n      <td>0.0</td>\n      <td>400.000000</td>\n      <td>401.100006</td>\n      <td>400.500000</td>\n      <td>NaN</td>\n      <td>NaN</td>\n      <td>NaN</td>\n      <td>Aparat za kavu</td>\n      <td>NaN</td>\n      <td>0.0</td>\n    </tr>\n    <tr>\n      <th>298</th>\n      <td>1296377</td>\n      <td>2024-02-12 16:00:02.001569</td>\n      <td>10638286</td>\n      <td>0.0</td>\n      <td>287.283325</td>\n      <td>38795.0625</td>\n      <td>0.0</td>\n      <td>0.0</td>\n      <td>0.0</td>\n      <td>400.299988</td>\n      <td>401.500000</td>\n      <td>400.600006</td>\n      <td>NaN</td>\n      <td>NaN</td>\n      <td>NaN</td>\n      <td>Aparat za kavu</td>\n      <td>NaN</td>\n      <td>0.0</td>\n    </tr>\n    <tr>\n      <th>297</th>\n      <td>1296402</td>\n      <td>2024-02-12 16:00:04.000326</td>\n      <td>10638286</td>\n      <td>0.0</td>\n      <td>287.283325</td>\n      <td>38795.0625</td>\n      <td>0.0</td>\n      <td>0.0</td>\n      <td>0.0</td>\n      <td>400.299988</td>\n      <td>401.500000</td>\n      <td>400.600006</td>\n      <td>NaN</td>\n      <td>NaN</td>\n      <td>NaN</td>\n      <td>Aparat za kavu</td>\n      <td>NaN</td>\n      <td>0.0</td>\n    </tr>\n    <tr>\n      <th>296</th>\n      <td>1296427</td>\n      <td>2024-02-12 16:00:06.001488</td>\n      <td>10638286</td>\n      <td>0.0</td>\n      <td>287.283325</td>\n      <td>38795.0625</td>\n      <td>0.0</td>\n      <td>0.0</td>\n      <td>0.0</td>\n      <td>400.299988</td>\n      <td>401.299988</td>\n      <td>400.500000</td>\n      <td>NaN</td>\n      <td>NaN</td>\n      <td>NaN</td>\n      <td>Aparat za kavu</td>\n      <td>NaN</td>\n      <td>0.0</td>\n    </tr>\n    <tr>\n      <th>295</th>\n      <td>1296452</td>\n      <td>2024-02-12 16:00:08.000475</td>\n      <td>10638286</td>\n      <td>0.0</td>\n      <td>287.283325</td>\n      <td>38795.0625</td>\n      <td>0.0</td>\n      <td>0.0</td>\n      <td>0.0</td>\n      <td>400.299988</td>\n      <td>401.299988</td>\n      <td>400.500000</td>\n      <td>NaN</td>\n      <td>NaN</td>\n      <td>NaN</td>\n      <td>Aparat za kavu</td>\n      <td>NaN</td>\n      <td>0.0</td>\n    </tr>\n    <tr>\n      <th>...</th>\n      <td>...</td>\n      <td>...</td>\n      <td>...</td>\n      <td>...</td>\n      <td>...</td>\n      <td>...</td>\n      <td>...</td>\n      <td>...</td>\n      <td>...</td>\n      <td>...</td>\n      <td>...</td>\n      <td>...</td>\n      <td>...</td>\n      <td>...</td>\n      <td>...</td>\n      <td>...</td>\n      <td>...</td>\n      <td>...</td>\n    </tr>\n    <tr>\n      <th>4</th>\n      <td>1303727</td>\n      <td>2024-02-12 16:09:50.000329</td>\n      <td>10638333</td>\n      <td>0.0</td>\n      <td>288.166687</td>\n      <td>38795.0625</td>\n      <td>0.0</td>\n      <td>0.0</td>\n      <td>0.0</td>\n      <td>400.600006</td>\n      <td>401.100006</td>\n      <td>400.200012</td>\n      <td>NaN</td>\n      <td>NaN</td>\n      <td>NaN</td>\n      <td>Aparat za kavu</td>\n      <td>NaN</td>\n      <td>0.0</td>\n    </tr>\n    <tr>\n      <th>3</th>\n      <td>1303752</td>\n      <td>2024-02-12 16:09:52.000628</td>\n      <td>10638333</td>\n      <td>0.0</td>\n      <td>288.166687</td>\n      <td>38795.0625</td>\n      <td>0.0</td>\n      <td>0.0</td>\n      <td>0.0</td>\n      <td>400.799988</td>\n      <td>401.299988</td>\n      <td>400.200012</td>\n      <td>NaN</td>\n      <td>NaN</td>\n      <td>NaN</td>\n      <td>Aparat za kavu</td>\n      <td>NaN</td>\n      <td>0.0</td>\n    </tr>\n    <tr>\n      <th>2</th>\n      <td>1303777</td>\n      <td>2024-02-12 16:09:54.000515</td>\n      <td>10638333</td>\n      <td>0.0</td>\n      <td>288.166687</td>\n      <td>38795.0625</td>\n      <td>0.0</td>\n      <td>0.0</td>\n      <td>0.0</td>\n      <td>400.799988</td>\n      <td>401.299988</td>\n      <td>400.200012</td>\n      <td>NaN</td>\n      <td>NaN</td>\n      <td>NaN</td>\n      <td>Aparat za kavu</td>\n      <td>NaN</td>\n      <td>0.0</td>\n    </tr>\n    <tr>\n      <th>1</th>\n      <td>1303802</td>\n      <td>2024-02-12 16:09:56.000207</td>\n      <td>10638333</td>\n      <td>0.0</td>\n      <td>288.166687</td>\n      <td>38795.0625</td>\n      <td>0.0</td>\n      <td>0.0</td>\n      <td>0.0</td>\n      <td>400.600006</td>\n      <td>401.200012</td>\n      <td>400.100006</td>\n      <td>NaN</td>\n      <td>NaN</td>\n      <td>NaN</td>\n      <td>Aparat za kavu</td>\n      <td>NaN</td>\n      <td>0.0</td>\n    </tr>\n    <tr>\n      <th>0</th>\n      <td>1303827</td>\n      <td>2024-02-12 16:09:58.001472</td>\n      <td>10638333</td>\n      <td>0.0</td>\n      <td>288.166687</td>\n      <td>38795.0625</td>\n      <td>0.0</td>\n      <td>0.0</td>\n      <td>0.0</td>\n      <td>400.600006</td>\n      <td>401.200012</td>\n      <td>400.100006</td>\n      <td>NaN</td>\n      <td>NaN</td>\n      <td>NaN</td>\n      <td>Aparat za kavu</td>\n      <td>NaN</td>\n      <td>0.0</td>\n    </tr>\n  </tbody>\n</table>\n<p>300 rows × 18 columns</p>\n</div>"
     },
     "execution_count": 58,
     "metadata": {},
     "output_type": "execute_result"
    }
   ],
   "source": [
    "df"
   ],
   "metadata": {
    "collapsed": false,
    "ExecuteTime": {
     "end_time": "2024-03-11T20:46:20.698785700Z",
     "start_time": "2024-03-11T20:46:20.620505900Z"
    }
   },
   "id": "11672799a34e33a4"
  },
  {
   "cell_type": "code",
   "execution_count": 60,
   "outputs": [
    {
     "data": {
      "text/plain": "False"
     },
     "execution_count": 60,
     "metadata": {},
     "output_type": "execute_result"
    }
   ],
   "source": [
    "df2['time_prod'].duplicated().any()\n"
   ],
   "metadata": {
    "collapsed": false,
    "ExecuteTime": {
     "end_time": "2024-03-11T20:53:37.603651900Z",
     "start_time": "2024-03-11T20:53:37.588013Z"
    }
   },
   "id": "ce42231b812a52b1"
  },
  {
   "cell_type": "code",
   "execution_count": 54,
   "outputs": [
    {
     "data": {
      "text/plain": "      id_dev                   time_dev  energy_dev  total_active_power_dev  \\\n0    1296352 2024-02-12 16:00:00.001248    10638286                     0.0   \n1    1296377 2024-02-12 16:00:02.001569    10638286                     0.0   \n2    1296402 2024-02-12 16:00:04.000326    10638286                     0.0   \n3    1296427 2024-02-12 16:00:06.001488    10638286                     0.0   \n4    1296452 2024-02-12 16:00:08.000475    10638286                     0.0   \n..       ...                        ...         ...                     ...   \n295  1303727 2024-02-12 16:09:50.000329    10638333                     0.0   \n296  1303752 2024-02-12 16:09:52.000628    10638333                     0.0   \n297  1303777 2024-02-12 16:09:54.000515    10638333                     0.0   \n298  1303802 2024-02-12 16:09:56.000207    10638333                     0.0   \n299  1303827 2024-02-12 16:09:58.001472    10638333                     0.0   \n\n     demand_total_active_power_dev  maximum_demand_total_active_power_dev  \\\n0                       287.283325                             38795.0625   \n1                       287.283325                             38795.0625   \n2                       287.283325                             38795.0625   \n3                       287.283325                             38795.0625   \n4                       287.283325                             38795.0625   \n..                             ...                                    ...   \n295                     288.166687                             38795.0625   \n296                     288.166687                             38795.0625   \n297                     288.166687                             38795.0625   \n298                     288.166687                             38795.0625   \n299                     288.166687                             38795.0625   \n\n     i1_dev  i2_dev  i3_dev     u12_dev  ...  i3_prod    u12_prod    u23_prod  \\\n0       0.0     0.0     0.0  400.000000  ...      0.0  400.299988  401.500000   \n1       0.0     0.0     0.0  400.299988  ...      0.0  400.299988  401.500000   \n2       0.0     0.0     0.0  400.299988  ...      0.0  400.299988  401.299988   \n3       0.0     0.0     0.0  400.299988  ...      0.0  400.299988  401.299988   \n4       0.0     0.0     0.0  400.299988  ...      0.0  400.299988  401.299988   \n..      ...     ...     ...         ...  ...      ...         ...         ...   \n295     0.0     0.0     0.0  400.600006  ...      0.0  400.799988  401.299988   \n296     0.0     0.0     0.0  400.799988  ...      NaN         NaN         NaN   \n297     0.0     0.0     0.0  400.799988  ...      0.0  400.799988  401.299988   \n298     0.0     0.0     0.0  400.600006  ...      0.0  400.600006  401.200012   \n299     0.0     0.0     0.0  400.600006  ...      0.0  400.600006  401.200012   \n\n       u13_prod  v1_prod v2_prod  v3_prod     device_prod  \\\n0    400.600006      NaN     NaN      NaN  Aparat za kavu   \n1    400.600006      NaN     NaN      NaN  Aparat za kavu   \n2    400.500000      NaN     NaN      NaN  Aparat za kavu   \n3    400.500000      NaN     NaN      NaN  Aparat za kavu   \n4    400.500000      NaN     NaN      NaN  Aparat za kavu   \n..          ...      ...     ...      ...             ...   \n295  400.200012      NaN     NaN      NaN  Aparat za kavu   \n296         NaN      NaN     NaN      NaN             NaN   \n297  400.200012      NaN     NaN      NaN  Aparat za kavu   \n298  400.100006      NaN     NaN      NaN  Aparat za kavu   \n299  400.100006      NaN     NaN      NaN  Aparat za kavu   \n\n     total_power_factor_prod total_apparent_power_prod  \n0                        NaN                       0.0  \n1                        NaN                       0.0  \n2                        NaN                       0.0  \n3                        NaN                       0.0  \n4                        NaN                       0.0  \n..                       ...                       ...  \n295                      NaN                       0.0  \n296                      NaN                       NaN  \n297                      NaN                       0.0  \n298                      NaN                       0.0  \n299                      NaN                       0.0  \n\n[300 rows x 36 columns]",
      "text/html": "<div>\n<style scoped>\n    .dataframe tbody tr th:only-of-type {\n        vertical-align: middle;\n    }\n\n    .dataframe tbody tr th {\n        vertical-align: top;\n    }\n\n    .dataframe thead th {\n        text-align: right;\n    }\n</style>\n<table border=\"1\" class=\"dataframe\">\n  <thead>\n    <tr style=\"text-align: right;\">\n      <th></th>\n      <th>id_dev</th>\n      <th>time_dev</th>\n      <th>energy_dev</th>\n      <th>total_active_power_dev</th>\n      <th>demand_total_active_power_dev</th>\n      <th>maximum_demand_total_active_power_dev</th>\n      <th>i1_dev</th>\n      <th>i2_dev</th>\n      <th>i3_dev</th>\n      <th>u12_dev</th>\n      <th>...</th>\n      <th>i3_prod</th>\n      <th>u12_prod</th>\n      <th>u23_prod</th>\n      <th>u13_prod</th>\n      <th>v1_prod</th>\n      <th>v2_prod</th>\n      <th>v3_prod</th>\n      <th>device_prod</th>\n      <th>total_power_factor_prod</th>\n      <th>total_apparent_power_prod</th>\n    </tr>\n  </thead>\n  <tbody>\n    <tr>\n      <th>0</th>\n      <td>1296352</td>\n      <td>2024-02-12 16:00:00.001248</td>\n      <td>10638286</td>\n      <td>0.0</td>\n      <td>287.283325</td>\n      <td>38795.0625</td>\n      <td>0.0</td>\n      <td>0.0</td>\n      <td>0.0</td>\n      <td>400.000000</td>\n      <td>...</td>\n      <td>0.0</td>\n      <td>400.299988</td>\n      <td>401.500000</td>\n      <td>400.600006</td>\n      <td>NaN</td>\n      <td>NaN</td>\n      <td>NaN</td>\n      <td>Aparat za kavu</td>\n      <td>NaN</td>\n      <td>0.0</td>\n    </tr>\n    <tr>\n      <th>1</th>\n      <td>1296377</td>\n      <td>2024-02-12 16:00:02.001569</td>\n      <td>10638286</td>\n      <td>0.0</td>\n      <td>287.283325</td>\n      <td>38795.0625</td>\n      <td>0.0</td>\n      <td>0.0</td>\n      <td>0.0</td>\n      <td>400.299988</td>\n      <td>...</td>\n      <td>0.0</td>\n      <td>400.299988</td>\n      <td>401.500000</td>\n      <td>400.600006</td>\n      <td>NaN</td>\n      <td>NaN</td>\n      <td>NaN</td>\n      <td>Aparat za kavu</td>\n      <td>NaN</td>\n      <td>0.0</td>\n    </tr>\n    <tr>\n      <th>2</th>\n      <td>1296402</td>\n      <td>2024-02-12 16:00:04.000326</td>\n      <td>10638286</td>\n      <td>0.0</td>\n      <td>287.283325</td>\n      <td>38795.0625</td>\n      <td>0.0</td>\n      <td>0.0</td>\n      <td>0.0</td>\n      <td>400.299988</td>\n      <td>...</td>\n      <td>0.0</td>\n      <td>400.299988</td>\n      <td>401.299988</td>\n      <td>400.500000</td>\n      <td>NaN</td>\n      <td>NaN</td>\n      <td>NaN</td>\n      <td>Aparat za kavu</td>\n      <td>NaN</td>\n      <td>0.0</td>\n    </tr>\n    <tr>\n      <th>3</th>\n      <td>1296427</td>\n      <td>2024-02-12 16:00:06.001488</td>\n      <td>10638286</td>\n      <td>0.0</td>\n      <td>287.283325</td>\n      <td>38795.0625</td>\n      <td>0.0</td>\n      <td>0.0</td>\n      <td>0.0</td>\n      <td>400.299988</td>\n      <td>...</td>\n      <td>0.0</td>\n      <td>400.299988</td>\n      <td>401.299988</td>\n      <td>400.500000</td>\n      <td>NaN</td>\n      <td>NaN</td>\n      <td>NaN</td>\n      <td>Aparat za kavu</td>\n      <td>NaN</td>\n      <td>0.0</td>\n    </tr>\n    <tr>\n      <th>4</th>\n      <td>1296452</td>\n      <td>2024-02-12 16:00:08.000475</td>\n      <td>10638286</td>\n      <td>0.0</td>\n      <td>287.283325</td>\n      <td>38795.0625</td>\n      <td>0.0</td>\n      <td>0.0</td>\n      <td>0.0</td>\n      <td>400.299988</td>\n      <td>...</td>\n      <td>0.0</td>\n      <td>400.299988</td>\n      <td>401.299988</td>\n      <td>400.500000</td>\n      <td>NaN</td>\n      <td>NaN</td>\n      <td>NaN</td>\n      <td>Aparat za kavu</td>\n      <td>NaN</td>\n      <td>0.0</td>\n    </tr>\n    <tr>\n      <th>...</th>\n      <td>...</td>\n      <td>...</td>\n      <td>...</td>\n      <td>...</td>\n      <td>...</td>\n      <td>...</td>\n      <td>...</td>\n      <td>...</td>\n      <td>...</td>\n      <td>...</td>\n      <td>...</td>\n      <td>...</td>\n      <td>...</td>\n      <td>...</td>\n      <td>...</td>\n      <td>...</td>\n      <td>...</td>\n      <td>...</td>\n      <td>...</td>\n      <td>...</td>\n      <td>...</td>\n    </tr>\n    <tr>\n      <th>295</th>\n      <td>1303727</td>\n      <td>2024-02-12 16:09:50.000329</td>\n      <td>10638333</td>\n      <td>0.0</td>\n      <td>288.166687</td>\n      <td>38795.0625</td>\n      <td>0.0</td>\n      <td>0.0</td>\n      <td>0.0</td>\n      <td>400.600006</td>\n      <td>...</td>\n      <td>0.0</td>\n      <td>400.799988</td>\n      <td>401.299988</td>\n      <td>400.200012</td>\n      <td>NaN</td>\n      <td>NaN</td>\n      <td>NaN</td>\n      <td>Aparat za kavu</td>\n      <td>NaN</td>\n      <td>0.0</td>\n    </tr>\n    <tr>\n      <th>296</th>\n      <td>1303752</td>\n      <td>2024-02-12 16:09:52.000628</td>\n      <td>10638333</td>\n      <td>0.0</td>\n      <td>288.166687</td>\n      <td>38795.0625</td>\n      <td>0.0</td>\n      <td>0.0</td>\n      <td>0.0</td>\n      <td>400.799988</td>\n      <td>...</td>\n      <td>NaN</td>\n      <td>NaN</td>\n      <td>NaN</td>\n      <td>NaN</td>\n      <td>NaN</td>\n      <td>NaN</td>\n      <td>NaN</td>\n      <td>NaN</td>\n      <td>NaN</td>\n      <td>NaN</td>\n    </tr>\n    <tr>\n      <th>297</th>\n      <td>1303777</td>\n      <td>2024-02-12 16:09:54.000515</td>\n      <td>10638333</td>\n      <td>0.0</td>\n      <td>288.166687</td>\n      <td>38795.0625</td>\n      <td>0.0</td>\n      <td>0.0</td>\n      <td>0.0</td>\n      <td>400.799988</td>\n      <td>...</td>\n      <td>0.0</td>\n      <td>400.799988</td>\n      <td>401.299988</td>\n      <td>400.200012</td>\n      <td>NaN</td>\n      <td>NaN</td>\n      <td>NaN</td>\n      <td>Aparat za kavu</td>\n      <td>NaN</td>\n      <td>0.0</td>\n    </tr>\n    <tr>\n      <th>298</th>\n      <td>1303802</td>\n      <td>2024-02-12 16:09:56.000207</td>\n      <td>10638333</td>\n      <td>0.0</td>\n      <td>288.166687</td>\n      <td>38795.0625</td>\n      <td>0.0</td>\n      <td>0.0</td>\n      <td>0.0</td>\n      <td>400.600006</td>\n      <td>...</td>\n      <td>0.0</td>\n      <td>400.600006</td>\n      <td>401.200012</td>\n      <td>400.100006</td>\n      <td>NaN</td>\n      <td>NaN</td>\n      <td>NaN</td>\n      <td>Aparat za kavu</td>\n      <td>NaN</td>\n      <td>0.0</td>\n    </tr>\n    <tr>\n      <th>299</th>\n      <td>1303827</td>\n      <td>2024-02-12 16:09:58.001472</td>\n      <td>10638333</td>\n      <td>0.0</td>\n      <td>288.166687</td>\n      <td>38795.0625</td>\n      <td>0.0</td>\n      <td>0.0</td>\n      <td>0.0</td>\n      <td>400.600006</td>\n      <td>...</td>\n      <td>0.0</td>\n      <td>400.600006</td>\n      <td>401.200012</td>\n      <td>400.100006</td>\n      <td>NaN</td>\n      <td>NaN</td>\n      <td>NaN</td>\n      <td>Aparat za kavu</td>\n      <td>NaN</td>\n      <td>0.0</td>\n    </tr>\n  </tbody>\n</table>\n<p>300 rows × 36 columns</p>\n</div>"
     },
     "execution_count": 54,
     "metadata": {},
     "output_type": "execute_result"
    }
   ],
   "source": [
    "merged = pd.merge_asof(df, df2, left_on=\"time_dev\", right_on='time_prod', tolerance=pd.to_timedelta('00:00:01'), suffixes=('_dev', '_prod'), direction='nearest')\n",
    "merged\n",
    "#1s zato sto je frekvnecija zapisa lijeve tablice ispod 2s, to znači da ako je trenutak desnog zapisa udaljen od lijevog trenutka za više od 1s, pripada (odgovara) nekom drugom lijevom zapisu"
   ],
   "metadata": {
    "collapsed": false,
    "ExecuteTime": {
     "end_time": "2024-03-11T20:44:54.612128600Z",
     "start_time": "2024-03-11T20:44:54.565264700Z"
    }
   },
   "id": "69977223d596518c"
  },
  {
   "cell_type": "code",
   "execution_count": 55,
   "outputs": [
    {
     "data": {
      "text/plain": "     demand_total_active_power_dev  demand_total_active_power_prod  \\\n0                       287.283325                      287.283325   \n1                       287.283325                      287.283325   \n2                       287.283325                      287.283325   \n3                       287.283325                      287.283325   \n4                       287.283325                      287.283325   \n..                             ...                             ...   \n295                     288.166687                      288.166687   \n296                     288.166687                             NaN   \n297                     288.166687                      288.166687   \n298                     288.166687                      288.166687   \n299                     288.166687                      288.166687   \n\n         device_dev     device_prod  energy_dev  energy_prod  i1_dev  i1_prod  \\\n0    Aparat za kavu  Aparat za kavu    10638286    10638.286     0.0      0.0   \n1    Aparat za kavu  Aparat za kavu    10638286    10638.286     0.0      0.0   \n2    Aparat za kavu  Aparat za kavu    10638286    10638.286     0.0      0.0   \n3    Aparat za kavu  Aparat za kavu    10638286    10638.286     0.0      0.0   \n4    Aparat za kavu  Aparat za kavu    10638286    10638.286     0.0      0.0   \n..              ...             ...         ...          ...     ...      ...   \n295  Aparat za kavu  Aparat za kavu    10638333    10638.333     0.0      0.0   \n296  Aparat za kavu             NaN    10638333          NaN     0.0      NaN   \n297  Aparat za kavu  Aparat za kavu    10638333    10638.333     0.0      0.0   \n298  Aparat za kavu  Aparat za kavu    10638333    10638.333     0.0      0.0   \n299  Aparat za kavu  Aparat za kavu    10638333    10638.333     0.0      0.0   \n\n     i2_dev  i2_prod  ...     u13_dev    u13_prod     u23_dev    u23_prod  \\\n0       0.0      0.0  ...  400.500000  400.600006  401.100006  401.500000   \n1       0.0      0.0  ...  400.600006  400.600006  401.500000  401.500000   \n2       0.0      0.0  ...  400.600006  400.500000  401.500000  401.299988   \n3       0.0      0.0  ...  400.500000  400.500000  401.299988  401.299988   \n4       0.0      0.0  ...  400.500000  400.500000  401.299988  401.299988   \n..      ...      ...  ...         ...         ...         ...         ...   \n295     0.0      0.0  ...  400.200012  400.200012  401.100006  401.299988   \n296     0.0      NaN  ...  400.200012         NaN  401.299988         NaN   \n297     0.0      0.0  ...  400.200012  400.200012  401.299988  401.299988   \n298     0.0      0.0  ...  400.100006  400.100006  401.200012  401.200012   \n299     0.0      0.0  ...  400.100006  400.100006  401.200012  401.200012   \n\n     v1_dev  v1_prod v2_dev v2_prod  v3_dev  v3_prod  \n0       NaN      NaN    NaN     NaN     NaN      NaN  \n1       NaN      NaN    NaN     NaN     NaN      NaN  \n2       NaN      NaN    NaN     NaN     NaN      NaN  \n3       NaN      NaN    NaN     NaN     NaN      NaN  \n4       NaN      NaN    NaN     NaN     NaN      NaN  \n..      ...      ...    ...     ...     ...      ...  \n295     NaN      NaN    NaN     NaN     NaN      NaN  \n296     NaN      NaN    NaN     NaN     NaN      NaN  \n297     NaN      NaN    NaN     NaN     NaN      NaN  \n298     NaN      NaN    NaN     NaN     NaN      NaN  \n299     NaN      NaN    NaN     NaN     NaN      NaN  \n\n[300 rows x 36 columns]",
      "text/html": "<div>\n<style scoped>\n    .dataframe tbody tr th:only-of-type {\n        vertical-align: middle;\n    }\n\n    .dataframe tbody tr th {\n        vertical-align: top;\n    }\n\n    .dataframe thead th {\n        text-align: right;\n    }\n</style>\n<table border=\"1\" class=\"dataframe\">\n  <thead>\n    <tr style=\"text-align: right;\">\n      <th></th>\n      <th>demand_total_active_power_dev</th>\n      <th>demand_total_active_power_prod</th>\n      <th>device_dev</th>\n      <th>device_prod</th>\n      <th>energy_dev</th>\n      <th>energy_prod</th>\n      <th>i1_dev</th>\n      <th>i1_prod</th>\n      <th>i2_dev</th>\n      <th>i2_prod</th>\n      <th>...</th>\n      <th>u13_dev</th>\n      <th>u13_prod</th>\n      <th>u23_dev</th>\n      <th>u23_prod</th>\n      <th>v1_dev</th>\n      <th>v1_prod</th>\n      <th>v2_dev</th>\n      <th>v2_prod</th>\n      <th>v3_dev</th>\n      <th>v3_prod</th>\n    </tr>\n  </thead>\n  <tbody>\n    <tr>\n      <th>0</th>\n      <td>287.283325</td>\n      <td>287.283325</td>\n      <td>Aparat za kavu</td>\n      <td>Aparat za kavu</td>\n      <td>10638286</td>\n      <td>10638.286</td>\n      <td>0.0</td>\n      <td>0.0</td>\n      <td>0.0</td>\n      <td>0.0</td>\n      <td>...</td>\n      <td>400.500000</td>\n      <td>400.600006</td>\n      <td>401.100006</td>\n      <td>401.500000</td>\n      <td>NaN</td>\n      <td>NaN</td>\n      <td>NaN</td>\n      <td>NaN</td>\n      <td>NaN</td>\n      <td>NaN</td>\n    </tr>\n    <tr>\n      <th>1</th>\n      <td>287.283325</td>\n      <td>287.283325</td>\n      <td>Aparat za kavu</td>\n      <td>Aparat za kavu</td>\n      <td>10638286</td>\n      <td>10638.286</td>\n      <td>0.0</td>\n      <td>0.0</td>\n      <td>0.0</td>\n      <td>0.0</td>\n      <td>...</td>\n      <td>400.600006</td>\n      <td>400.600006</td>\n      <td>401.500000</td>\n      <td>401.500000</td>\n      <td>NaN</td>\n      <td>NaN</td>\n      <td>NaN</td>\n      <td>NaN</td>\n      <td>NaN</td>\n      <td>NaN</td>\n    </tr>\n    <tr>\n      <th>2</th>\n      <td>287.283325</td>\n      <td>287.283325</td>\n      <td>Aparat za kavu</td>\n      <td>Aparat za kavu</td>\n      <td>10638286</td>\n      <td>10638.286</td>\n      <td>0.0</td>\n      <td>0.0</td>\n      <td>0.0</td>\n      <td>0.0</td>\n      <td>...</td>\n      <td>400.600006</td>\n      <td>400.500000</td>\n      <td>401.500000</td>\n      <td>401.299988</td>\n      <td>NaN</td>\n      <td>NaN</td>\n      <td>NaN</td>\n      <td>NaN</td>\n      <td>NaN</td>\n      <td>NaN</td>\n    </tr>\n    <tr>\n      <th>3</th>\n      <td>287.283325</td>\n      <td>287.283325</td>\n      <td>Aparat za kavu</td>\n      <td>Aparat za kavu</td>\n      <td>10638286</td>\n      <td>10638.286</td>\n      <td>0.0</td>\n      <td>0.0</td>\n      <td>0.0</td>\n      <td>0.0</td>\n      <td>...</td>\n      <td>400.500000</td>\n      <td>400.500000</td>\n      <td>401.299988</td>\n      <td>401.299988</td>\n      <td>NaN</td>\n      <td>NaN</td>\n      <td>NaN</td>\n      <td>NaN</td>\n      <td>NaN</td>\n      <td>NaN</td>\n    </tr>\n    <tr>\n      <th>4</th>\n      <td>287.283325</td>\n      <td>287.283325</td>\n      <td>Aparat za kavu</td>\n      <td>Aparat za kavu</td>\n      <td>10638286</td>\n      <td>10638.286</td>\n      <td>0.0</td>\n      <td>0.0</td>\n      <td>0.0</td>\n      <td>0.0</td>\n      <td>...</td>\n      <td>400.500000</td>\n      <td>400.500000</td>\n      <td>401.299988</td>\n      <td>401.299988</td>\n      <td>NaN</td>\n      <td>NaN</td>\n      <td>NaN</td>\n      <td>NaN</td>\n      <td>NaN</td>\n      <td>NaN</td>\n    </tr>\n    <tr>\n      <th>...</th>\n      <td>...</td>\n      <td>...</td>\n      <td>...</td>\n      <td>...</td>\n      <td>...</td>\n      <td>...</td>\n      <td>...</td>\n      <td>...</td>\n      <td>...</td>\n      <td>...</td>\n      <td>...</td>\n      <td>...</td>\n      <td>...</td>\n      <td>...</td>\n      <td>...</td>\n      <td>...</td>\n      <td>...</td>\n      <td>...</td>\n      <td>...</td>\n      <td>...</td>\n      <td>...</td>\n    </tr>\n    <tr>\n      <th>295</th>\n      <td>288.166687</td>\n      <td>288.166687</td>\n      <td>Aparat za kavu</td>\n      <td>Aparat za kavu</td>\n      <td>10638333</td>\n      <td>10638.333</td>\n      <td>0.0</td>\n      <td>0.0</td>\n      <td>0.0</td>\n      <td>0.0</td>\n      <td>...</td>\n      <td>400.200012</td>\n      <td>400.200012</td>\n      <td>401.100006</td>\n      <td>401.299988</td>\n      <td>NaN</td>\n      <td>NaN</td>\n      <td>NaN</td>\n      <td>NaN</td>\n      <td>NaN</td>\n      <td>NaN</td>\n    </tr>\n    <tr>\n      <th>296</th>\n      <td>288.166687</td>\n      <td>NaN</td>\n      <td>Aparat za kavu</td>\n      <td>NaN</td>\n      <td>10638333</td>\n      <td>NaN</td>\n      <td>0.0</td>\n      <td>NaN</td>\n      <td>0.0</td>\n      <td>NaN</td>\n      <td>...</td>\n      <td>400.200012</td>\n      <td>NaN</td>\n      <td>401.299988</td>\n      <td>NaN</td>\n      <td>NaN</td>\n      <td>NaN</td>\n      <td>NaN</td>\n      <td>NaN</td>\n      <td>NaN</td>\n      <td>NaN</td>\n    </tr>\n    <tr>\n      <th>297</th>\n      <td>288.166687</td>\n      <td>288.166687</td>\n      <td>Aparat za kavu</td>\n      <td>Aparat za kavu</td>\n      <td>10638333</td>\n      <td>10638.333</td>\n      <td>0.0</td>\n      <td>0.0</td>\n      <td>0.0</td>\n      <td>0.0</td>\n      <td>...</td>\n      <td>400.200012</td>\n      <td>400.200012</td>\n      <td>401.299988</td>\n      <td>401.299988</td>\n      <td>NaN</td>\n      <td>NaN</td>\n      <td>NaN</td>\n      <td>NaN</td>\n      <td>NaN</td>\n      <td>NaN</td>\n    </tr>\n    <tr>\n      <th>298</th>\n      <td>288.166687</td>\n      <td>288.166687</td>\n      <td>Aparat za kavu</td>\n      <td>Aparat za kavu</td>\n      <td>10638333</td>\n      <td>10638.333</td>\n      <td>0.0</td>\n      <td>0.0</td>\n      <td>0.0</td>\n      <td>0.0</td>\n      <td>...</td>\n      <td>400.100006</td>\n      <td>400.100006</td>\n      <td>401.200012</td>\n      <td>401.200012</td>\n      <td>NaN</td>\n      <td>NaN</td>\n      <td>NaN</td>\n      <td>NaN</td>\n      <td>NaN</td>\n      <td>NaN</td>\n    </tr>\n    <tr>\n      <th>299</th>\n      <td>288.166687</td>\n      <td>288.166687</td>\n      <td>Aparat za kavu</td>\n      <td>Aparat za kavu</td>\n      <td>10638333</td>\n      <td>10638.333</td>\n      <td>0.0</td>\n      <td>0.0</td>\n      <td>0.0</td>\n      <td>0.0</td>\n      <td>...</td>\n      <td>400.100006</td>\n      <td>400.100006</td>\n      <td>401.200012</td>\n      <td>401.200012</td>\n      <td>NaN</td>\n      <td>NaN</td>\n      <td>NaN</td>\n      <td>NaN</td>\n      <td>NaN</td>\n      <td>NaN</td>\n    </tr>\n  </tbody>\n</table>\n<p>300 rows × 36 columns</p>\n</div>"
     },
     "execution_count": 55,
     "metadata": {},
     "output_type": "execute_result"
    }
   ],
   "source": [
    "merged.sort_index(axis=1)"
   ],
   "metadata": {
    "collapsed": false,
    "ExecuteTime": {
     "end_time": "2024-03-11T20:45:05.620291400Z",
     "start_time": "2024-03-11T20:45:05.573430900Z"
    }
   },
   "id": "85f83f03ef26b432"
  },
  {
   "cell_type": "code",
   "execution_count": 56,
   "outputs": [
    {
     "data": {
      "text/plain": "      id_dev                   time_dev  energy_dev  total_active_power_dev  \\\n46   1297502 2024-02-12 16:01:32.000635    10638286                     0.0   \n84   1298452 2024-02-12 16:02:48.001879    10638286                     0.0   \n115  1299227 2024-02-12 16:03:50.000878    10638330                     0.0   \n151  1300127 2024-02-12 16:05:02.000267    10638333                     0.0   \n187  1301027 2024-02-12 16:06:14.003585    10638333                     0.0   \n224  1301952 2024-02-12 16:07:28.001582    10638333                     0.0   \n261  1302877 2024-02-12 16:08:42.001010    10638333                     0.0   \n296  1303752 2024-02-12 16:09:52.000628    10638333                     0.0   \n\n     demand_total_active_power_dev  maximum_demand_total_active_power_dev  \\\n46                      287.283325                             38795.0625   \n84                      287.283325                             38795.0625   \n115                     575.450012                             38795.0625   \n151                     575.450012                             38795.0625   \n187                     402.750000                             38795.0625   \n224                     288.166687                             38795.0625   \n261                     288.166687                             38795.0625   \n296                     288.166687                             38795.0625   \n\n     i1_dev  i2_dev  i3_dev     u12_dev  ...  i3_prod  u12_prod  u23_prod  \\\n46      0.0     0.0     0.0  400.500000  ...      NaN       NaN       NaN   \n84      0.0     0.0     0.0  400.899994  ...      NaN       NaN       NaN   \n115     0.0     0.0     0.0  400.500000  ...      NaN       NaN       NaN   \n151     0.0     0.0     0.0  399.500000  ...      NaN       NaN       NaN   \n187     0.0     0.0     0.0  399.200012  ...      NaN       NaN       NaN   \n224     0.0     0.0     0.0  399.600006  ...      NaN       NaN       NaN   \n261     0.0     0.0     0.0  400.700012  ...      NaN       NaN       NaN   \n296     0.0     0.0     0.0  400.799988  ...      NaN       NaN       NaN   \n\n     u13_prod  v1_prod v2_prod  v3_prod  device_prod  total_power_factor_prod  \\\n46        NaN      NaN     NaN      NaN          NaN                      NaN   \n84        NaN      NaN     NaN      NaN          NaN                      NaN   \n115       NaN      NaN     NaN      NaN          NaN                      NaN   \n151       NaN      NaN     NaN      NaN          NaN                      NaN   \n187       NaN      NaN     NaN      NaN          NaN                      NaN   \n224       NaN      NaN     NaN      NaN          NaN                      NaN   \n261       NaN      NaN     NaN      NaN          NaN                      NaN   \n296       NaN      NaN     NaN      NaN          NaN                      NaN   \n\n    total_apparent_power_prod  \n46                        NaN  \n84                        NaN  \n115                       NaN  \n151                       NaN  \n187                       NaN  \n224                       NaN  \n261                       NaN  \n296                       NaN  \n\n[8 rows x 36 columns]",
      "text/html": "<div>\n<style scoped>\n    .dataframe tbody tr th:only-of-type {\n        vertical-align: middle;\n    }\n\n    .dataframe tbody tr th {\n        vertical-align: top;\n    }\n\n    .dataframe thead th {\n        text-align: right;\n    }\n</style>\n<table border=\"1\" class=\"dataframe\">\n  <thead>\n    <tr style=\"text-align: right;\">\n      <th></th>\n      <th>id_dev</th>\n      <th>time_dev</th>\n      <th>energy_dev</th>\n      <th>total_active_power_dev</th>\n      <th>demand_total_active_power_dev</th>\n      <th>maximum_demand_total_active_power_dev</th>\n      <th>i1_dev</th>\n      <th>i2_dev</th>\n      <th>i3_dev</th>\n      <th>u12_dev</th>\n      <th>...</th>\n      <th>i3_prod</th>\n      <th>u12_prod</th>\n      <th>u23_prod</th>\n      <th>u13_prod</th>\n      <th>v1_prod</th>\n      <th>v2_prod</th>\n      <th>v3_prod</th>\n      <th>device_prod</th>\n      <th>total_power_factor_prod</th>\n      <th>total_apparent_power_prod</th>\n    </tr>\n  </thead>\n  <tbody>\n    <tr>\n      <th>46</th>\n      <td>1297502</td>\n      <td>2024-02-12 16:01:32.000635</td>\n      <td>10638286</td>\n      <td>0.0</td>\n      <td>287.283325</td>\n      <td>38795.0625</td>\n      <td>0.0</td>\n      <td>0.0</td>\n      <td>0.0</td>\n      <td>400.500000</td>\n      <td>...</td>\n      <td>NaN</td>\n      <td>NaN</td>\n      <td>NaN</td>\n      <td>NaN</td>\n      <td>NaN</td>\n      <td>NaN</td>\n      <td>NaN</td>\n      <td>NaN</td>\n      <td>NaN</td>\n      <td>NaN</td>\n    </tr>\n    <tr>\n      <th>84</th>\n      <td>1298452</td>\n      <td>2024-02-12 16:02:48.001879</td>\n      <td>10638286</td>\n      <td>0.0</td>\n      <td>287.283325</td>\n      <td>38795.0625</td>\n      <td>0.0</td>\n      <td>0.0</td>\n      <td>0.0</td>\n      <td>400.899994</td>\n      <td>...</td>\n      <td>NaN</td>\n      <td>NaN</td>\n      <td>NaN</td>\n      <td>NaN</td>\n      <td>NaN</td>\n      <td>NaN</td>\n      <td>NaN</td>\n      <td>NaN</td>\n      <td>NaN</td>\n      <td>NaN</td>\n    </tr>\n    <tr>\n      <th>115</th>\n      <td>1299227</td>\n      <td>2024-02-12 16:03:50.000878</td>\n      <td>10638330</td>\n      <td>0.0</td>\n      <td>575.450012</td>\n      <td>38795.0625</td>\n      <td>0.0</td>\n      <td>0.0</td>\n      <td>0.0</td>\n      <td>400.500000</td>\n      <td>...</td>\n      <td>NaN</td>\n      <td>NaN</td>\n      <td>NaN</td>\n      <td>NaN</td>\n      <td>NaN</td>\n      <td>NaN</td>\n      <td>NaN</td>\n      <td>NaN</td>\n      <td>NaN</td>\n      <td>NaN</td>\n    </tr>\n    <tr>\n      <th>151</th>\n      <td>1300127</td>\n      <td>2024-02-12 16:05:02.000267</td>\n      <td>10638333</td>\n      <td>0.0</td>\n      <td>575.450012</td>\n      <td>38795.0625</td>\n      <td>0.0</td>\n      <td>0.0</td>\n      <td>0.0</td>\n      <td>399.500000</td>\n      <td>...</td>\n      <td>NaN</td>\n      <td>NaN</td>\n      <td>NaN</td>\n      <td>NaN</td>\n      <td>NaN</td>\n      <td>NaN</td>\n      <td>NaN</td>\n      <td>NaN</td>\n      <td>NaN</td>\n      <td>NaN</td>\n    </tr>\n    <tr>\n      <th>187</th>\n      <td>1301027</td>\n      <td>2024-02-12 16:06:14.003585</td>\n      <td>10638333</td>\n      <td>0.0</td>\n      <td>402.750000</td>\n      <td>38795.0625</td>\n      <td>0.0</td>\n      <td>0.0</td>\n      <td>0.0</td>\n      <td>399.200012</td>\n      <td>...</td>\n      <td>NaN</td>\n      <td>NaN</td>\n      <td>NaN</td>\n      <td>NaN</td>\n      <td>NaN</td>\n      <td>NaN</td>\n      <td>NaN</td>\n      <td>NaN</td>\n      <td>NaN</td>\n      <td>NaN</td>\n    </tr>\n    <tr>\n      <th>224</th>\n      <td>1301952</td>\n      <td>2024-02-12 16:07:28.001582</td>\n      <td>10638333</td>\n      <td>0.0</td>\n      <td>288.166687</td>\n      <td>38795.0625</td>\n      <td>0.0</td>\n      <td>0.0</td>\n      <td>0.0</td>\n      <td>399.600006</td>\n      <td>...</td>\n      <td>NaN</td>\n      <td>NaN</td>\n      <td>NaN</td>\n      <td>NaN</td>\n      <td>NaN</td>\n      <td>NaN</td>\n      <td>NaN</td>\n      <td>NaN</td>\n      <td>NaN</td>\n      <td>NaN</td>\n    </tr>\n    <tr>\n      <th>261</th>\n      <td>1302877</td>\n      <td>2024-02-12 16:08:42.001010</td>\n      <td>10638333</td>\n      <td>0.0</td>\n      <td>288.166687</td>\n      <td>38795.0625</td>\n      <td>0.0</td>\n      <td>0.0</td>\n      <td>0.0</td>\n      <td>400.700012</td>\n      <td>...</td>\n      <td>NaN</td>\n      <td>NaN</td>\n      <td>NaN</td>\n      <td>NaN</td>\n      <td>NaN</td>\n      <td>NaN</td>\n      <td>NaN</td>\n      <td>NaN</td>\n      <td>NaN</td>\n      <td>NaN</td>\n    </tr>\n    <tr>\n      <th>296</th>\n      <td>1303752</td>\n      <td>2024-02-12 16:09:52.000628</td>\n      <td>10638333</td>\n      <td>0.0</td>\n      <td>288.166687</td>\n      <td>38795.0625</td>\n      <td>0.0</td>\n      <td>0.0</td>\n      <td>0.0</td>\n      <td>400.799988</td>\n      <td>...</td>\n      <td>NaN</td>\n      <td>NaN</td>\n      <td>NaN</td>\n      <td>NaN</td>\n      <td>NaN</td>\n      <td>NaN</td>\n      <td>NaN</td>\n      <td>NaN</td>\n      <td>NaN</td>\n      <td>NaN</td>\n    </tr>\n  </tbody>\n</table>\n<p>8 rows × 36 columns</p>\n</div>"
     },
     "execution_count": 56,
     "metadata": {},
     "output_type": "execute_result"
    }
   ],
   "source": [
    "merged[merged['time_prod'].duplicated()]\n",
    "#ovih lijevih ima vise jer su precizniji, neki retci u desnom sl. jednostavno fale i zato su NaTovi"
   ],
   "metadata": {
    "collapsed": false,
    "ExecuteTime": {
     "end_time": "2024-03-11T20:45:28.184718300Z",
     "start_time": "2024-03-11T20:45:28.137896300Z"
    }
   },
   "id": "c6e072165c1ba0cf"
  },
  {
   "cell_type": "code",
   "execution_count": 16,
   "outputs": [
    {
     "name": "stdout",
     "output_type": "stream",
     "text": [
      "0 days 00:00:01.985746\n",
      "0 days 00:00:02\n",
      "False\n",
      "0 days 00:00:01.985746\n",
      "0 days 00:00:02\n",
      "False\n",
      "0 days 00:00:00\n",
      "0 days 00:00:00\n",
      "0 days 00:00:01.985746\n",
      "0 days 00:00:02\n",
      "False\n",
      "0 days 00:00:01.985746\n",
      "0 days 00:00:02\n",
      "False\n",
      "0 days 00:00:00\n",
      "0 days 00:00:00\n",
      "0 days 00:00:00\n",
      "0 days 00:00:00\n",
      "0 days 00:00:01.985746\n",
      "0 days 00:00:02\n",
      "False\n",
      "0 days 00:00:01.985746\n",
      "0 days 00:00:02\n",
      "False\n",
      "0 days 00:00:01.985746\n",
      "0 days 00:00:02\n",
      "False\n",
      "0 days 00:00:01.985746\n",
      "0 days 00:00:02\n",
      "False\n",
      "0 days 00:00:01.985746\n",
      "0 days 00:00:02\n",
      "False\n",
      "0 days 00:00:01.985746\n",
      "0 days 00:00:02\n",
      "False\n",
      "0 days 00:00:01.985746\n",
      "0 days 00:00:02\n",
      "False\n",
      "0 days 00:00:01.985746\n",
      "0 days 00:00:02\n",
      "False\n",
      "0 days 00:00:01.985746\n",
      "0 days 00:00:02\n",
      "False\n",
      "0 days 00:00:01.985746\n",
      "0 days 00:00:02\n",
      "False\n",
      "0 days 00:00:00\n",
      "0 days 00:00:00\n"
     ]
    }
   ],
   "source": [
    "#konacan kod\n",
    "for device in devices:\n",
    "    df = pd.read_csv(r'uredaji/{}_dev.csv'.format(device), parse_dates=['time'], encoding='latin1')\n",
    "    df['diff'] = df['time'].diff(periods=-1)\n",
    "    minimum = df['diff'].min()\n",
    "    print(minimum)\n",
    "    \n",
    "    df2 = pd.read_csv(r'uredaji/{}_prod.csv'.format(device), parse_dates=['time'], encoding='latin1')\n",
    "    df2['diff'] = df2['time'].diff(periods=-1)\n",
    "    minimum2 = df2['diff'].min()\n",
    "    print(minimum2)\n",
    "    df2['energy']=df2['energy']*1000\n",
    "    if minimum == pd.to_timedelta('0 days 00:00:00') or minimum2==pd.to_timedelta('0 days 00:00:00'):\n",
    "        #postoje dupli retci, podijelit u 4 df-a, isti trenutak manji id u jednu tablicu, isti trenutka veci id u drugu\n",
    "        df_gornji = df[df['diff']!=pd.to_timedelta('0 days 00:00:00')].copy()\n",
    "        #u gronjoj su svi 'originali', u donjoj svi duplikati\n",
    "        #isto za drugi dataframe\n",
    "        df_donji = df[df['diff']==pd.to_timedelta('0 days 00:00:00')].copy()\n",
    "        df2_gornji = df2[df2['diff']!=pd.to_timedelta('0 days 00:00:00')].copy()\n",
    "        df2_donji = df2[df2['diff']==pd.to_timedelta('0 days 00:00:00')].copy()\n",
    "        \n",
    "        #spojit gornje međusobno, i donje međusobno\n",
    "        df_gornji.drop(columns=['diff', 'id'], inplace=True)\n",
    "        df_donji.drop(columns=['diff','id'], inplace=True)\n",
    "        df2_donji.drop(columns=['diff','id'], inplace=True)\n",
    "        df2_gornji.drop(columns=['diff','id'], inplace=True)\n",
    "        \n",
    "        df_gornji = df_gornji.sort_values(['time', 'energy'])\n",
    "        df_donji = df_donji.sort_values(['time', 'energy'])\n",
    "        df2_donji = df2_donji.sort_values(['time', 'energy'])\n",
    "        df2_gornji = df2_gornji.sort_values(['time', 'energy'])\n",
    "        \n",
    "        df_gornji = df_gornji.rename(columns={'time': 'time_dev', 'energy': 'energy_dev'})\n",
    "        df2_gornji = df2_gornji.rename(columns={'time': 'time_prod', 'energy': 'energy_prod'})\n",
    "        df_donji = df_donji.rename(columns={'time': 'time_dev', 'energy': 'energy_dev'})\n",
    "        df2_donji = df2_donji.rename(columns={'time': 'time_prod', 'energy': 'energy_prod'})\n",
    "        \n",
    "        merged_gornji = pd.merge_asof(df_gornji, df2_gornji, left_on=\"time_dev\", right_on='time_prod', tolerance=pd.to_timedelta('00:00:01'), suffixes=('_dev', '_prod'), direction='nearest')\n",
    "        merged_gornji = merged_gornji.sort_index(axis=1)\n",
    "        \n",
    "        merged_donji = pd.merge_asof(df_donji, df2_donji, left_on=\"time_dev\", right_on='time_prod', tolerance=pd.to_timedelta('00:00:01'), suffixes=('_dev', '_prod'), direction='nearest')\n",
    "        merged_donji = merged_donji.sort_index(axis=1)\n",
    "        \n",
    "        #u gornjem su svi 'originalni zapisi' koji međusbono odgovaraju, u donjem su sve kopije\n",
    "        #sad treba sve skupa spojit u jednu tablicu\n",
    "        merged = pd.concat([merged_gornji, merged_donji], ignore_index=True)\n",
    "        merged = merged.sort_values(['time_dev'])\n",
    "        \n",
    "    else:   \n",
    "        df.drop(columns=['diff','id'], inplace=True)\n",
    "        df2.drop(columns=['diff','id'], inplace=True)\n",
    "        \n",
    "        df = df.sort_values(['time', 'energy'])\n",
    "        df2 = df2.sort_values(['time', 'energy'])\n",
    "        df = df.rename(columns={'time': 'time_dev', 'energy': 'energy_dev'})\n",
    "        df2 = df2.rename(columns={'time': 'time_prod', 'energy': 'energy_prod'})\n",
    "        \n",
    "        print(df2.loc[:,['time_prod','energy_prod']].duplicated().any())\n",
    "        \n",
    "        merged = pd.merge_asof(df, df2, left_on=\"time_dev\", right_on='time_prod', tolerance=pd.to_timedelta('00:00:01'), suffixes=('_dev', '_prod'), direction='nearest')\n",
    "    merged = merged.sort_index(axis=1)\n",
    "    merged.to_csv(\"merged\\{}_merged.csv\".format(device), index=False)"
   ],
   "metadata": {
    "collapsed": false,
    "ExecuteTime": {
     "end_time": "2024-03-12T20:09:29.281055200Z",
     "start_time": "2024-03-12T20:09:28.447597300Z"
    }
   },
   "id": "158eb59606f0aa30"
  },
  {
   "cell_type": "code",
   "execution_count": 19,
   "outputs": [],
   "source": [
    "del df, df2, df_donji, merged_donji, merged_gornji, df2_donji, df2_gornji, df_gornji, merged"
   ],
   "metadata": {
    "collapsed": false,
    "ExecuteTime": {
     "end_time": "2024-03-12T20:33:26.184120800Z",
     "start_time": "2024-03-12T20:33:26.184120800Z"
    }
   },
   "id": "bafca8d01ebd41b8"
  },
  {
   "cell_type": "code",
   "execution_count": 9,
   "outputs": [],
   "source": [
    "#za svaki merged file, za svako vrijeme pogledat razlike u istoimenim kolonama\n",
    "#prvo trebam imena kolona, to mogu od gore, columns\n",
    "for device in devices:\n",
    "    #columns=columns.drop(['device'])\n",
    "    df = pd.read_csv(r'merged/{}_merged.csv'.format(device), parse_dates=['time_dev', 'time_prod'], encoding='latin1')\n",
    "    \n",
    "    lst = []\n",
    "    for i, row in df.iterrows():\n",
    "        for column in columns:\n",
    "            new_row = False\n",
    "            value1 = row['{}_dev'.format(column)]\n",
    "            value2 = row['{}_prod'.format(column)]\n",
    "            if(not pd.isna(value1) or not pd.isna(value2)):\n",
    "                #ako je bar jedna od vrijednosti razlicita od null\n",
    "                if pd.isna(value1) or pd.isna(value2):\n",
    "                    #ako je neka od njih nan automatski znaci da druga nije pa se moze odmah upisat\n",
    "                    new_row=True\n",
    "                elif column == 'demand_total_active_power' or column == 'v1' or column == 'maximum_demand_total_active_power' or column == 'u13' or column == 'u12' or column == 'u23':\n",
    "                    #ako value1 nije null i ako je zaokruzena na 6 dec. razlicita od v2\n",
    "                    if round(value1,6)!=value2:\n",
    "                        new_row=True\n",
    "                elif column == 'i1':\n",
    "                    if round(value1,2)!=value2:\n",
    "                        new_row = True\n",
    "                elif column == 'energy':\n",
    "                    if value1!=round(value2):\n",
    "                        new_row =True\n",
    "                elif column == 'total_power_factor':\n",
    "                    if round(value1,2)!=value2:\n",
    "                        new_row = True\n",
    "                else:\n",
    "                    if row['{}_dev'.format(column)]!=row['{}_prod'.format(column)]:\n",
    "                        new_row = True\n",
    "                \n",
    "            if new_row:\n",
    "                #podatak nije isti, upisujem ga u novu tablicu\n",
    "                diff = abs(value1-value2)\n",
    "                lst.append({'time_dev':row['time_dev'], 'time_prod':row['time_prod'], 'value_dev':row['{}_dev'.format(column)], 'value_prod':row['{}_prod'.format(column)], 'diff':diff})\n",
    "                \n",
    "    final = pd.DataFrame(lst, columns=['time_dev', 'time_prod', 'value_dev', 'value_prod', 'diff'])     \n",
    "    final.to_csv('final/{}_diff.csv'.format(device), index=False)"
   ],
   "metadata": {
    "collapsed": false,
    "ExecuteTime": {
     "end_time": "2024-03-13T19:19:45.194361400Z",
     "start_time": "2024-03-13T19:19:43.305666800Z"
    }
   },
   "id": "62077d20ee40c82a"
  },
  {
   "cell_type": "code",
   "execution_count": 12,
   "outputs": [
    {
     "data": {
      "text/plain": "                      time_dev           time_prod     value_dev  \\\n56  2024-02-12 16:02:10.000578 2024-02-12 16:02:11  4.016000e+02   \n90  2024-02-12 16:03:10.000756 2024-02-12 16:03:10  3.462000e+03   \n93  2024-02-12 16:03:10.000756 2024-02-12 16:03:10  3.469000e+03   \n94  2024-02-12 16:03:20.011097 2024-02-12 16:03:21  3.460000e+03   \n100 2024-02-12 16:03:28.001237 2024-02-12 16:03:29  4.602000e+02   \n101 2024-02-12 16:03:30.001355 2024-02-12 16:03:31  3.458000e+03   \n103 2024-02-12 16:03:30.001355 2024-02-12 16:03:31  3.465000e+03   \n104 2024-02-12 16:03:34.000399 2024-02-12 16:03:35  1.063830e+07   \n105 2024-02-12 16:03:34.000399 2024-02-12 16:03:35  3.464000e+03   \n109 2024-02-12 16:03:34.000399 2024-02-12 16:03:35  3.471000e+03   \n110 2024-02-12 16:03:38.001746 2024-02-12 16:03:39  5.178334e+02   \n111 2024-02-12 16:03:40.000624 2024-02-12 16:03:41  3.457000e+03   \n112 2024-02-12 16:03:40.000624 2024-02-12 16:03:41  1.510000e+01   \n117 2024-02-12 16:03:40.000624 2024-02-12 16:03:41  3.464000e+03   \n118 2024-02-12 16:03:44.001116 2024-02-12 16:03:45  1.153000e+01   \n185 2024-02-12 16:05:52.000277 2024-02-12 16:05:53  5.754500e+02   \n192 2024-02-12 16:06:02.000901 2024-02-12 16:06:03  5.177500e+02   \n197 2024-02-12 16:06:12.014651 2024-02-12 16:06:13  4.602000e+02   \n\n       value_prod         diff  \n56   4.027000e+02     1.100006  \n90   3.457000e+03     5.000000  \n93   3.464000e+03     5.000000  \n94   3.458000e+03     2.000000  \n100  5.178334e+02    57.633392  \n101  3.464000e+03     6.000000  \n103  3.471000e+03     6.000000  \n104  1.063833e+07    28.000000  \n105  3.457000e+03     7.000000  \n109  3.464000e+03     7.000000  \n110  5.754500e+02    57.616638  \n111  0.000000e+00  3457.000000  \n112  1.153000e+01     3.570000  \n117  0.000000e+00  3464.000000  \n118  0.000000e+00    11.530000  \n185  5.177500e+02    57.700012  \n192  4.602000e+02    57.550018  \n197  4.027500e+02    57.449982  ",
      "text/html": "<div>\n<style scoped>\n    .dataframe tbody tr th:only-of-type {\n        vertical-align: middle;\n    }\n\n    .dataframe tbody tr th {\n        vertical-align: top;\n    }\n\n    .dataframe thead th {\n        text-align: right;\n    }\n</style>\n<table border=\"1\" class=\"dataframe\">\n  <thead>\n    <tr style=\"text-align: right;\">\n      <th></th>\n      <th>time_dev</th>\n      <th>time_prod</th>\n      <th>value_dev</th>\n      <th>value_prod</th>\n      <th>diff</th>\n    </tr>\n  </thead>\n  <tbody>\n    <tr>\n      <th>56</th>\n      <td>2024-02-12 16:02:10.000578</td>\n      <td>2024-02-12 16:02:11</td>\n      <td>4.016000e+02</td>\n      <td>4.027000e+02</td>\n      <td>1.100006</td>\n    </tr>\n    <tr>\n      <th>90</th>\n      <td>2024-02-12 16:03:10.000756</td>\n      <td>2024-02-12 16:03:10</td>\n      <td>3.462000e+03</td>\n      <td>3.457000e+03</td>\n      <td>5.000000</td>\n    </tr>\n    <tr>\n      <th>93</th>\n      <td>2024-02-12 16:03:10.000756</td>\n      <td>2024-02-12 16:03:10</td>\n      <td>3.469000e+03</td>\n      <td>3.464000e+03</td>\n      <td>5.000000</td>\n    </tr>\n    <tr>\n      <th>94</th>\n      <td>2024-02-12 16:03:20.011097</td>\n      <td>2024-02-12 16:03:21</td>\n      <td>3.460000e+03</td>\n      <td>3.458000e+03</td>\n      <td>2.000000</td>\n    </tr>\n    <tr>\n      <th>100</th>\n      <td>2024-02-12 16:03:28.001237</td>\n      <td>2024-02-12 16:03:29</td>\n      <td>4.602000e+02</td>\n      <td>5.178334e+02</td>\n      <td>57.633392</td>\n    </tr>\n    <tr>\n      <th>101</th>\n      <td>2024-02-12 16:03:30.001355</td>\n      <td>2024-02-12 16:03:31</td>\n      <td>3.458000e+03</td>\n      <td>3.464000e+03</td>\n      <td>6.000000</td>\n    </tr>\n    <tr>\n      <th>103</th>\n      <td>2024-02-12 16:03:30.001355</td>\n      <td>2024-02-12 16:03:31</td>\n      <td>3.465000e+03</td>\n      <td>3.471000e+03</td>\n      <td>6.000000</td>\n    </tr>\n    <tr>\n      <th>104</th>\n      <td>2024-02-12 16:03:34.000399</td>\n      <td>2024-02-12 16:03:35</td>\n      <td>1.063830e+07</td>\n      <td>1.063833e+07</td>\n      <td>28.000000</td>\n    </tr>\n    <tr>\n      <th>105</th>\n      <td>2024-02-12 16:03:34.000399</td>\n      <td>2024-02-12 16:03:35</td>\n      <td>3.464000e+03</td>\n      <td>3.457000e+03</td>\n      <td>7.000000</td>\n    </tr>\n    <tr>\n      <th>109</th>\n      <td>2024-02-12 16:03:34.000399</td>\n      <td>2024-02-12 16:03:35</td>\n      <td>3.471000e+03</td>\n      <td>3.464000e+03</td>\n      <td>7.000000</td>\n    </tr>\n    <tr>\n      <th>110</th>\n      <td>2024-02-12 16:03:38.001746</td>\n      <td>2024-02-12 16:03:39</td>\n      <td>5.178334e+02</td>\n      <td>5.754500e+02</td>\n      <td>57.616638</td>\n    </tr>\n    <tr>\n      <th>111</th>\n      <td>2024-02-12 16:03:40.000624</td>\n      <td>2024-02-12 16:03:41</td>\n      <td>3.457000e+03</td>\n      <td>0.000000e+00</td>\n      <td>3457.000000</td>\n    </tr>\n    <tr>\n      <th>112</th>\n      <td>2024-02-12 16:03:40.000624</td>\n      <td>2024-02-12 16:03:41</td>\n      <td>1.510000e+01</td>\n      <td>1.153000e+01</td>\n      <td>3.570000</td>\n    </tr>\n    <tr>\n      <th>117</th>\n      <td>2024-02-12 16:03:40.000624</td>\n      <td>2024-02-12 16:03:41</td>\n      <td>3.464000e+03</td>\n      <td>0.000000e+00</td>\n      <td>3464.000000</td>\n    </tr>\n    <tr>\n      <th>118</th>\n      <td>2024-02-12 16:03:44.001116</td>\n      <td>2024-02-12 16:03:45</td>\n      <td>1.153000e+01</td>\n      <td>0.000000e+00</td>\n      <td>11.530000</td>\n    </tr>\n    <tr>\n      <th>185</th>\n      <td>2024-02-12 16:05:52.000277</td>\n      <td>2024-02-12 16:05:53</td>\n      <td>5.754500e+02</td>\n      <td>5.177500e+02</td>\n      <td>57.700012</td>\n    </tr>\n    <tr>\n      <th>192</th>\n      <td>2024-02-12 16:06:02.000901</td>\n      <td>2024-02-12 16:06:03</td>\n      <td>5.177500e+02</td>\n      <td>4.602000e+02</td>\n      <td>57.550018</td>\n    </tr>\n    <tr>\n      <th>197</th>\n      <td>2024-02-12 16:06:12.014651</td>\n      <td>2024-02-12 16:06:13</td>\n      <td>4.602000e+02</td>\n      <td>4.027500e+02</td>\n      <td>57.449982</td>\n    </tr>\n  </tbody>\n</table>\n</div>"
     },
     "execution_count": 12,
     "metadata": {},
     "output_type": "execute_result"
    }
   ],
   "source": [
    "df = pd.read_csv(r'final/{}_diff.csv'.format('Aparat za kavu'), parse_dates=['time_dev', 'time_prod'], encoding='latin1')\n"
   ],
   "metadata": {
    "collapsed": false,
    "ExecuteTime": {
     "end_time": "2024-03-13T19:26:39.781815Z",
     "start_time": "2024-03-13T19:26:39.734910800Z"
    }
   },
   "id": "3c132da9d21c58b"
  },
  {
   "cell_type": "code",
   "execution_count": 13,
   "outputs": [
    {
     "data": {
      "text/plain": "                      time_dev           time_prod    value_dev   value_prod  \\\n23  2024-02-12 16:00:40.000592 2024-02-12 16:00:40   400.700012   400.799988   \n51  2024-02-12 16:01:50.002137 2024-02-12 16:01:50   400.700012   400.799988   \n52  2024-02-12 16:01:50.002137 2024-02-12 16:01:50   400.600006   400.700012   \n84  2024-02-12 16:03:00.001462 2024-02-12 16:03:00  3453.000000  3454.000000   \n85  2024-02-12 16:03:00.001462 2024-02-12 16:03:00    15.120000    15.090000   \n86  2024-02-12 16:03:00.001462 2024-02-12 16:03:00   399.600006   399.399994   \n87  2024-02-12 16:03:00.001462 2024-02-12 16:03:00   401.100006   401.200012   \n88  2024-02-12 16:03:00.001462 2024-02-12 16:03:00   398.600006   398.500000   \n89  2024-02-12 16:03:00.001462 2024-02-12 16:03:00  3460.000000  3461.000000   \n90  2024-02-12 16:03:10.000756 2024-02-12 16:03:10  3462.000000  3457.000000   \n91  2024-02-12 16:03:10.000756 2024-02-12 16:03:10   401.799988   401.600006   \n92  2024-02-12 16:03:10.000756 2024-02-12 16:03:10   398.899994   399.000000   \n93  2024-02-12 16:03:10.000756 2024-02-12 16:03:10  3469.000000  3464.000000   \n134 2024-02-12 16:04:00.000475 2024-02-12 16:04:00   400.600006   400.399994   \n135 2024-02-12 16:04:00.000475 2024-02-12 16:04:00   401.299988   400.799988   \n136 2024-02-12 16:04:00.000475 2024-02-12 16:04:00   400.200012   400.000000   \n137 2024-02-12 16:04:10.000240 2024-02-12 16:04:10   400.799988   400.700012   \n168 2024-02-12 16:05:10.000676 2024-02-12 16:05:10   399.500000   399.600006   \n169 2024-02-12 16:05:10.000676 2024-02-12 16:05:10   400.700012   400.799988   \n170 2024-02-12 16:05:10.000676 2024-02-12 16:05:10   400.200012   400.299988   \n209 2024-02-12 16:06:20.014314 2024-02-12 16:06:20   399.500000   399.299988   \n210 2024-02-12 16:06:20.014314 2024-02-12 16:06:20   400.200012   400.000000   \n211 2024-02-12 16:06:20.014314 2024-02-12 16:06:20   400.299988   400.100006   \n212 2024-02-12 16:06:30.002560 2024-02-12 16:06:30   400.399994   400.299988   \n213 2024-02-12 16:06:40.000544 2024-02-12 16:06:40   399.700012   399.600006   \n245 2024-02-12 16:07:40.000222 2024-02-12 16:07:40   401.200012   401.100006   \n246 2024-02-12 16:07:40.000222 2024-02-12 16:07:40   400.299988   400.200012   \n247 2024-02-12 16:07:50.000749 2024-02-12 16:07:50   400.500000   400.700012   \n283 2024-02-12 16:08:50.000263 2024-02-12 16:08:50   401.600006   401.700012   \n284 2024-02-12 16:08:50.000263 2024-02-12 16:08:50   400.399994   400.299988   \n285 2024-02-12 16:09:00.001200 2024-02-12 16:09:00   400.600006   400.399994   \n286 2024-02-12 16:09:00.001200 2024-02-12 16:09:00   401.500000   401.399994   \n287 2024-02-12 16:09:00.001200 2024-02-12 16:09:00   400.200012   400.000000   \n\n         diff  \n23   0.099976  \n51   0.099976  \n52   0.100006  \n84   1.000000  \n85   0.030000  \n86   0.200012  \n87   0.100006  \n88   0.100006  \n89   1.000000  \n90   5.000000  \n91   0.199982  \n92   0.100006  \n93   5.000000  \n134  0.200012  \n135  0.500000  \n136  0.200012  \n137  0.099976  \n168  0.100006  \n169  0.099976  \n170  0.099976  \n209  0.200012  \n210  0.200012  \n211  0.199982  \n212  0.100006  \n213  0.100006  \n245  0.100006  \n246  0.099976  \n247  0.200012  \n283  0.100006  \n284  0.100006  \n285  0.200012  \n286  0.100006  \n287  0.200012  ",
      "text/html": "<div>\n<style scoped>\n    .dataframe tbody tr th:only-of-type {\n        vertical-align: middle;\n    }\n\n    .dataframe tbody tr th {\n        vertical-align: top;\n    }\n\n    .dataframe thead th {\n        text-align: right;\n    }\n</style>\n<table border=\"1\" class=\"dataframe\">\n  <thead>\n    <tr style=\"text-align: right;\">\n      <th></th>\n      <th>time_dev</th>\n      <th>time_prod</th>\n      <th>value_dev</th>\n      <th>value_prod</th>\n      <th>diff</th>\n    </tr>\n  </thead>\n  <tbody>\n    <tr>\n      <th>23</th>\n      <td>2024-02-12 16:00:40.000592</td>\n      <td>2024-02-12 16:00:40</td>\n      <td>400.700012</td>\n      <td>400.799988</td>\n      <td>0.099976</td>\n    </tr>\n    <tr>\n      <th>51</th>\n      <td>2024-02-12 16:01:50.002137</td>\n      <td>2024-02-12 16:01:50</td>\n      <td>400.700012</td>\n      <td>400.799988</td>\n      <td>0.099976</td>\n    </tr>\n    <tr>\n      <th>52</th>\n      <td>2024-02-12 16:01:50.002137</td>\n      <td>2024-02-12 16:01:50</td>\n      <td>400.600006</td>\n      <td>400.700012</td>\n      <td>0.100006</td>\n    </tr>\n    <tr>\n      <th>84</th>\n      <td>2024-02-12 16:03:00.001462</td>\n      <td>2024-02-12 16:03:00</td>\n      <td>3453.000000</td>\n      <td>3454.000000</td>\n      <td>1.000000</td>\n    </tr>\n    <tr>\n      <th>85</th>\n      <td>2024-02-12 16:03:00.001462</td>\n      <td>2024-02-12 16:03:00</td>\n      <td>15.120000</td>\n      <td>15.090000</td>\n      <td>0.030000</td>\n    </tr>\n    <tr>\n      <th>86</th>\n      <td>2024-02-12 16:03:00.001462</td>\n      <td>2024-02-12 16:03:00</td>\n      <td>399.600006</td>\n      <td>399.399994</td>\n      <td>0.200012</td>\n    </tr>\n    <tr>\n      <th>87</th>\n      <td>2024-02-12 16:03:00.001462</td>\n      <td>2024-02-12 16:03:00</td>\n      <td>401.100006</td>\n      <td>401.200012</td>\n      <td>0.100006</td>\n    </tr>\n    <tr>\n      <th>88</th>\n      <td>2024-02-12 16:03:00.001462</td>\n      <td>2024-02-12 16:03:00</td>\n      <td>398.600006</td>\n      <td>398.500000</td>\n      <td>0.100006</td>\n    </tr>\n    <tr>\n      <th>89</th>\n      <td>2024-02-12 16:03:00.001462</td>\n      <td>2024-02-12 16:03:00</td>\n      <td>3460.000000</td>\n      <td>3461.000000</td>\n      <td>1.000000</td>\n    </tr>\n    <tr>\n      <th>90</th>\n      <td>2024-02-12 16:03:10.000756</td>\n      <td>2024-02-12 16:03:10</td>\n      <td>3462.000000</td>\n      <td>3457.000000</td>\n      <td>5.000000</td>\n    </tr>\n    <tr>\n      <th>91</th>\n      <td>2024-02-12 16:03:10.000756</td>\n      <td>2024-02-12 16:03:10</td>\n      <td>401.799988</td>\n      <td>401.600006</td>\n      <td>0.199982</td>\n    </tr>\n    <tr>\n      <th>92</th>\n      <td>2024-02-12 16:03:10.000756</td>\n      <td>2024-02-12 16:03:10</td>\n      <td>398.899994</td>\n      <td>399.000000</td>\n      <td>0.100006</td>\n    </tr>\n    <tr>\n      <th>93</th>\n      <td>2024-02-12 16:03:10.000756</td>\n      <td>2024-02-12 16:03:10</td>\n      <td>3469.000000</td>\n      <td>3464.000000</td>\n      <td>5.000000</td>\n    </tr>\n    <tr>\n      <th>134</th>\n      <td>2024-02-12 16:04:00.000475</td>\n      <td>2024-02-12 16:04:00</td>\n      <td>400.600006</td>\n      <td>400.399994</td>\n      <td>0.200012</td>\n    </tr>\n    <tr>\n      <th>135</th>\n      <td>2024-02-12 16:04:00.000475</td>\n      <td>2024-02-12 16:04:00</td>\n      <td>401.299988</td>\n      <td>400.799988</td>\n      <td>0.500000</td>\n    </tr>\n    <tr>\n      <th>136</th>\n      <td>2024-02-12 16:04:00.000475</td>\n      <td>2024-02-12 16:04:00</td>\n      <td>400.200012</td>\n      <td>400.000000</td>\n      <td>0.200012</td>\n    </tr>\n    <tr>\n      <th>137</th>\n      <td>2024-02-12 16:04:10.000240</td>\n      <td>2024-02-12 16:04:10</td>\n      <td>400.799988</td>\n      <td>400.700012</td>\n      <td>0.099976</td>\n    </tr>\n    <tr>\n      <th>168</th>\n      <td>2024-02-12 16:05:10.000676</td>\n      <td>2024-02-12 16:05:10</td>\n      <td>399.500000</td>\n      <td>399.600006</td>\n      <td>0.100006</td>\n    </tr>\n    <tr>\n      <th>169</th>\n      <td>2024-02-12 16:05:10.000676</td>\n      <td>2024-02-12 16:05:10</td>\n      <td>400.700012</td>\n      <td>400.799988</td>\n      <td>0.099976</td>\n    </tr>\n    <tr>\n      <th>170</th>\n      <td>2024-02-12 16:05:10.000676</td>\n      <td>2024-02-12 16:05:10</td>\n      <td>400.200012</td>\n      <td>400.299988</td>\n      <td>0.099976</td>\n    </tr>\n    <tr>\n      <th>209</th>\n      <td>2024-02-12 16:06:20.014314</td>\n      <td>2024-02-12 16:06:20</td>\n      <td>399.500000</td>\n      <td>399.299988</td>\n      <td>0.200012</td>\n    </tr>\n    <tr>\n      <th>210</th>\n      <td>2024-02-12 16:06:20.014314</td>\n      <td>2024-02-12 16:06:20</td>\n      <td>400.200012</td>\n      <td>400.000000</td>\n      <td>0.200012</td>\n    </tr>\n    <tr>\n      <th>211</th>\n      <td>2024-02-12 16:06:20.014314</td>\n      <td>2024-02-12 16:06:20</td>\n      <td>400.299988</td>\n      <td>400.100006</td>\n      <td>0.199982</td>\n    </tr>\n    <tr>\n      <th>212</th>\n      <td>2024-02-12 16:06:30.002560</td>\n      <td>2024-02-12 16:06:30</td>\n      <td>400.399994</td>\n      <td>400.299988</td>\n      <td>0.100006</td>\n    </tr>\n    <tr>\n      <th>213</th>\n      <td>2024-02-12 16:06:40.000544</td>\n      <td>2024-02-12 16:06:40</td>\n      <td>399.700012</td>\n      <td>399.600006</td>\n      <td>0.100006</td>\n    </tr>\n    <tr>\n      <th>245</th>\n      <td>2024-02-12 16:07:40.000222</td>\n      <td>2024-02-12 16:07:40</td>\n      <td>401.200012</td>\n      <td>401.100006</td>\n      <td>0.100006</td>\n    </tr>\n    <tr>\n      <th>246</th>\n      <td>2024-02-12 16:07:40.000222</td>\n      <td>2024-02-12 16:07:40</td>\n      <td>400.299988</td>\n      <td>400.200012</td>\n      <td>0.099976</td>\n    </tr>\n    <tr>\n      <th>247</th>\n      <td>2024-02-12 16:07:50.000749</td>\n      <td>2024-02-12 16:07:50</td>\n      <td>400.500000</td>\n      <td>400.700012</td>\n      <td>0.200012</td>\n    </tr>\n    <tr>\n      <th>283</th>\n      <td>2024-02-12 16:08:50.000263</td>\n      <td>2024-02-12 16:08:50</td>\n      <td>401.600006</td>\n      <td>401.700012</td>\n      <td>0.100006</td>\n    </tr>\n    <tr>\n      <th>284</th>\n      <td>2024-02-12 16:08:50.000263</td>\n      <td>2024-02-12 16:08:50</td>\n      <td>400.399994</td>\n      <td>400.299988</td>\n      <td>0.100006</td>\n    </tr>\n    <tr>\n      <th>285</th>\n      <td>2024-02-12 16:09:00.001200</td>\n      <td>2024-02-12 16:09:00</td>\n      <td>400.600006</td>\n      <td>400.399994</td>\n      <td>0.200012</td>\n    </tr>\n    <tr>\n      <th>286</th>\n      <td>2024-02-12 16:09:00.001200</td>\n      <td>2024-02-12 16:09:00</td>\n      <td>401.500000</td>\n      <td>401.399994</td>\n      <td>0.100006</td>\n    </tr>\n    <tr>\n      <th>287</th>\n      <td>2024-02-12 16:09:00.001200</td>\n      <td>2024-02-12 16:09:00</td>\n      <td>400.200012</td>\n      <td>400.000000</td>\n      <td>0.200012</td>\n    </tr>\n  </tbody>\n</table>\n</div>"
     },
     "execution_count": 13,
     "metadata": {},
     "output_type": "execute_result"
    }
   ],
   "source": [
    "df[round(df['time_dev'].dt.second) == df['time_prod'].dt.second]"
   ],
   "metadata": {
    "collapsed": false,
    "ExecuteTime": {
     "end_time": "2024-03-13T19:32:35.917000600Z",
     "start_time": "2024-03-13T19:32:35.869771200Z"
    }
   },
   "id": "a9e8279106b282c3"
  },
  {
   "cell_type": "markdown",
   "source": [],
   "metadata": {
    "collapsed": false
   },
   "id": "74dc8d4e5d942bd3"
  },
  {
   "cell_type": "code",
   "execution_count": null,
   "outputs": [],
   "source": [],
   "metadata": {
    "collapsed": false
   },
   "id": "7a724f53fdab091f"
  }
 ],
 "metadata": {
  "kernelspec": {
   "display_name": "Python 3",
   "language": "python",
   "name": "python3"
  },
  "language_info": {
   "codemirror_mode": {
    "name": "ipython",
    "version": 2
   },
   "file_extension": ".py",
   "mimetype": "text/x-python",
   "name": "python",
   "nbconvert_exporter": "python",
   "pygments_lexer": "ipython2",
   "version": "2.7.6"
  }
 },
 "nbformat": 4,
 "nbformat_minor": 5
}
