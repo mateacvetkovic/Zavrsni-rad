{
 "cells": [
  {
   "cell_type": "code",
   "execution_count": 59,
   "id": "initial_id",
   "metadata": {
    "ExecuteTime": {
     "end_time": "2024-01-08T16:13:03.307583700Z",
     "start_time": "2024-01-08T16:13:03.164340900Z"
    }
   },
   "outputs": [],
   "source": [
    "import pandas as pd\n",
    "import matplotlib.pyplot as plt\n",
    "from datetime import datetime, timedelta\n"
   ]
  },
  {
   "cell_type": "code",
   "execution_count": 60,
   "outputs": [],
   "source": [
    "def read_csv(file):\n",
    "    #čitanje csva\n",
    "    df = pd.read_csv(file,usecols=['id','time'], parse_dates=['time'], encoding='latin1')\n",
    "    #print(df)\n",
    "    return df"
   ],
   "metadata": {
    "collapsed": false,
    "ExecuteTime": {
     "end_time": "2024-01-08T16:13:03.631714700Z",
     "start_time": "2024-01-08T16:13:03.191810100Z"
    }
   },
   "id": "5a807be64f69da47"
  },
  {
   "cell_type": "code",
   "execution_count": 61,
   "outputs": [],
   "source": [
    "def get_limits(month, year):\n",
    "    end=pd.to_datetime(\"{}-{}-01 23:59:59\".format(year,month+1))-pd.Timedelta(days=1)\n",
    "    beginning=pd.to_datetime(\"{}-{}-01 00:00:00\".format(year,month))\n",
    "    #print(end,beginning)\n",
    "    return end, beginning"
   ],
   "metadata": {
    "collapsed": false,
    "ExecuteTime": {
     "end_time": "2024-01-08T16:13:03.632747Z",
     "start_time": "2024-01-08T16:13:03.205772Z"
    }
   },
   "id": "f94d9451a9488d22"
  },
  {
   "cell_type": "code",
   "execution_count": 62,
   "outputs": [],
   "source": [
    "def calculate_diff(df, column, beginning, end):\n",
    "    #oduzimanje susjednih redaka\n",
    "    df['diff']=df[column].diff(periods=1)    \n",
    "     #izračun razmaka između poč. mjeseca i prvog mjerenja\n",
    "    df.loc[0,'diff']=df.loc[0, column] - beginning\n",
    "    #izračun razmaka između kraja mjeseca i zadnjeg mjerenja\n",
    "    df.loc[len(df)] = {'diff':end - df.loc[len(df)-1, column], column: end}"
   ],
   "metadata": {
    "collapsed": false,
    "ExecuteTime": {
     "end_time": "2024-01-08T16:13:03.632747Z",
     "start_time": "2024-01-08T16:13:03.217740Z"
    }
   },
   "id": "46687928739ec214"
  },
  {
   "cell_type": "code",
   "execution_count": 73,
   "outputs": [],
   "source": [
    "def filter_rows(step,df):\n",
    "    df['index'] = range(len(df))\n",
    "    df2=df[df['diff'] > step]\n",
    "    #filtiranje samo redaka čiji je diff veci od odabranog step-a (i njihovih prethodnika)\n",
    "    previous_row = df2['index'] - 1\n",
    "    result = pd.concat([df[df['index'].isin(previous_row) ], df2])\n",
    "    result.sort_index(inplace=True, ignore_index=True)\n",
    "    print(result)\n",
    "    return result"
   ],
   "metadata": {
    "collapsed": false,
    "ExecuteTime": {
     "end_time": "2024-01-08T16:17:31.267181300Z",
     "start_time": "2024-01-08T16:17:31.235975400Z"
    }
   },
   "id": "d6978677c33a5df1"
  },
  {
   "cell_type": "code",
   "execution_count": 64,
   "outputs": [],
   "source": [
    "def make_table(result, beginning):\n",
    "    if result.loc[0,'index']==0:\n",
    "        #prvi red ima rupu od poč. mjeseca tj prvi snimljeni trenutak je upao u trenutke s rupom\n",
    "        new_df=pd.DataFrame({'start-time':[beginning], 'end-time':[result.loc[0,'time']], 'duration':[result.loc[0,'diff']]})\n",
    "        new_df=pd.concat([new_df,pd.DataFrame({\n",
    "        'start-time': result['time'].iloc[1::2].reset_index(drop=True),\n",
    "        'end-time': result['time'].iloc[2::2].reset_index(drop=True),\n",
    "        'duration': result['diff'].iloc[2::2].reset_index(drop=True)\n",
    "        })], ignore_index=True)\n",
    "    else:\n",
    "        #nema rupe od poč. mjeseca, uzimam parove redaka\n",
    "        new_df = pd.DataFrame({\n",
    "            'start-time': result['time'].iloc[0::2].reset_index(drop=True),\n",
    "            'end-time': result['time'].iloc[1::2].reset_index(drop=True),\n",
    "            'duration': result['diff'].iloc[1::2].reset_index(drop=True)\n",
    "        })\n",
    "        return new_df"
   ],
   "metadata": {
    "collapsed": false,
    "ExecuteTime": {
     "end_time": "2024-01-08T16:13:03.633744900Z",
     "start_time": "2024-01-08T16:13:03.250651400Z"
    }
   },
   "id": "d5a8827b842fd67c"
  },
  {
   "cell_type": "code",
   "execution_count": 71,
   "id": "2a4abcbdbc3e7956",
   "metadata": {
    "collapsed": false,
    "ExecuteTime": {
     "end_time": "2024-01-08T16:14:39.008488300Z",
     "start_time": "2024-01-08T16:14:38.992906700Z"
    }
   },
   "outputs": [],
   "source": [
    "def obrada(month, year, step):\n",
    "    #step definira koja je granica za rupu\n",
    "    df = read_csv(\"bojler\\{}\\{}_{}.csv\".format(year,month,year))\n",
    "    end, beginning = get_limits(month, year)\n",
    "    #nijedan podatak nije zabiljezen u mjesecu\n",
    "    if df.empty:\n",
    "        df=pd.DataFrame({'start-time':[beginning], 'end-time':[end], 'duration':[end-beginning]})\n",
    "        return df\n",
    "    #izračun rupa između mjerenja\n",
    "    calculate_diff(df,'time', beginning, end)\n",
    "    #print(df)\n",
    "    #filtriranje rupa vecih od stepa\n",
    "    result = filter_rows(step,df)\n",
    "    if(result.empty):\n",
    "        print(\"nema rupa\")\n",
    "        return result\n",
    "    #formiranje tablice u obliku start - end - duration\n",
    "    final_result = make_table(result, beginning)\n",
    "    return final_result"
   ]
  },
  {
   "cell_type": "markdown",
   "source": [
    "end=pd.to_datetime(\"2022-{}-01 23:59:59\".format(month+1))-pd.Timedelta(days=1)\n",
    "beginning=pd.to_datetime(\"2022-{}-01 00:00:00\".format(month))\n",
    "all_timestamps = pd.date_range(start=beginning, end=end, freq='120S')\n"
   ],
   "metadata": {
    "collapsed": false
   },
   "id": "8dd60be3e81e613e"
  },
  {
   "cell_type": "markdown",
   "source": [
    "is_within_interval_list = [\n",
    "    any((timestamp >= row['time1']) and (timestamp <= row['time2']) for i, row in df.iterrows())\n",
    "    for timestamp in all_timestamps\n",
    "]"
   ],
   "metadata": {
    "collapsed": false
   },
   "id": "e1dff86cffedc52d"
  },
  {
   "cell_type": "markdown",
   "source": [
    "plt.plot(all_timestamps, is_within_interval_list)\n",
    "tick_positions = pd.date_range(start=beginning, end=end, freq='1D')\n",
    "plt.xticks(tick_positions, [timestamp.strftime('%Y-%m-%d') for timestamp in tick_positions], rotation=45, ha='right', fontsize=8)\n",
    "plt.xticks(rotation=45, ha='right', fontsize=8)  \n",
    "\n",
    "plt.xlabel('Timestamp', fontsize=10) \n",
    "plt.ylabel('Is within interval (1 or 0)')\n",
    "plt.title('Scatter Plots of Timestamps within Intervals for the Entire Month')\n",
    "\n",
    "fig = plt.gcf()\n",
    "fig.set_size_inches(20, 6)  # Adjust the width and height as needed\n",
    "plt.savefig('responsive_plot.png', dpi=300, bbox_inches='tight')\n",
    "\n",
    "plt.show()"
   ],
   "metadata": {
    "collapsed": false
   },
   "id": "5a90a360d7e8f56e"
  },
  {
   "cell_type": "code",
   "execution_count": 66,
   "outputs": [],
   "source": [
    "def generate_all_timestamps(beginning, end, frequency):\n",
    "    all_timestamps = pd.date_range(start=beginning, end=end, freq=frequency)\n",
    "    return all_timestamps"
   ],
   "metadata": {
    "collapsed": false,
    "ExecuteTime": {
     "end_time": "2024-01-08T16:13:03.634704900Z",
     "start_time": "2024-01-08T16:13:03.281652700Z"
    }
   },
   "id": "ca2544832c0a18ad"
  },
  {
   "cell_type": "code",
   "execution_count": 67,
   "outputs": [],
   "source": [
    "def check_holes(all_timestamps, df):\n",
    "    is_within_interval_list = [\n",
    "        any((timestamp >= row['start-time']) and (timestamp <= row['end-time']) for i, row in df.iterrows())\n",
    "        for timestamp in all_timestamps\n",
    "    ]\n",
    "    return is_within_interval_list\n",
    "    "
   ],
   "metadata": {
    "collapsed": false,
    "ExecuteTime": {
     "end_time": "2024-01-08T16:13:03.634704900Z",
     "start_time": "2024-01-08T16:13:03.298608400Z"
    }
   },
   "id": "9039dd46862afcbf"
  },
  {
   "cell_type": "code",
   "execution_count": 68,
   "outputs": [],
   "source": [
    "def create_graph(all_timestamps, beginning, end, month, interval_list):\n",
    "    fig, ax = plt.subplots() \n",
    "    ax.plot(all_timestamps, interval_list, linewidth=1)\n",
    "    tick_positions = pd.date_range(start=beginning, end=end, freq='1D')\n",
    "    ax.set_xticks(tick_positions)\n",
    "    ax.set_xticklabels([timestamp.strftime('%Y-%m-%d') for timestamp in tick_positions], rotation=45, ha='right', fontsize=8)\n",
    "    \n",
    "    ax.set_xlabel('Timestamp', fontsize=10)\n",
    "    ax.set_ylabel('1 - rupa, 0 - zapis')\n",
    "    ax.set_title(\"Graf rupa u podacima većih od {} za {}. mjesec\".format(step, month))\n",
    "    \n",
    "    fig.set_size_inches(20, 6)  # Adjust the width and height as needed\n",
    "    plt.savefig(\"{}m_graph.png\".format(month), dpi=600, bbox_inches='tight')\n",
    "    return"
   ],
   "metadata": {
    "collapsed": false,
    "ExecuteTime": {
     "end_time": "2024-01-08T16:13:03.635739200Z",
     "start_time": "2024-01-08T16:13:03.318590Z"
    }
   },
   "id": "a1636133e0ad516c"
  },
  {
   "cell_type": "code",
   "execution_count": 69,
   "id": "b13391d5ca26b809",
   "metadata": {
    "collapsed": false,
    "ExecuteTime": {
     "end_time": "2024-01-08T16:13:03.672245600Z",
     "start_time": "2024-01-08T16:13:03.328528900Z"
    }
   },
   "outputs": [],
   "source": [
    "def make_graph(month,year, step):\n",
    "    df=obrada(month,year,step)\n",
    "    print(\"{}. mjesec\".format(month))\n",
    "    end, beginning = get_limits(month, year)\n",
    "    #generiranje svih 'trenutaka' u mjesecu kad bi podaci trebali biti upisani\n",
    "    all_timestamps = generate_all_timestamps(beginning, end, '30S')\n",
    "    #true za trenutke koji su u rupi, false za one koji nisu\n",
    "    \n",
    "    interval_list = check_holes(all_timestamps, df)\n",
    "    percentage = interval_list.count(True)/len(interval_list)*100\n",
    "    print(\"Postotak rupa: {} %\".format(round(percentage,2)))\n",
    "    #stvaranje grafa\n",
    "    create_graph(all_timestamps, beginning, end, month, interval_list)\n",
    "    #plt.show()\n",
    "    return"
   ]
  },
  {
   "cell_type": "code",
   "execution_count": 74,
   "id": "c9baecaf5b434620",
   "metadata": {
    "collapsed": false,
    "ExecuteTime": {
     "end_time": "2024-01-08T16:18:13.898760100Z",
     "start_time": "2024-01-08T16:17:36.205430900Z"
    }
   },
   "outputs": [
    {
     "name": "stdout",
     "output_type": "stream",
     "text": [
      "            id                time            diff    index\n",
      "0  331389865.0 2023-07-13 07:02:24 0 days 00:00:02   510510\n",
      "1  331389890.0 2023-07-14 15:48:08 1 days 08:45:44   510511\n",
      "2  335268265.0 2023-07-18 09:34:11 0 days 00:00:03   665646\n",
      "3  335268290.0 2023-07-18 13:16:31 0 days 03:42:20   665647\n",
      "4  336428290.0 2023-07-19 16:07:15 0 days 00:00:02   712047\n",
      "5  336428315.0 2023-07-20 18:45:39 1 days 02:38:24   712048\n",
      "6  347046140.0 2023-07-30 23:59:59 0 days 00:00:02  1136761\n",
      "7          NaN 2023-07-31 23:59:59 1 days 00:00:00  1136762\n",
      "7. mjesec\n",
      "Postotak rupa: 11.71 %\n"
     ]
    },
    {
     "data": {
      "text/plain": "<Figure size 2000x600 with 1 Axes>",
      "image/png": "[encoded data removed]"
     },
     "metadata": {},
     "output_type": "display_data"
    }
   ],
   "source": [
    "step=pd.to_timedelta('00:00:06')\n",
    "make_graph(7,2023,step)\n",
    "#for i in range(4,12):\n",
    " #  make_graph(i, step)"
   ]
  },
  {
   "cell_type": "code",
   "execution_count": null,
   "outputs": [],
   "source": [],
   "metadata": {
    "collapsed": false
   },
   "id": "d883d5eb264de249"
  },
  {
   "cell_type": "code",
   "execution_count": 86,
   "id": "805c444632f4ee3b",
   "metadata": {
    "ExecuteTime": {
     "end_time": "2023-12-20T18:46:13.958571900Z",
     "start_time": "2023-12-20T18:46:13.946454500Z"
    },
    "collapsed": false
   },
   "outputs": [],
   "source": []
  }
 ],
 "metadata": {
  "kernelspec": {
   "display_name": "Python 3 (ipykernel)",
   "language": "python",
   "name": "python3"
  },
  "language_info": {
   "codemirror_mode": {
    "name": "ipython",
    "version": 3
   },
   "file_extension": ".py",
   "mimetype": "text/x-python",
   "name": "python",
   "nbconvert_exporter": "python",
   "pygments_lexer": "ipython3",
   "version": "3.9.0"
  }
 },
 "nbformat": 4,
 "nbformat_minor": 5
}
