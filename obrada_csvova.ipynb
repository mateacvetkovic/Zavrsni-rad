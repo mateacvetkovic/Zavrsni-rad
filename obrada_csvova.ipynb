{
 "cells": [
  {
   "cell_type": "code",
   "execution_count": 1,
   "id": "initial_id",
   "metadata": {
    "collapsed": true,
    "ExecuteTime": {
     "end_time": "2024-01-08T14:25:38.316464100Z",
     "start_time": "2024-01-08T14:25:31.098032300Z"
    }
   },
   "outputs": [],
   "source": [
    "import pandas as pd"
   ]
  },
  {
   "cell_type": "code",
   "execution_count": 11,
   "outputs": [],
   "source": [
    "def filter_csv(first_month, last_month, year, device):\n",
    "    for i in range(first_month,last_month+1):\n",
    "        result_df = pd.DataFrame()\n",
    "        df = pd.read_csv(r\"projektR_data\\{}-{}.csv\".format(i, year), usecols=['id','time', 'device'], encoding='latin1')\n",
    "        # engine='python'\n",
    "        #usecols=['id','time', 'device']\n",
    "\n",
    "        df=df[df['device'] == device]\n",
    "        #df2=df[['id','time']]\n",
    "        df2 = df.drop('device', axis=1)\n",
    "        df2.to_csv(\"bojler\\{}_{}.csv\".format(year,i,year), index=False)"
   ],
   "metadata": {
    "collapsed": false,
    "ExecuteTime": {
     "end_time": "2024-01-08T15:02:23.819918300Z",
     "start_time": "2024-01-08T15:02:23.788420200Z"
    }
   },
   "id": "de5b0297ef3e64b1"
  },
  {
   "cell_type": "code",
   "execution_count": null,
   "outputs": [],
   "source": [],
   "metadata": {
    "collapsed": false
   },
   "id": "ca96b6cb28813cfd"
  },
  {
   "cell_type": "code",
   "execution_count": 12,
   "outputs": [],
   "source": [
    "filter_csv(11,11,2023,'Elektricni bojler')"
   ],
   "metadata": {
    "collapsed": false,
    "ExecuteTime": {
     "end_time": "2024-01-08T15:03:37.072585800Z",
     "start_time": "2024-01-08T15:02:25.417255900Z"
    }
   },
   "id": "e904432ec753426f"
  },
  {
   "cell_type": "code",
   "execution_count": 10,
   "outputs": [
    {
     "name": "stdout",
     "output_type": "stream",
     "text": [
      "File not found: projektR_data\\12-2023.csv\n"
     ]
    }
   ],
   "source": [
    "def filter_csv(first_month, last_month, year, device):\n",
    "    for i in range(first_month, last_month + 1):\n",
    "        result = pd.DataFrame()\n",
    "        for df in pd.read_csv(r\"projektR_data\\{}-{}.csv\".format(i, year), encoding='latin1', chunksize=10000):\n",
    "            df2 = df[df['device'] == device]\n",
    "            df2 = df2.drop('device', axis=1)\n",
    "            result = pd.concat([result, df2], ignore_index=True)\n",
    "        result.to_csv(\"bojler\\{}\\{}_{}.csv\".format(year, i, year), index=False)\n",
    "\n",
    "filter_csv(first_month=6, last_month=12, year=2023, device='Elektricni bojler')"
   ],
   "metadata": {
    "collapsed": false,
    "ExecuteTime": {
     "end_time": "2024-01-08T15:01:03.083354900Z",
     "start_time": "2024-01-08T14:43:06.523837600Z"
    }
   },
   "id": "9252f636b7d68acb"
  },
  {
   "cell_type": "markdown",
   "source": [],
   "metadata": {
    "collapsed": false
   },
   "id": "336145e600db2c6b"
  },
  {
   "cell_type": "markdown",
   "source": [],
   "metadata": {
    "collapsed": false
   },
   "id": "1ff724d6f8b54761"
  },
  {
   "cell_type": "markdown",
   "source": [],
   "metadata": {
    "collapsed": false
   },
   "id": "3be09bc84136de21"
  }
 ],
 "metadata": {
  "kernelspec": {
   "display_name": "Python 3",
   "language": "python",
   "name": "python3"
  },
  "language_info": {
   "codemirror_mode": {
    "name": "ipython",
    "version": 2
   },
   "file_extension": ".py",
   "mimetype": "text/x-python",
   "name": "python",
   "nbconvert_exporter": "python",
   "pygments_lexer": "ipython2",
   "version": "2.7.6"
  }
 },
 "nbformat": 4,
 "nbformat_minor": 5
}
