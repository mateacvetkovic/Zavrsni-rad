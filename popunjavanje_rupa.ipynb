{
 "cells": [
  {
   "cell_type": "code",
   "execution_count": 1,
   "id": "initial_id",
   "metadata": {
    "collapsed": true,
    "ExecuteTime": {
     "end_time": "2024-01-24T14:33:10.206915300Z",
     "start_time": "2024-01-24T14:33:08.892661900Z"
    }
   },
   "outputs": [],
   "source": [
    "import pandas as pd\n",
    "from my_functions import obrada, get_limits, generate_all_timestamps, make_table, check_holes_better,  filter_rows, create_graph\n",
    "import numpy as np\n",
    "from matplotlib import pyplot as plt"
   ]
  },
  {
   "cell_type": "markdown",
   "source": [
    "funkcija koja stavlja nanove u rupe frekvencije f"
   ],
   "metadata": {
    "collapsed": false
   },
   "id": "6032b6259816c923"
  },
  {
   "cell_type": "code",
   "execution_count": 2,
   "outputs": [],
   "source": [
    "#df.resample('1D').mean()"
   ],
   "metadata": {
    "collapsed": false,
    "ExecuteTime": {
     "end_time": "2024-01-24T11:38:39.963713300Z",
     "start_time": "2024-01-24T11:38:39.947648600Z"
    }
   },
   "id": "a1e9cf7036dfc153"
  },
  {
   "cell_type": "markdown",
   "source": [
    "popunjava rupe s vrijednosti koja je prva prije rupe/prva poslije rupe"
   ],
   "metadata": {
    "collapsed": false
   },
   "id": "23e810574d38d542"
  },
  {
   "cell_type": "code",
   "execution_count": 3,
   "outputs": [],
   "source": [
    "#df.resample('1D').mean().bfill()"
   ],
   "metadata": {
    "collapsed": false,
    "ExecuteTime": {
     "end_time": "2024-01-24T11:38:39.999325600Z",
     "start_time": "2024-01-24T11:38:39.958425Z"
    }
   },
   "id": "72bd89a8d4871334"
  },
  {
   "cell_type": "code",
   "execution_count": 4,
   "outputs": [],
   "source": [
    "#df.resample('1D').mean().ffill()"
   ],
   "metadata": {
    "collapsed": false,
    "ExecuteTime": {
     "end_time": "2024-01-24T11:38:39.999598200Z",
     "start_time": "2024-01-24T11:38:39.978768400Z"
    }
   },
   "id": "5c79b199432dd926"
  },
  {
   "cell_type": "markdown",
   "source": [
    "interpolira rupe vrijednostima tako da se ravnomjerno popuni od podatka prije do prvog poslije"
   ],
   "metadata": {
    "collapsed": false
   },
   "id": "ee4683280dcbe5bd"
  },
  {
   "cell_type": "code",
   "execution_count": 5,
   "outputs": [],
   "source": [
    "#df.resample('1D').mean().interpolate()"
   ],
   "metadata": {
    "collapsed": false,
    "ExecuteTime": {
     "end_time": "2024-01-24T11:38:40.017607300Z",
     "start_time": "2024-01-24T11:38:39.990560900Z"
    }
   },
   "id": "67fa23bfa081a1a2"
  },
  {
   "cell_type": "markdown",
   "source": [
    "zelim naci infromaciju koliko dugo bojler radi u prosjeku\n",
    "prvo moram izdvojit sve intervale kad radi u komadu (da nema rupe izmedu), nac duration izmedu njih i onda izracunat prosjeke\n",
    "prvo nadem sve rupe, onda filtriram sve trenutke u kojima je bojelr upaljen iz originalnog df-a,idem po retcima i dok god donji rub nije gornji rub neke rupe, to je jedan kontinuiran rad bojlera\n"
   ],
   "metadata": {
    "collapsed": false
   },
   "id": "3a036064cc51e949"
  },
  {
   "cell_type": "code",
   "execution_count": 182,
   "outputs": [],
   "source": [
    "df = pd.read_csv(r'bojler/2023/11_2023.csv', usecols=['time','total_active_power'], parse_dates=['time'], encoding='latin1')"
   ],
   "metadata": {
    "collapsed": false,
    "ExecuteTime": {
     "end_time": "2024-01-24T13:52:36.028291Z",
     "start_time": "2024-01-24T13:52:32.732529100Z"
    }
   },
   "id": "9c0eea4c5ba1ba9f"
  },
  {
   "cell_type": "markdown",
   "source": [
    "bolje prvo nac sve kontinuirane intervale rada bojlera, a onda jos ubacit rupe u to\n",
    "treba prvo nekako odredit granice, ostavt samo retke s nulama koji su granice između intervala\n",
    "kod dolje racuna sve kontinuirane intervale rada bojlera"
   ],
   "metadata": {
    "collapsed": false
   },
   "id": "26687dfd988e88"
  },
  {
   "cell_type": "code",
   "execution_count": 183,
   "outputs": [
    {
     "data": {
      "text/plain": "             start-time            end-time        duration\n0   2023-11-01 03:30:55 2023-11-01 03:36:57 0 days 00:06:02\n1   2023-11-01 09:56:42 2023-11-01 10:03:27 0 days 00:06:45\n2   2023-11-01 18:56:05 2023-11-01 19:02:43 0 days 00:06:38\n3   2023-11-02 02:45:09 2023-11-02 02:51:31 0 days 00:06:22\n4   2023-11-02 03:41:44 2023-11-02 03:50:01 0 days 00:08:17\n..                  ...                 ...             ...\n232 2023-11-29 15:37:06 2023-11-29 15:47:10 0 days 00:10:04\n233 2023-11-29 17:51:54 2023-11-29 18:03:21 0 days 00:11:27\n234 2023-11-29 19:14:44 2023-11-29 19:26:21 0 days 00:11:37\n235 2023-11-29 20:08:02 2023-11-29 20:13:50 0 days 00:05:48\n236 2023-11-29 22:25:02 2023-11-29 22:33:40 0 days 00:08:38\n\n[237 rows x 3 columns]",
      "text/html": "<div>\n<style scoped>\n    .dataframe tbody tr th:only-of-type {\n        vertical-align: middle;\n    }\n\n    .dataframe tbody tr th {\n        vertical-align: top;\n    }\n\n    .dataframe thead th {\n        text-align: right;\n    }\n</style>\n<table border=\"1\" class=\"dataframe\">\n  <thead>\n    <tr style=\"text-align: right;\">\n      <th></th>\n      <th>start-time</th>\n      <th>end-time</th>\n      <th>duration</th>\n    </tr>\n  </thead>\n  <tbody>\n    <tr>\n      <th>0</th>\n      <td>2023-11-01 03:30:55</td>\n      <td>2023-11-01 03:36:57</td>\n      <td>0 days 00:06:02</td>\n    </tr>\n    <tr>\n      <th>1</th>\n      <td>2023-11-01 09:56:42</td>\n      <td>2023-11-01 10:03:27</td>\n      <td>0 days 00:06:45</td>\n    </tr>\n    <tr>\n      <th>2</th>\n      <td>2023-11-01 18:56:05</td>\n      <td>2023-11-01 19:02:43</td>\n      <td>0 days 00:06:38</td>\n    </tr>\n    <tr>\n      <th>3</th>\n      <td>2023-11-02 02:45:09</td>\n      <td>2023-11-02 02:51:31</td>\n      <td>0 days 00:06:22</td>\n    </tr>\n    <tr>\n      <th>4</th>\n      <td>2023-11-02 03:41:44</td>\n      <td>2023-11-02 03:50:01</td>\n      <td>0 days 00:08:17</td>\n    </tr>\n    <tr>\n      <th>...</th>\n      <td>...</td>\n      <td>...</td>\n      <td>...</td>\n    </tr>\n    <tr>\n      <th>232</th>\n      <td>2023-11-29 15:37:06</td>\n      <td>2023-11-29 15:47:10</td>\n      <td>0 days 00:10:04</td>\n    </tr>\n    <tr>\n      <th>233</th>\n      <td>2023-11-29 17:51:54</td>\n      <td>2023-11-29 18:03:21</td>\n      <td>0 days 00:11:27</td>\n    </tr>\n    <tr>\n      <th>234</th>\n      <td>2023-11-29 19:14:44</td>\n      <td>2023-11-29 19:26:21</td>\n      <td>0 days 00:11:37</td>\n    </tr>\n    <tr>\n      <th>235</th>\n      <td>2023-11-29 20:08:02</td>\n      <td>2023-11-29 20:13:50</td>\n      <td>0 days 00:05:48</td>\n    </tr>\n    <tr>\n      <th>236</th>\n      <td>2023-11-29 22:25:02</td>\n      <td>2023-11-29 22:33:40</td>\n      <td>0 days 00:08:38</td>\n    </tr>\n  </tbody>\n</table>\n<p>237 rows × 3 columns</p>\n</div>"
     },
     "execution_count": 183,
     "metadata": {},
     "output_type": "execute_result"
    }
   ],
   "source": [
    "df2  = pd.DataFrame(columns=['start-time', 'end-time'])\n",
    "intervals = []\n",
    "start=pd.to_datetime(\"{}-{}-01 00:00:00\".format(2023,11))\n",
    "for index, row in df.iterrows():\n",
    "    if(row['total_active_power']==0):\n",
    "        if((index+1)!=len(df) and df.loc[index+1, 'total_active_power']>0):\n",
    "            start = df.loc[index+1,'time']\n",
    "        #cekamo da nademo prvi trenutak u kojem se bojler upalio\n",
    "    #razmak između ovog i sljedecg retka je manji ili jednak 3s, ovaj redak nije nula\n",
    "    elif((index+1)!=len(df) and df.loc[index+1, 'time']-row['time']<=pd.to_timedelta('00:00:03')):\n",
    "        #sljedeci redak nije nula\n",
    "        if not (df.loc[index+1, 'total_active_power']>0):\n",
    "            #dosli smo do kraja kontinuuma\n",
    "            end=row['time']\n",
    "            intervals.append({'start-time': start, 'end-time': end})\n",
    "    elif((index+1)==len(df)):\n",
    "        #sljedeci redak ne postoji, ovo je zadnji i nije bio nula\n",
    "        end=row['time']\n",
    "        intervals.append({'start-time': start, 'end-time': end})\n",
    "    else:\n",
    "        #imamo vise od 3 s rupe u buducnosti\n",
    "        end=row['time']\n",
    "        intervals.append({'start-time': start, 'end-time': end})\n",
    "\n",
    "df2 = pd.DataFrame(intervals)\n",
    "df2['duration'] = df2['end-time'] - df2['start-time']\n",
    "df2"
   ],
   "metadata": {
    "collapsed": false,
    "ExecuteTime": {
     "end_time": "2024-01-24T13:54:07.185593300Z",
     "start_time": "2024-01-24T13:52:38.317575400Z"
    }
   },
   "id": "a5322fd94b7c0aa8"
  },
  {
   "cell_type": "code",
   "execution_count": 184,
   "outputs": [],
   "source": [
    "mean = df2['duration'].where(df2['duration']>pd.to_timedelta('0')).mean()\n",
    "maximum = df2['duration'].max()"
   ],
   "metadata": {
    "collapsed": false,
    "ExecuteTime": {
     "end_time": "2024-01-24T13:54:10.323470900Z",
     "start_time": "2024-01-24T13:54:10.300393200Z"
    }
   },
   "id": "b63ebe18943e4a5c"
  },
  {
   "cell_type": "markdown",
   "source": [
    "prosjecno trajanje kontinuiranog rada bojlera:"
   ],
   "metadata": {
    "collapsed": false
   },
   "id": "f91f51dedc9be2d4"
  },
  {
   "cell_type": "code",
   "execution_count": 185,
   "outputs": [
    {
     "data": {
      "text/plain": "Timedelta('0 days 00:08:32.434599156')"
     },
     "execution_count": 185,
     "metadata": {},
     "output_type": "execute_result"
    }
   ],
   "source": [
    "mean"
   ],
   "metadata": {
    "collapsed": false,
    "ExecuteTime": {
     "end_time": "2024-01-24T13:54:12.655781300Z",
     "start_time": "2024-01-24T13:54:12.645655400Z"
    }
   },
   "id": "e8fd0579bd0447e0"
  },
  {
   "cell_type": "code",
   "execution_count": 186,
   "outputs": [
    {
     "name": "stdout",
     "output_type": "stream",
     "text": [
      "            start-time            end-time        duration\n",
      "0  2023-11-02 12:26:45 2023-11-02 12:26:49 0 days 00:00:04\n",
      "1  2023-11-09 17:22:56 2023-11-09 17:23:00 0 days 00:00:04\n",
      "2  2023-11-10 17:32:08 2023-11-10 17:32:12 0 days 00:00:04\n",
      "3  2023-11-16 13:21:29 2023-11-16 13:21:33 0 days 00:00:04\n",
      "4  2023-11-16 14:26:44 2023-11-16 14:26:59 0 days 00:00:15\n",
      "5  2023-11-17 11:13:53 2023-11-17 11:14:01 0 days 00:00:08\n",
      "6  2023-11-17 11:14:01 2023-11-17 11:14:09 0 days 00:00:08\n",
      "7  2023-11-17 12:32:30 2023-11-17 12:32:34 0 days 00:00:04\n",
      "8  2023-11-21 10:38:51 2023-11-21 10:38:55 0 days 00:00:04\n",
      "9  2023-11-23 09:01:30 2023-11-26 02:05:30 2 days 17:04:00\n",
      "10 2023-11-29 23:59:59 2023-11-30 23:59:59 1 days 00:00:00\n"
     ]
    },
    {
     "data": {
      "text/plain": "            start-time            end-time        duration\n9  2023-11-23 09:01:30 2023-11-26 02:05:30 2 days 17:04:00\n10 2023-11-29 23:59:59 2023-11-30 23:59:59 1 days 00:00:00",
      "text/html": "<div>\n<style scoped>\n    .dataframe tbody tr th:only-of-type {\n        vertical-align: middle;\n    }\n\n    .dataframe tbody tr th {\n        vertical-align: top;\n    }\n\n    .dataframe thead th {\n        text-align: right;\n    }\n</style>\n<table border=\"1\" class=\"dataframe\">\n  <thead>\n    <tr style=\"text-align: right;\">\n      <th></th>\n      <th>start-time</th>\n      <th>end-time</th>\n      <th>duration</th>\n    </tr>\n  </thead>\n  <tbody>\n    <tr>\n      <th>9</th>\n      <td>2023-11-23 09:01:30</td>\n      <td>2023-11-26 02:05:30</td>\n      <td>2 days 17:04:00</td>\n    </tr>\n    <tr>\n      <th>10</th>\n      <td>2023-11-29 23:59:59</td>\n      <td>2023-11-30 23:59:59</td>\n      <td>1 days 00:00:00</td>\n    </tr>\n  </tbody>\n</table>\n</div>"
     },
     "execution_count": 186,
     "metadata": {},
     "output_type": "execute_result"
    }
   ],
   "source": [
    "gaps = obrada(11,2023,pd.to_timedelta('00:00:03'))\n",
    "gaps[gaps['duration']>pd.to_timedelta('00:30:00')]"
   ],
   "metadata": {
    "collapsed": false,
    "ExecuteTime": {
     "end_time": "2024-01-24T13:54:23.699625500Z",
     "start_time": "2024-01-24T13:54:19.215555500Z"
    }
   },
   "id": "9b225fc03932f229"
  },
  {
   "cell_type": "code",
   "execution_count": 137,
   "outputs": [
    {
     "data": {
      "text/plain": "            start-time            end-time        duration\n77 2023-04-12 12:44:17 2023-04-12 12:45:10 0 days 00:00:53\n78 2023-04-12 14:01:46 2023-04-12 14:08:22 0 days 00:06:36\n79 2023-04-12 14:10:26 2023-04-12 14:10:54 0 days 00:00:28\n80 2023-04-16 15:09:44 2023-04-16 15:27:35 0 days 00:17:51\n81 2023-04-17 00:22:01 2023-04-17 10:12:48 0 days 09:50:47\n82 2023-04-30 00:00:00 2023-04-30 23:59:59 0 days 23:59:59",
      "text/html": "<div>\n<style scoped>\n    .dataframe tbody tr th:only-of-type {\n        vertical-align: middle;\n    }\n\n    .dataframe tbody tr th {\n        vertical-align: top;\n    }\n\n    .dataframe thead th {\n        text-align: right;\n    }\n</style>\n<table border=\"1\" class=\"dataframe\">\n  <thead>\n    <tr style=\"text-align: right;\">\n      <th></th>\n      <th>start-time</th>\n      <th>end-time</th>\n      <th>duration</th>\n    </tr>\n  </thead>\n  <tbody>\n    <tr>\n      <th>77</th>\n      <td>2023-04-12 12:44:17</td>\n      <td>2023-04-12 12:45:10</td>\n      <td>0 days 00:00:53</td>\n    </tr>\n    <tr>\n      <th>78</th>\n      <td>2023-04-12 14:01:46</td>\n      <td>2023-04-12 14:08:22</td>\n      <td>0 days 00:06:36</td>\n    </tr>\n    <tr>\n      <th>79</th>\n      <td>2023-04-12 14:10:26</td>\n      <td>2023-04-12 14:10:54</td>\n      <td>0 days 00:00:28</td>\n    </tr>\n    <tr>\n      <th>80</th>\n      <td>2023-04-16 15:09:44</td>\n      <td>2023-04-16 15:27:35</td>\n      <td>0 days 00:17:51</td>\n    </tr>\n    <tr>\n      <th>81</th>\n      <td>2023-04-17 00:22:01</td>\n      <td>2023-04-17 10:12:48</td>\n      <td>0 days 09:50:47</td>\n    </tr>\n    <tr>\n      <th>82</th>\n      <td>2023-04-30 00:00:00</td>\n      <td>2023-04-30 23:59:59</td>\n      <td>0 days 23:59:59</td>\n    </tr>\n  </tbody>\n</table>\n</div>"
     },
     "execution_count": 137,
     "metadata": {},
     "output_type": "execute_result"
    }
   ],
   "source": [
    "gaps[gaps['start-time']>pd.to_datetime('2023-04-12')]"
   ],
   "metadata": {
    "collapsed": false,
    "ExecuteTime": {
     "end_time": "2024-01-24T13:24:39.773727500Z",
     "start_time": "2024-01-24T13:24:39.711198300Z"
    }
   },
   "id": "1ab15f95619f45d0"
  },
  {
   "cell_type": "code",
   "execution_count": 43,
   "outputs": [
    {
     "data": {
      "text/plain": "Empty DataFrame\nColumns: [time, total_active_power]\nIndex: []",
      "text/html": "<div>\n<style scoped>\n    .dataframe tbody tr th:only-of-type {\n        vertical-align: middle;\n    }\n\n    .dataframe tbody tr th {\n        vertical-align: top;\n    }\n\n    .dataframe thead th {\n        text-align: right;\n    }\n</style>\n<table border=\"1\" class=\"dataframe\">\n  <thead>\n    <tr style=\"text-align: right;\">\n      <th></th>\n      <th>time</th>\n      <th>total_active_power</th>\n    </tr>\n  </thead>\n  <tbody>\n  </tbody>\n</table>\n</div>"
     },
     "execution_count": 43,
     "metadata": {},
     "output_type": "execute_result"
    }
   ],
   "source": [
    "df[df['time'] == pd.to_datetime('2023-10-7 00:22:01')]"
   ],
   "metadata": {
    "collapsed": false,
    "ExecuteTime": {
     "end_time": "2024-01-23T22:19:37.919548900Z",
     "start_time": "2024-01-23T22:19:37.810199400Z"
    }
   },
   "id": "82236b18dd9384e4"
  },
  {
   "cell_type": "markdown",
   "source": [
    "treba dodati retke s razmakom 3 s unutar svih rupa, i oznaciti koja je bila vrsta rupe da se kasnije moze lakse odrediti kako koju puniti"
   ],
   "metadata": {
    "collapsed": false
   },
   "id": "86b993c3cc3cbde8"
  },
  {
   "cell_type": "code",
   "execution_count": 187,
   "outputs": [
    {
     "name": "stdout",
     "output_type": "stream",
     "text": [
      "2023-11-02 12:26:45 2023-11-02 12:26:49\n",
      "2023-11-09 17:22:56 2023-11-09 17:23:00\n",
      "2023-11-10 17:32:08 2023-11-10 17:32:12\n",
      "2023-11-16 13:21:29 2023-11-16 13:21:33\n",
      "2023-11-16 14:26:44 2023-11-16 14:26:59\n",
      "2023-11-17 11:13:53 2023-11-17 11:14:01\n",
      "2023-11-17 11:14:01 2023-11-17 11:14:09\n",
      "2023-11-17 12:32:30 2023-11-17 12:32:34\n",
      "2023-11-21 10:38:51 2023-11-21 10:38:55\n",
      "2023-11-23 09:01:30 2023-11-26 02:05:30\n",
      "2023-11-29 23:59:59 2023-11-30 23:59:59\n"
     ]
    },
    {
     "data": {
      "text/plain": "                      time  gap_type\n0      2023-11-02 12:26:47         1\n1      2023-11-09 17:22:58         1\n2      2023-11-10 17:32:10         1\n3      2023-11-16 13:21:31         1\n4      2023-11-16 14:26:47         1\n...                    ...       ...\n106887 2023-11-30 23:59:44         3\n106888 2023-11-30 23:59:47         3\n106889 2023-11-30 23:59:50         3\n106890 2023-11-30 23:59:53         3\n106891 2023-11-30 23:59:56         3\n\n[106892 rows x 2 columns]",
      "text/html": "<div>\n<style scoped>\n    .dataframe tbody tr th:only-of-type {\n        vertical-align: middle;\n    }\n\n    .dataframe tbody tr th {\n        vertical-align: top;\n    }\n\n    .dataframe thead th {\n        text-align: right;\n    }\n</style>\n<table border=\"1\" class=\"dataframe\">\n  <thead>\n    <tr style=\"text-align: right;\">\n      <th></th>\n      <th>time</th>\n      <th>gap_type</th>\n    </tr>\n  </thead>\n  <tbody>\n    <tr>\n      <th>0</th>\n      <td>2023-11-02 12:26:47</td>\n      <td>1</td>\n    </tr>\n    <tr>\n      <th>1</th>\n      <td>2023-11-09 17:22:58</td>\n      <td>1</td>\n    </tr>\n    <tr>\n      <th>2</th>\n      <td>2023-11-10 17:32:10</td>\n      <td>1</td>\n    </tr>\n    <tr>\n      <th>3</th>\n      <td>2023-11-16 13:21:31</td>\n      <td>1</td>\n    </tr>\n    <tr>\n      <th>4</th>\n      <td>2023-11-16 14:26:47</td>\n      <td>1</td>\n    </tr>\n    <tr>\n      <th>...</th>\n      <td>...</td>\n      <td>...</td>\n    </tr>\n    <tr>\n      <th>106887</th>\n      <td>2023-11-30 23:59:44</td>\n      <td>3</td>\n    </tr>\n    <tr>\n      <th>106888</th>\n      <td>2023-11-30 23:59:47</td>\n      <td>3</td>\n    </tr>\n    <tr>\n      <th>106889</th>\n      <td>2023-11-30 23:59:50</td>\n      <td>3</td>\n    </tr>\n    <tr>\n      <th>106890</th>\n      <td>2023-11-30 23:59:53</td>\n      <td>3</td>\n    </tr>\n    <tr>\n      <th>106891</th>\n      <td>2023-11-30 23:59:56</td>\n      <td>3</td>\n    </tr>\n  </tbody>\n</table>\n<p>106892 rows × 2 columns</p>\n</div>"
     },
     "execution_count": 187,
     "metadata": {},
     "output_type": "execute_result"
    }
   ],
   "source": [
    "df_filled=pd.DataFrame(columns=df.columns)\n",
    "df_filled['gap_type'] = 0\n",
    "filled_data = []\n",
    "for index, row in gaps.iterrows():\n",
    "    start = row['start-time']\n",
    "    end = row['end-time']\n",
    "    print(start,end)\n",
    "    all_timestamps = pd.date_range(start=start, end=end - pd.to_timedelta('00:00:03'), freq=pd.to_timedelta('00:00:03'), inclusive='neither')\n",
    "    if end - start == pd.to_timedelta('00:00:04'):\n",
    "        all_timestamps=all_timestamps.append(pd.Index([start + pd.to_timedelta('00:00:02')]))\n",
    "    elif end - start == pd.to_timedelta('00:00:05') or end - start == pd.to_timedelta('00:00:06'):\n",
    "        all_timestamps=all_timestamps.append(pd.Index([start + pd.to_timedelta('00:00:03')]))\n",
    "    elif(end - all_timestamps[-1] == pd.to_timedelta('00:00:04')):\n",
    "        #ostala je jos rupa od 4s, radije bismo da su dvije nego 1 na kraju\n",
    "        all_timestamps=all_timestamps.append(pd.Index([all_timestamps[-1] + pd.to_timedelta('00:00:02')]))\n",
    "    else:\n",
    "        all_timestamps=all_timestamps.append(pd.Index([all_timestamps[-1] + pd.to_timedelta('00:00:03')]))\n",
    "\n",
    "    gap_type = 1 if row['duration'] < pd.to_timedelta('00:10:00') else 2 if row['duration']<pd.to_timedelta('01:00:00') else 3\n",
    "    filled_data.append(pd.DataFrame({'time': all_timestamps, 'gap_type': gap_type}))\n",
    "df_filled = pd.concat(filled_data, ignore_index=True)\n",
    "df_filled.sort_values(by='time')\n",
    "\n",
    "df_filled"
   ],
   "metadata": {
    "collapsed": false,
    "ExecuteTime": {
     "end_time": "2024-01-24T13:55:20.717585300Z",
     "start_time": "2024-01-24T13:55:20.623295400Z"
    }
   },
   "id": "44a548a715ddc1af"
  },
  {
   "cell_type": "code",
   "execution_count": 188,
   "outputs": [],
   "source": [
    "filled_df = pd.concat([df, df_filled], ignore_index=True, sort=False)\n",
    "filled_df = filled_df.sort_values(by='time').reset_index(drop=True)"
   ],
   "metadata": {
    "collapsed": false,
    "ExecuteTime": {
     "end_time": "2024-01-24T13:55:30.493994200Z",
     "start_time": "2024-01-24T13:55:30.352124500Z"
    }
   },
   "id": "d854b5840463dd16"
  },
  {
   "cell_type": "markdown",
   "source": [],
   "metadata": {
    "collapsed": false
   },
   "id": "c8acbe4ddae0fabc"
  },
  {
   "cell_type": "code",
   "execution_count": 72,
   "outputs": [
    {
     "data": {
      "text/plain": "<Figure size 1000x600 with 1 Axes>",
      "image/png": "[encoded data removed]"
     },
     "metadata": {},
     "output_type": "display_data"
    }
   ],
   "source": [
    "def power_graph(df):\n",
    "    plt.figure(figsize=(10, 6))\n",
    "    nan_mask = df['total_active_power'].isna() & (df['time'] >= pd.to_datetime('2023-10-07 12:00:00')) & (df['time'] <= pd.to_datetime('2023-10-07 16:00:00'))\n",
    "    plt.scatter(df.loc[nan_mask, 'time'], [1]*len(df.loc[nan_mask, 'time']), marker='o', label='NaN Values', color='red')\n",
    "    maks= df['total_active_power'].notna() & (df['time'] >= pd.to_datetime('2023-10-07 12:00:00')) & (df['time'] <= pd.to_datetime('2023-10-07 16:00:00'))\n",
    "    plt.scatter(df.loc[maks, 'time'], df.loc[maks,'total_active_power'], marker='o', label='NaN Values', color='blue')\n",
    "\n",
    "    plt.title('Nan values')\n",
    "    plt.xlabel('Time')\n",
    "    plt.xticks(rotation=45)\n",
    "    plt.grid(True)\n",
    "    plt.legend()\n",
    "    plt.show()\n",
    "\n",
    "power_graph(filled_df)"
   ],
   "metadata": {
    "collapsed": false,
    "ExecuteTime": {
     "end_time": "2024-01-24T12:40:32.415250Z",
     "start_time": "2024-01-24T12:40:32.012394400Z"
    }
   },
   "id": "3ea04dde2330aaa"
  },
  {
   "cell_type": "code",
   "execution_count": 24,
   "outputs": [
    {
     "data": {
      "text/plain": "                      time  total_active_power\n0      2022-04-07 14:13:36                 0.0\n1      2022-04-07 14:13:41                 0.0\n2      2022-04-07 14:13:46                 0.0\n3      2022-04-07 14:13:51                 0.0\n4      2022-04-07 14:13:56                 0.0\n...                    ...                 ...\n723085 2022-04-29 23:59:51                 0.0\n723086 2022-04-29 23:59:53                 0.0\n723087 2022-04-29 23:59:55                 0.0\n723088 2022-04-29 23:59:57                 0.0\n723089 2022-04-29 23:59:59                 0.0\n\n[723090 rows x 2 columns]",
      "text/html": "<div>\n<style scoped>\n    .dataframe tbody tr th:only-of-type {\n        vertical-align: middle;\n    }\n\n    .dataframe tbody tr th {\n        vertical-align: top;\n    }\n\n    .dataframe thead th {\n        text-align: right;\n    }\n</style>\n<table border=\"1\" class=\"dataframe\">\n  <thead>\n    <tr style=\"text-align: right;\">\n      <th></th>\n      <th>time</th>\n      <th>total_active_power</th>\n    </tr>\n  </thead>\n  <tbody>\n    <tr>\n      <th>0</th>\n      <td>2022-04-07 14:13:36</td>\n      <td>0.0</td>\n    </tr>\n    <tr>\n      <th>1</th>\n      <td>2022-04-07 14:13:41</td>\n      <td>0.0</td>\n    </tr>\n    <tr>\n      <th>2</th>\n      <td>2022-04-07 14:13:46</td>\n      <td>0.0</td>\n    </tr>\n    <tr>\n      <th>3</th>\n      <td>2022-04-07 14:13:51</td>\n      <td>0.0</td>\n    </tr>\n    <tr>\n      <th>4</th>\n      <td>2022-04-07 14:13:56</td>\n      <td>0.0</td>\n    </tr>\n    <tr>\n      <th>...</th>\n      <td>...</td>\n      <td>...</td>\n    </tr>\n    <tr>\n      <th>723085</th>\n      <td>2022-04-29 23:59:51</td>\n      <td>0.0</td>\n    </tr>\n    <tr>\n      <th>723086</th>\n      <td>2022-04-29 23:59:53</td>\n      <td>0.0</td>\n    </tr>\n    <tr>\n      <th>723087</th>\n      <td>2022-04-29 23:59:55</td>\n      <td>0.0</td>\n    </tr>\n    <tr>\n      <th>723088</th>\n      <td>2022-04-29 23:59:57</td>\n      <td>0.0</td>\n    </tr>\n    <tr>\n      <th>723089</th>\n      <td>2022-04-29 23:59:59</td>\n      <td>0.0</td>\n    </tr>\n  </tbody>\n</table>\n<p>723090 rows × 2 columns</p>\n</div>"
     },
     "execution_count": 24,
     "metadata": {},
     "output_type": "execute_result"
    }
   ],
   "source": [
    "m=(df['time'] >= pd.to_datetime('2023-10-07 00:00:00')) \n",
    "df.loc[m]"
   ],
   "metadata": {
    "collapsed": false,
    "ExecuteTime": {
     "end_time": "2024-01-24T12:02:42.618056600Z",
     "start_time": "2024-01-24T12:02:42.336476700Z"
    }
   },
   "id": "a24e11b780335135"
  },
  {
   "cell_type": "markdown",
   "source": [
    "sad imam retke s nanovima i tipom rupe koji mi kaze kako da ju popunim"
   ],
   "metadata": {
    "collapsed": false
   },
   "id": "edb206be96cdc816"
  },
  {
   "cell_type": "code",
   "execution_count": 189,
   "outputs": [],
   "source": [
    "def fill_smallest_gaps(row):\n",
    "    row_index = row.name\n",
    "    #ako su okolne dvije nule, ili dvije vrijednosti>0, punim njihovim meanom\n",
    "    top_index = filled_df.loc[:row_index, 'total_active_power'].dropna().index.max()\n",
    "    bottom_index = filled_df.loc[row_index:, 'total_active_power'].dropna().index.min()\n",
    "    if pd.isna(top_index):\n",
    "        #ne postoji podatak prije\n",
    "        bottom_value = filled_df.loc[bottom_index,'total_active_power']\n",
    "        return bottom_value\n",
    "    elif pd.isna(bottom_index):\n",
    "        #ne postoji zadnji\n",
    "        top_value = filled_df.loc[top_index,'total_active_power']\n",
    "        return top_value\n",
    "    top_value = filled_df.loc[top_index,'total_active_power']\n",
    "    bottom_value = filled_df.loc[bottom_index,'total_active_power']\n",
    "    if((top_value==0 and bottom_value==0) or (top_value>0 and bottom_value>0)):\n",
    "       return (top_value+bottom_value)/2\n",
    "    #okolne vrijednosti su razlicite, pogledam je li blize donja ili gornja i prema tome popunim\n",
    "    elif((row_index-top_index)<(bottom_index-row_index)):\n",
    "        #print(row_index, top_index, bottom_index, top_value, bottom_value)\n",
    "        return top_value\n",
    "    else:\n",
    "        return bottom_value"
   ],
   "metadata": {
    "collapsed": false,
    "ExecuteTime": {
     "end_time": "2024-01-24T13:55:38.127024200Z",
     "start_time": "2024-01-24T13:55:38.095394100Z"
    }
   },
   "id": "f36dd4c02962f47b"
  },
  {
   "cell_type": "markdown",
   "source": [],
   "metadata": {
    "collapsed": false
   },
   "id": "280ddd892e27e696"
  },
  {
   "cell_type": "code",
   "execution_count": 190,
   "outputs": [],
   "source": [
    "filled_df.loc[filled_df['gap_type'] == 1, 'filled_power'] = filled_df[filled_df['gap_type'] == 1].apply(fill_smallest_gaps, axis=1)\n"
   ],
   "metadata": {
    "collapsed": false,
    "ExecuteTime": {
     "end_time": "2024-01-24T13:55:40.832214300Z",
     "start_time": "2024-01-24T13:55:40.506844Z"
    }
   },
   "id": "3b7523bb40ff5e77"
  },
  {
   "cell_type": "code",
   "execution_count": 191,
   "outputs": [
    {
     "data": {
      "text/plain": "                      time  total_active_power  gap_type  filled_power\n62961  2023-11-02 12:26:47                 NaN       1.0           0.0\n361928 2023-11-09 17:22:58                 NaN       1.0           0.0\n403695 2023-11-10 17:32:10                 NaN       1.0           0.0\n645294 2023-11-16 13:21:31                 NaN       1.0        1432.0\n647177 2023-11-16 14:26:47                 NaN       1.0           0.0\n647178 2023-11-16 14:26:50                 NaN       1.0           0.0\n647179 2023-11-16 14:26:53                 NaN       1.0           0.0\n647180 2023-11-16 14:26:56                 NaN       1.0           0.0\n683098 2023-11-17 11:13:56                 NaN       1.0           0.0\n683099 2023-11-17 11:13:59                 NaN       1.0           0.0\n683101 2023-11-17 11:14:04                 NaN       1.0           0.0\n683102 2023-11-17 11:14:07                 NaN       1.0           0.0\n685365 2023-11-17 12:32:32                 NaN       1.0           0.0\n847963 2023-11-21 10:38:53                 NaN       1.0           0.0",
      "text/html": "<div>\n<style scoped>\n    .dataframe tbody tr th:only-of-type {\n        vertical-align: middle;\n    }\n\n    .dataframe tbody tr th {\n        vertical-align: top;\n    }\n\n    .dataframe thead th {\n        text-align: right;\n    }\n</style>\n<table border=\"1\" class=\"dataframe\">\n  <thead>\n    <tr style=\"text-align: right;\">\n      <th></th>\n      <th>time</th>\n      <th>total_active_power</th>\n      <th>gap_type</th>\n      <th>filled_power</th>\n    </tr>\n  </thead>\n  <tbody>\n    <tr>\n      <th>62961</th>\n      <td>2023-11-02 12:26:47</td>\n      <td>NaN</td>\n      <td>1.0</td>\n      <td>0.0</td>\n    </tr>\n    <tr>\n      <th>361928</th>\n      <td>2023-11-09 17:22:58</td>\n      <td>NaN</td>\n      <td>1.0</td>\n      <td>0.0</td>\n    </tr>\n    <tr>\n      <th>403695</th>\n      <td>2023-11-10 17:32:10</td>\n      <td>NaN</td>\n      <td>1.0</td>\n      <td>0.0</td>\n    </tr>\n    <tr>\n      <th>645294</th>\n      <td>2023-11-16 13:21:31</td>\n      <td>NaN</td>\n      <td>1.0</td>\n      <td>1432.0</td>\n    </tr>\n    <tr>\n      <th>647177</th>\n      <td>2023-11-16 14:26:47</td>\n      <td>NaN</td>\n      <td>1.0</td>\n      <td>0.0</td>\n    </tr>\n    <tr>\n      <th>647178</th>\n      <td>2023-11-16 14:26:50</td>\n      <td>NaN</td>\n      <td>1.0</td>\n      <td>0.0</td>\n    </tr>\n    <tr>\n      <th>647179</th>\n      <td>2023-11-16 14:26:53</td>\n      <td>NaN</td>\n      <td>1.0</td>\n      <td>0.0</td>\n    </tr>\n    <tr>\n      <th>647180</th>\n      <td>2023-11-16 14:26:56</td>\n      <td>NaN</td>\n      <td>1.0</td>\n      <td>0.0</td>\n    </tr>\n    <tr>\n      <th>683098</th>\n      <td>2023-11-17 11:13:56</td>\n      <td>NaN</td>\n      <td>1.0</td>\n      <td>0.0</td>\n    </tr>\n    <tr>\n      <th>683099</th>\n      <td>2023-11-17 11:13:59</td>\n      <td>NaN</td>\n      <td>1.0</td>\n      <td>0.0</td>\n    </tr>\n    <tr>\n      <th>683101</th>\n      <td>2023-11-17 11:14:04</td>\n      <td>NaN</td>\n      <td>1.0</td>\n      <td>0.0</td>\n    </tr>\n    <tr>\n      <th>683102</th>\n      <td>2023-11-17 11:14:07</td>\n      <td>NaN</td>\n      <td>1.0</td>\n      <td>0.0</td>\n    </tr>\n    <tr>\n      <th>685365</th>\n      <td>2023-11-17 12:32:32</td>\n      <td>NaN</td>\n      <td>1.0</td>\n      <td>0.0</td>\n    </tr>\n    <tr>\n      <th>847963</th>\n      <td>2023-11-21 10:38:53</td>\n      <td>NaN</td>\n      <td>1.0</td>\n      <td>0.0</td>\n    </tr>\n  </tbody>\n</table>\n</div>"
     },
     "execution_count": 191,
     "metadata": {},
     "output_type": "execute_result"
    }
   ],
   "source": [
    "filled_df[filled_df['gap_type']==1]"
   ],
   "metadata": {
    "collapsed": false,
    "ExecuteTime": {
     "end_time": "2024-01-24T13:55:42.830319900Z",
     "start_time": "2024-01-24T13:55:42.767206800Z"
    }
   },
   "id": "400497effae0c86f"
  },
  {
   "cell_type": "markdown",
   "source": [
    "za rupe tipa 2, pogledati koje su okolne vrijednosti, ako su obje nula punim nulama\n",
    "ako su razlicite, gledam kad je krenula ne nula, nadopunjavam ju do prosjecnog vremena rada bojlera, ostatak nulama\n",
    "ako su iste, gledam kad krecu i zavrsavaju, vidim je li interval dulji od maksimalnog, ako je nadopunjavam obje strane do prosjeka ostatak nulama, ako nije samo sve popunim?"
   ],
   "metadata": {
    "collapsed": false
   },
   "id": "354fadf23e0b9737"
  },
  {
   "cell_type": "code",
   "execution_count": 192,
   "outputs": [],
   "source": [
    "def fill_medium_gaps(row):\n",
    "    row_index = row.name\n",
    "    top_index = filled_df.loc[:row_index, 'total_active_power'].dropna().index.max()\n",
    "    bottom_index = filled_df.loc[row_index:, 'total_active_power'].dropna().index.min()\n",
    "    \n",
    "    #print(row_index, top_index, bottom_index, top_value, bottom_value)\n",
    "    if(pd.isna(top_index)):\n",
    "        #ne postoji 'prednji' podatak\n",
    "        bottom_value = filled_df.loc[bottom_index,'total_active_power']\n",
    "        if(bottom_value==0):\n",
    "            return 0\n",
    "        else:\n",
    "            bottom_zero_index = filled_df.loc[row_index:, 'total_active_power'][filled_df.loc[row_index:, 'total_active_power'] == 0].index.min()\n",
    "            #kraj rada bojlera\n",
    "            bottom_end = bottom_zero_index-1\n",
    "            end_time = filled_df.loc[bottom_end,'time']\n",
    "            if(end_time-row['time']>mean):\n",
    "                return 0\n",
    "            else:\n",
    "                return bottom_value\n",
    "        #od gore se puni nulama, od dolje vrijednosti bottom value sve dok je row['time']\n",
    "    elif(pd.isna(bottom_index)):\n",
    "        #ne postoji donji podatak \n",
    "        top_value = filled_df.loc[top_index,'total_active_power']\n",
    "        if(top_value==0):\n",
    "            return 0\n",
    "        else:\n",
    "            top_zero_index = filled_df.loc[:row_index, 'total_active_power'][filled_df.loc[:row_index, 'total_active_power'] == 0].index.max()\n",
    "            #kraj rada bojlera\n",
    "            top_start = top_zero_index+1\n",
    "            start_time = filled_df.loc[top_start,'time']\n",
    "            if(row['time'] - start_time > mean):\n",
    "                return 0\n",
    "            else:\n",
    "                return top_value\n",
    "    top_value = filled_df.loc[top_index,'total_active_power']\n",
    "    bottom_value = filled_df.loc[bottom_index,'total_active_power']\n",
    "    if(top_value==0 and bottom_value==0):\n",
    "        #ako su okolne dvije nule, punim nulama\n",
    "       return 0\n",
    "    #okolne vrijednosti nisu nule, pogledam je li blize donja ili gornja i prema tome popunim\n",
    "    elif(top_value==0 and bottom_value>0):\n",
    "        #trebam vrijednost prije prve nule ispod, da znam do kad bojler radi\n",
    "        #ovo je prva nula ispod\n",
    "        #bottom_zero_index = filled_df[filled_df.loc[row_index:, 'total_active_power']==0].index.min()\n",
    "        bottom_zero_index = filled_df.loc[row_index:, 'total_active_power'][filled_df.loc[row_index:, 'total_active_power'] == 0].index.min()\n",
    "\n",
    "        #kraj rada bojlera\n",
    "        bottom_end = bottom_zero_index-1\n",
    "        end_time = filled_df.loc[bottom_end,'time']\n",
    "        if(end_time-row['time']>mean):\n",
    "            return 0\n",
    "        else:\n",
    "            return bottom_value\n",
    "        #od gore se puni nulama, od dolje vrijednosti bottom value sve dok je row['time']\n",
    "    elif(top_value>0 and bottom_value==0):\n",
    "        #trebam vrijednost nakon prve nule iznad, da znam do kad bojler radi\n",
    "        #ovo je prva nula iznad\n",
    "        #top_zero_index = filled_df[filled_df.loc[:row_index, 'total_active_power']==0].index.max()\n",
    "        top_zero_index = filled_df.loc[:row_index, 'total_active_power'][filled_df.loc[:row_index, 'total_active_power'] == 0].index.max()\n",
    "\n",
    "        #kraj rada bojlera\n",
    "        top_start = top_zero_index+1\n",
    "        start_time = filled_df.loc[top_start,'time']\n",
    "        if(row['time'] - start_time > mean):\n",
    "            return 0\n",
    "        else:\n",
    "            return top_value\n",
    "    #obje strane su vece od nula\n",
    "    else:\n",
    "        #nadem gornji pocetak i donji kraj i vidim hoce li preci granicu maksimuma\n",
    "        #bottom_zero_index = filled_df[filled_df.loc[row_index:, 'total_active_power']==0].index.min()\n",
    "        bottom_zero_index = filled_df.loc[row_index:, 'total_active_power'][filled_df.loc[row_index:, 'total_active_power'] == 0].index.min()\n",
    "        #kraj rada bojlera\n",
    "        bottom_end = bottom_zero_index-1\n",
    "        end_time = filled_df.loc[bottom_end,'time']\n",
    "        #top_zero_index = filled_df[filled_df.loc[:row_index, 'total_active_power']==0].index.max()\n",
    "        top_zero_index = filled_df.loc[:row_index, 'total_active_power'][filled_df.loc[:row_index, 'total_active_power'] == 0].index.max()\n",
    "        #kraj rada bojlera\n",
    "        top_start = top_zero_index+1\n",
    "        start_time = filled_df.loc[top_start,'time']\n",
    "        print(start_time, end_time)\n",
    "        if(end_time-start_time>maximum):\n",
    "            #preveliko je, trebat ce razdijeliti\n",
    "            if(row['time'] - start_time < mean):\n",
    "                #ako sam blize gornjoj granici i nije se preslo prosjek\n",
    "                return top_value\n",
    "            elif(end_time - row['time'] < mean):\n",
    "                #blize donjoj granici i nije preslo dozvoljeno vrijeme\n",
    "                return bottom_value\n",
    "            else:\n",
    "                return 0\n",
    "        else:\n",
    "            #ok je, mogu popuniti radom bojlera\n",
    "            return (bottom_value+top_value)/2"
   ],
   "metadata": {
    "collapsed": false,
    "ExecuteTime": {
     "end_time": "2024-01-24T13:56:03.748214900Z",
     "start_time": "2024-01-24T13:56:03.732302200Z"
    }
   },
   "id": "e32644299eef8e09"
  },
  {
   "cell_type": "code",
   "execution_count": 193,
   "outputs": [],
   "source": [
    "filled_df.loc[filled_df['gap_type'] == 2, 'filled_power'] = filled_df[filled_df['gap_type'] == 2].apply(fill_medium_gaps, axis=1)\n"
   ],
   "metadata": {
    "collapsed": false,
    "ExecuteTime": {
     "end_time": "2024-01-24T13:56:08.033213300Z",
     "start_time": "2024-01-24T13:56:07.970469Z"
    }
   },
   "id": "bb9cf20aeb8f471"
  },
  {
   "cell_type": "code",
   "execution_count": 194,
   "outputs": [
    {
     "data": {
      "text/plain": "Empty DataFrame\nColumns: [time, total_active_power, gap_type, filled_power]\nIndex: []",
      "text/html": "<div>\n<style scoped>\n    .dataframe tbody tr th:only-of-type {\n        vertical-align: middle;\n    }\n\n    .dataframe tbody tr th {\n        vertical-align: top;\n    }\n\n    .dataframe thead th {\n        text-align: right;\n    }\n</style>\n<table border=\"1\" class=\"dataframe\">\n  <thead>\n    <tr style=\"text-align: right;\">\n      <th></th>\n      <th>time</th>\n      <th>total_active_power</th>\n      <th>gap_type</th>\n      <th>filled_power</th>\n    </tr>\n  </thead>\n  <tbody>\n  </tbody>\n</table>\n</div>"
     },
     "execution_count": 194,
     "metadata": {},
     "output_type": "execute_result"
    }
   ],
   "source": [
    "filled_df[filled_df['gap_type']==2]\n"
   ],
   "metadata": {
    "collapsed": false,
    "ExecuteTime": {
     "end_time": "2024-01-24T13:56:09.757797800Z",
     "start_time": "2024-01-24T13:56:09.735674300Z"
    }
   },
   "id": "3d55bce78e89334e"
  },
  {
   "cell_type": "code",
   "execution_count": 197,
   "outputs": [
    {
     "data": {
      "text/plain": "<Figure size 1000x600 with 1 Axes>",
      "image/png": "[encoded data removed]"
     },
     "metadata": {},
     "output_type": "display_data"
    }
   ],
   "source": [
    "plt.figure(figsize=(10, 6))\n",
    "date_range_list= (filled_df['time'] >= pd.to_datetime('2023-11-09 00:00:00')) & (filled_df['time'] <= pd.to_datetime('2023-11-11 00:00:00'))\n",
    "normal_list = filled_df['gap_type'].isna() & date_range_list\n",
    "gaps_list = filled_df['gap_type'].notna() & date_range_list\n",
    "#normal_list = filled_df['gap_type'].isna()\n",
    "#gaps_list = filled_df['gap_type'].notna()\n",
    "plt.scatter(filled_df.loc[normal_list, 'time'], filled_df.loc[normal_list,'total_active_power'], label='Stare vrijednosti', color='blue')\n",
    "plt.scatter(filled_df.loc[gaps_list,'time'], filled_df.loc[gaps_list, 'filled_power'], label='Popunjene vrijednosti', color='red')\n",
    "\n",
    "\n",
    "plt.title('Popunjene rupe')\n",
    "plt.xlabel('Vrijeme')\n",
    "plt.xticks(rotation=45)\n",
    "plt.grid(True)\n",
    "plt.legend(loc='center right')\n",
    "plt.savefig(\"9-11.11_2023_popunjen.png\", dpi=600, bbox_inches='tight')\n",
    "plt.show()"
   ],
   "metadata": {
    "collapsed": false,
    "ExecuteTime": {
     "end_time": "2024-01-24T13:59:17.904664Z",
     "start_time": "2024-01-24T13:59:13.688019200Z"
    }
   },
   "id": "ba17205600d7a6a6"
  },
  {
   "cell_type": "code",
   "execution_count": 203,
   "outputs": [
    {
     "data": {
      "text/plain": "                       time  total_active_power  gap_type  filled_power  \\\n62961   2023-11-02 12:26:47                 NaN       1.0           0.0   \n361928  2023-11-09 17:22:58                 NaN       1.0           0.0   \n403695  2023-11-10 17:32:10                 NaN       1.0           0.0   \n602785  2023-11-15 12:46:41                 NaN       NaN           NaN   \n602786  2023-11-15 12:46:43                 NaN       NaN           NaN   \n...                     ...                 ...       ...           ...   \n1197382 2023-11-30 23:59:44                 NaN       3.0           NaN   \n1197383 2023-11-30 23:59:47                 NaN       3.0           NaN   \n1197384 2023-11-30 23:59:50                 NaN       3.0           NaN   \n1197385 2023-11-30 23:59:53                 NaN       3.0           NaN   \n1197386 2023-11-30 23:59:56                 NaN       3.0           NaN   \n\n         combined_power  \n62961               0.0  \n361928              0.0  \n403695              0.0  \n602785              NaN  \n602786              NaN  \n...                 ...  \n1197382             NaN  \n1197383             NaN  \n1197384             NaN  \n1197385             NaN  \n1197386             NaN  \n\n[106894 rows x 5 columns]",
      "text/html": "<div>\n<style scoped>\n    .dataframe tbody tr th:only-of-type {\n        vertical-align: middle;\n    }\n\n    .dataframe tbody tr th {\n        vertical-align: top;\n    }\n\n    .dataframe thead th {\n        text-align: right;\n    }\n</style>\n<table border=\"1\" class=\"dataframe\">\n  <thead>\n    <tr style=\"text-align: right;\">\n      <th></th>\n      <th>time</th>\n      <th>total_active_power</th>\n      <th>gap_type</th>\n      <th>filled_power</th>\n      <th>combined_power</th>\n    </tr>\n  </thead>\n  <tbody>\n    <tr>\n      <th>62961</th>\n      <td>2023-11-02 12:26:47</td>\n      <td>NaN</td>\n      <td>1.0</td>\n      <td>0.0</td>\n      <td>0.0</td>\n    </tr>\n    <tr>\n      <th>361928</th>\n      <td>2023-11-09 17:22:58</td>\n      <td>NaN</td>\n      <td>1.0</td>\n      <td>0.0</td>\n      <td>0.0</td>\n    </tr>\n    <tr>\n      <th>403695</th>\n      <td>2023-11-10 17:32:10</td>\n      <td>NaN</td>\n      <td>1.0</td>\n      <td>0.0</td>\n      <td>0.0</td>\n    </tr>\n    <tr>\n      <th>602785</th>\n      <td>2023-11-15 12:46:41</td>\n      <td>NaN</td>\n      <td>NaN</td>\n      <td>NaN</td>\n      <td>NaN</td>\n    </tr>\n    <tr>\n      <th>602786</th>\n      <td>2023-11-15 12:46:43</td>\n      <td>NaN</td>\n      <td>NaN</td>\n      <td>NaN</td>\n      <td>NaN</td>\n    </tr>\n    <tr>\n      <th>...</th>\n      <td>...</td>\n      <td>...</td>\n      <td>...</td>\n      <td>...</td>\n      <td>...</td>\n    </tr>\n    <tr>\n      <th>1197382</th>\n      <td>2023-11-30 23:59:44</td>\n      <td>NaN</td>\n      <td>3.0</td>\n      <td>NaN</td>\n      <td>NaN</td>\n    </tr>\n    <tr>\n      <th>1197383</th>\n      <td>2023-11-30 23:59:47</td>\n      <td>NaN</td>\n      <td>3.0</td>\n      <td>NaN</td>\n      <td>NaN</td>\n    </tr>\n    <tr>\n      <th>1197384</th>\n      <td>2023-11-30 23:59:50</td>\n      <td>NaN</td>\n      <td>3.0</td>\n      <td>NaN</td>\n      <td>NaN</td>\n    </tr>\n    <tr>\n      <th>1197385</th>\n      <td>2023-11-30 23:59:53</td>\n      <td>NaN</td>\n      <td>3.0</td>\n      <td>NaN</td>\n      <td>NaN</td>\n    </tr>\n    <tr>\n      <th>1197386</th>\n      <td>2023-11-30 23:59:56</td>\n      <td>NaN</td>\n      <td>3.0</td>\n      <td>NaN</td>\n      <td>NaN</td>\n    </tr>\n  </tbody>\n</table>\n<p>106894 rows × 5 columns</p>\n</div>"
     },
     "execution_count": 203,
     "metadata": {},
     "output_type": "execute_result"
    }
   ],
   "source": [
    "#sad zelimo napravit ope tgraf rupa ali tako da uzima i filled_power u obzir\n",
    "def combine_power(row):\n",
    "    if pd.isna(row['total_active_power']) and pd.isna(row['filled_power']):\n",
    "        return np.nan\n",
    "    else:\n",
    "        return row['filled_power'] if pd.notna(row['filled_power']) else row['total_active_power']\n",
    "\n",
    "# Apply the custom function to create 'combined_power' column\n",
    "filled_df['combined_power'] = filled_df.apply(combine_power, axis=1)\n",
    "filled_df[filled_df['total_active_power'].isna()]\n"
   ],
   "metadata": {
    "collapsed": false,
    "ExecuteTime": {
     "end_time": "2024-01-24T14:04:58.567194900Z",
     "start_time": "2024-01-24T14:04:42.679572300Z"
    }
   },
   "id": "8128d9e177f15394"
  },
  {
   "cell_type": "code",
   "execution_count": 205,
   "outputs": [],
   "source": [
    "novipodaci = filled_df[filled_df['combined_power'].notna()]\n",
    "novipodaci.to_csv('11_2023_popunjen')"
   ],
   "metadata": {
    "collapsed": false,
    "ExecuteTime": {
     "end_time": "2024-01-24T14:10:08.268466400Z",
     "start_time": "2024-01-24T14:10:03.326878700Z"
    }
   },
   "id": "31b7634a71cfaead"
  },
  {
   "cell_type": "code",
   "execution_count": 2,
   "outputs": [],
   "source": [
    "def create_graph(ax, all_timestamps, beginning, end, month, interval_list, step, pctg):\n",
    "    ax.plot(all_timestamps, interval_list, linewidth=0.1)\n",
    "    tick_positions = pd.date_range(start=beginning, end=end, freq='2D')\n",
    "    ax.set_xticks(tick_positions)\n",
    "    ax.set_xticklabels([timestamp.strftime('%Y-%m-%d') for timestamp in tick_positions], rotation=45, ha='right',\n",
    "                       fontsize=8)\n",
    "\n",
    "    ax.set_xlabel('Timestamp', fontsize=10)\n",
    "    ax.set_ylabel('1 - rupa, 0 - zapis')\n",
    "    ax.set_title(\"rupa:>{}s, postotak:{}%\".format(int(step.total_seconds()), round(pctg, 2)))\n",
    "\n",
    "    #fig.set_size_inches(20, 6)  # Adjust the width and height as needed\n",
    "    #plt.savefig(\"{}m_graph.png\".format(month), dpi=600, bbox_inches='tight')\n",
    "    return\n",
    "\n",
    "\n",
    "def make_graph(month, year, steps, save):\n",
    "    print(\"{}. mjesec\".format(month))\n",
    "    end, beginning = get_limits(month, year)\n",
    "    #generiranje svih 'trenutaka' u mjesecu kad bi podaci trebali biti upisani\n",
    "    all_timestamps = generate_all_timestamps(beginning, end, '1S')\n",
    "    #stvaranje novog prozora za novi mjesec\n",
    "    fig, ax = plt.subplots(nrows=1, ncols=len(steps), figsize=(20, 5))\n",
    "    fig.suptitle(\"{}. mjesec {}.\".format(month, year))\n",
    "    k = 0\n",
    "    for step in steps:\n",
    "        df = obrada(month, year, step)\n",
    "        #true za trenutke koji su u rupi, false za one koji nisu\n",
    "        interval_list = check_holes_better(all_timestamps, df, beginning)\n",
    "        percentage = interval_list.count(True) / len(interval_list) * 100\n",
    "        print(\"Postotak rupa: {} %, rupa: {}\".format(round(percentage, 2), step))\n",
    "        #stvaranje grafa\n",
    "        if len(steps) == 1:\n",
    "            create_graph(ax, all_timestamps, beginning, end, month, interval_list, step, percentage)\n",
    "        else:\n",
    "            create_graph(ax[k], all_timestamps, beginning, end, month, interval_list, step, percentage)\n",
    "        k += 1\n",
    "    #plt.title(\"{}. mjesec\".format(month))\n",
    "    if save:\n",
    "        plt.savefig(\"{}_{}_graph.png\".format(month, year), dpi=600, bbox_inches='tight')\n",
    "    plt.show()\n",
    "    return"
   ],
   "metadata": {
    "collapsed": false,
    "ExecuteTime": {
     "end_time": "2024-01-24T14:33:29.501888800Z",
     "start_time": "2024-01-24T14:33:29.454980800Z"
    }
   },
   "id": "3eae29cda5db8f25"
  },
  {
   "cell_type": "code",
   "execution_count": 3,
   "outputs": [
    {
     "name": "stdout",
     "output_type": "stream",
     "text": [
      "11. mjesec\n",
      "           start-time            end-time        duration\n",
      "0 2023-11-15 12:46:39 2023-11-15 12:46:45 0 days 00:00:06\n",
      "1 2023-11-23 09:01:30 2023-11-26 02:05:30 2 days 17:04:00\n",
      "2 2023-11-29 23:59:59 2023-11-30 23:59:59 1 days 00:00:00\n",
      "Postotak rupa: 12.37 %, rupa: 0 days 00:00:03\n"
     ]
    },
    {
     "data": {
      "text/plain": "<Figure size 2000x500 with 1 Axes>",
      "image/png": "[encoded data removed]"
     },
     "metadata": {},
     "output_type": "display_data"
    }
   ],
   "source": [
    "make_graph(11,2023,[pd.to_timedelta('00:00:03')], True)"
   ],
   "metadata": {
    "collapsed": false,
    "ExecuteTime": {
     "end_time": "2024-01-24T14:34:01.289149900Z",
     "start_time": "2024-01-24T14:33:31.430365700Z"
    }
   },
   "id": "3f39dc3615fafc18"
  }
 ],
 "metadata": {
  "kernelspec": {
   "display_name": "Python 3",
   "language": "python",
   "name": "python3"
  },
  "language_info": {
   "codemirror_mode": {
    "name": "ipython",
    "version": 2
   },
   "file_extension": ".py",
   "mimetype": "text/x-python",
   "name": "python",
   "nbconvert_exporter": "python",
   "pygments_lexer": "ipython2",
   "version": "2.7.6"
  }
 },
 "nbformat": 4,
 "nbformat_minor": 5
}
